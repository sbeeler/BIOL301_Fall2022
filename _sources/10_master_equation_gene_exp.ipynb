{
 "cells": [
  {
   "cell_type": "markdown",
   "metadata": {},
   "source": [
    "# Week 10: Master equations applied to gene expression\n",
    "\n",
    "<hr>"
   ]
  },
  {
   "cell_type": "code",
   "execution_count": 4,
   "metadata": {
    "tags": []
   },
   "outputs": [],
   "source": [
    "import numpy as np\n",
    "import numba\n",
    "import random\n",
    "import matplotlib.pyplot as plt\n",
    "import scipy.integrate\n",
    "\n",
    "import seaborn as sns\n",
    "sns.set(font_scale = 1.5, rc={\"lines.linewidth\":2})"
   ]
  },
  {
   "cell_type": "markdown",
   "metadata": {},
   "source": [
    "## Returning to gene expression\n",
    "\n",
    "Returning to our model of gene expression, the differential equation for the number of mRNAs is:\n",
    "\n",
    "   $$\\frac{dm}{dt} = \\beta - \\gamma m$$\n",
    "   \n",
    "where $\\beta$ is the rate of production and $\\gamma$ is the rate of degradation. We can similarly treat this differential equation as with a Master equation approach, were we will be keep track of all the probabilities of having given numbers of mRNAs over time. This time our \"boxes\" will be the number of mRNAs rather than a physical position. \n",
    "\n",
    "In this scenario, a production event will result in the loss of probability from an $m-1$ number of mRNAs and gain of probability in the $m$ number of mRNAs. Conversely, a degradation event results in the loss of probability from an $m+1$ number of mRNAs and a gain of probability in the $m$ number of mRNAs. All the possible terms are spelled out below. "
   ]
  },
  {
   "cell_type": "markdown",
   "metadata": {},
   "source": [
    "## Master equation for constitutive gene expression\n",
    "\n",
    "The master equation below describes the dynamics of mRNA counts\n",
    "where $p(m, t)$ is the probability that the cell has $m$ mRNAs at time $t$ and $\\Delta t$ is the time increment that we'll use in numerical integration.\n",
    "\n",
    "$$\n",
    "\\overbrace{p(m, t+\\Delta t)}^{\\text {new probability }}=\n",
    "\\underbrace{p(m, t)}_{\\text {old probability }} +\n",
    "\\overbrace{\\beta \\Delta t p(m-1, t)}^{\\text {production from lower state }} + \n",
    "\\underbrace{\\gamma(m+1) \\Delta t p(m+1, t)}_{\\text {degradation from upper state }} -\n",
    "\\overbrace{\\beta \\Delta t p(m, t)}^{\\text {production out of this state }} -\n",
    "\\underbrace{\\gamma m \\Delta t p(m, t)}_{\\text {degradation out of this state }},\n",
    "$$\n",
    "\n",
    "Like in the case of diffusion, here too we need to specify the boundary conditions for the master equation, namely\n",
    "\n",
    "$$\n",
    "\\overbrace{p(0, t+\\Delta t)}^{\\text {new probability }}=\n",
    "\\underbrace{p(0, t)}_{\\text {old probability }}+\n",
    "\\overbrace{\\gamma \\Delta t p(1, t)}^{\\text {degradation from upper state }}-\n",
    "\\underbrace{\\beta \\Delta t p(0, t)}_{\\text {production out of this state }}\n",
    "$$\n",
    "\n",
    "for $m=0$ (where we aren't allowed to have any degradation) and\n",
    "\n",
    "$$\n",
    "\\overbrace{p(M, t+\\Delta t)}^{\\text {new probability }}=\n",
    "\\underbrace{p(M, t)}_{\\text {old probability }}+\n",
    "\\overbrace{\\beta \\Delta t p(M-1, t)}^{\\text {production from lower state }}-\n",
    "\\underbrace{\\gamma M \\Delta t p(M, t)}_{\\text {degradation out of this state }}\n",
    "$$\n",
    "\n",
    "for the $m=M$, the largest number of mRNAs that we will allow, since can only simulate a finite number of possible mRNA counts. In practice, choosing a value for $M$ that is several times larger than the mean number of mRNAs will be sufficient to ensure accurate estimates."
   ]
  },
  {
   "cell_type": "markdown",
   "metadata": {},
   "source": [
    "## Coding it up\n",
    "\n",
    "Below I give the parameters we will use for the integration. "
   ]
  },
  {
   "cell_type": "code",
   "execution_count": 2,
   "metadata": {},
   "outputs": [],
   "source": [
    "# time step\n",
    "dt = 0.1 # min\n",
    "\n",
    "# mRNA production rate\n",
    "r = 0.5 # min^-1\n",
    "\n",
    "# degradation rate\n",
    "gamma = 0.1 # min^-1\n",
    "\n",
    "# max number of mRNAs we will compute probabilities for\n",
    "M = 20\n",
    "\n",
    "# number of steps\n",
    "n_steps = 200\n",
    "\n",
    "# array to store mRNA probabilities\n",
    "p = np.zeros([M, n_steps])\n",
    "\n",
    "# probability at t=0\n",
    "p [0,0] = 1"
   ]
  },
  {
   "cell_type": "markdown",
   "metadata": {},
   "source": [
    "Code up the Master equation integration here. Remember to specify the edge cases as well!"
   ]
  },
  {
   "cell_type": "code",
   "execution_count": null,
   "metadata": {},
   "outputs": [],
   "source": []
  },
  {
   "cell_type": "markdown",
   "metadata": {},
   "source": [
    "Check out the plot of your results over time below:"
   ]
  },
  {
   "cell_type": "code",
   "execution_count": 3,
   "metadata": {},
   "outputs": [
    {
     "data": {
      "image/png": "[encoded data removed]",
      "text/plain": [
       "<Figure size 1440x360 with 3 Axes>"
      ]
     },
     "metadata": {
      "needs_background": "light"
     },
     "output_type": "display_data"
    }
   ],
   "source": [
    "fig, ax = plt.subplots(1, 3, figsize=(20,5))\n",
    "\n",
    "ax[0].bar(np.arange(M), p[:,0])\n",
    "ax[0].set_xlabel(\"box position\")\n",
    "ax[0].set_ylabel(\"probability\");\n",
    "\n",
    "ax[1].bar(np.arange(M), p[:,99])\n",
    "ax[1].set_xlabel(\"box position\")\n",
    "\n",
    "ax[2].bar(np.arange(M), p[:,199])\n",
    "ax[2].set_xlabel(\"box position\");"
   ]
  },
  {
   "cell_type": "code",
   "execution_count": null,
   "metadata": {},
   "outputs": [],
   "source": []
  }
 ],
 "metadata": {
  "kernelspec": {
   "display_name": "Python 3 (ipykernel)",
   "language": "python",
   "name": "python3"
  },
  "language_info": {
   "codemirror_mode": {
    "name": "ipython",
    "version": 3
   },
   "file_extension": ".py",
   "mimetype": "text/x-python",
   "name": "python",
   "nbconvert_exporter": "python",
   "pygments_lexer": "ipython3",
   "version": "3.7.13"
  }
 },
 "nbformat": 4,
 "nbformat_minor": 4
}
