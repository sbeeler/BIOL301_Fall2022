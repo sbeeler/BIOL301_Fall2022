{
 "cells": [
  {
   "cell_type": "markdown",
   "id": "52e992bf-4d04-416d-a5c0-5721fa9dccef",
   "metadata": {},
   "source": [
    "# Week 1: Navigating a Jupyter Notebook\n",
    "\n",
    "<hr/>"
   ]
  },
  {
   "cell_type": "code",
   "execution_count": 4,
   "id": "67e9ea3e-fd18-4cae-8dba-2543552ceecd",
   "metadata": {},
   "outputs": [],
   "source": [
    "import pandas as pd\n",
    "from IPython.core.display import Image"
   ]
  },
  {
   "cell_type": "markdown",
   "id": "267c5128-9a74-48d8-93d4-cee8809aed47",
   "metadata": {},
   "source": [
    "Below, we'll work through some of the key pieces we would like to use in Jupyter Notebooks. Many aspects will be similar to our work in Colab, but I hope you'll find it more user-friendly!\n",
    "\n",
    "# Loading in files\n",
    "\n",
    "Below we can open a `csv` file by specifying where the file exists *relative* to the notebook we are working in. As a standard, we will keep our data files in a `data` folder, so the path will be of the form `data/file_of_interest`. \n",
    "\n",
    "No need for uploads or permissions! Just place the data where you can find it, and you can code to your heart's content."
   ]
  },
  {
   "cell_type": "code",
   "execution_count": 9,
   "id": "9cf125da-0014-449f-a0ee-531e057b1eac",
   "metadata": {},
   "outputs": [
    {
     "data": {
      "text/html": [
       "<div>\n",
       "<style scoped>\n",
       "    .dataframe tbody tr th:only-of-type {\n",
       "        vertical-align: middle;\n",
       "    }\n",
       "\n",
       "    .dataframe tbody tr th {\n",
       "        vertical-align: top;\n",
       "    }\n",
       "\n",
       "    .dataframe thead th {\n",
       "        text-align: right;\n",
       "    }\n",
       "</style>\n",
       "<table border=\"1\" class=\"dataframe\">\n",
       "  <thead>\n",
       "    <tr style=\"text-align: right;\">\n",
       "      <th></th>\n",
       "      <th>sepal.length</th>\n",
       "      <th>sepal.width</th>\n",
       "      <th>petal.length</th>\n",
       "      <th>petal.width</th>\n",
       "      <th>variety</th>\n",
       "    </tr>\n",
       "  </thead>\n",
       "  <tbody>\n",
       "    <tr>\n",
       "      <th>0</th>\n",
       "      <td>5.1</td>\n",
       "      <td>3.5</td>\n",
       "      <td>1.4</td>\n",
       "      <td>0.2</td>\n",
       "      <td>Setosa</td>\n",
       "    </tr>\n",
       "    <tr>\n",
       "      <th>1</th>\n",
       "      <td>4.9</td>\n",
       "      <td>3.0</td>\n",
       "      <td>1.4</td>\n",
       "      <td>0.2</td>\n",
       "      <td>Setosa</td>\n",
       "    </tr>\n",
       "    <tr>\n",
       "      <th>2</th>\n",
       "      <td>4.7</td>\n",
       "      <td>3.2</td>\n",
       "      <td>1.3</td>\n",
       "      <td>0.2</td>\n",
       "      <td>Setosa</td>\n",
       "    </tr>\n",
       "    <tr>\n",
       "      <th>3</th>\n",
       "      <td>4.6</td>\n",
       "      <td>3.1</td>\n",
       "      <td>1.5</td>\n",
       "      <td>0.2</td>\n",
       "      <td>Setosa</td>\n",
       "    </tr>\n",
       "    <tr>\n",
       "      <th>4</th>\n",
       "      <td>5.0</td>\n",
       "      <td>3.6</td>\n",
       "      <td>1.4</td>\n",
       "      <td>0.2</td>\n",
       "      <td>Setosa</td>\n",
       "    </tr>\n",
       "  </tbody>\n",
       "</table>\n",
       "</div>"
      ],
      "text/plain": [
       "   sepal.length  sepal.width  petal.length  petal.width variety\n",
       "0           5.1          3.5           1.4          0.2  Setosa\n",
       "1           4.9          3.0           1.4          0.2  Setosa\n",
       "2           4.7          3.2           1.3          0.2  Setosa\n",
       "3           4.6          3.1           1.5          0.2  Setosa\n",
       "4           5.0          3.6           1.4          0.2  Setosa"
      ]
     },
     "execution_count": 9,
     "metadata": {},
     "output_type": "execute_result"
    }
   ],
   "source": [
    "df = pd.read_csv(\"data/iris.txt\")\n",
    "df.head()"
   ]
  },
  {
   "cell_type": "markdown",
   "id": "f1cc8681-3a61-4bb8-9273-00ce63d19559",
   "metadata": {},
   "source": [
    "# Embedding images\n",
    "\n",
    "For some of our problems, we may want to have a sketch or drawing that we would like to include. To this:\n",
    "- Make a new cell\n",
    "- Change it to a Markdown cell\n",
    "- Click and drag the image you'd like into the cell\n",
    "- Hit `Shift` + `Enter`"
   ]
  },
  {
   "attachments": {
    "8e755c6e-863c-48e2-8473-8b980fc50572.jpg": {
     "image/jpeg": "[encoded data removed]"
    }
   },
   "cell_type": "markdown",
   "id": "3dcb6360-48b3-47b6-84f1-90e622d2d891",
   "metadata": {},
   "source": [
    "![limit_cycles.jpg](attachment:8e755c6e-863c-48e2-8473-8b980fc50572.jpg)"
   ]
  },
  {
   "cell_type": "markdown",
   "id": "b62e1081-fb96-46fc-8020-32018e637a28",
   "metadata": {},
   "source": [
    "For practice, display an image of your choice below! Make sure you place the image in the `images` folder, so you can access it."
   ]
  },
  {
   "cell_type": "markdown",
   "id": "06434312-46b7-4397-a0d1-3ffe0fb5a424",
   "metadata": {},
   "source": [
    "## Typesetting equations\n",
    "\n",
    "Lastly, we will want to be able to write equations as we mathematically describe biological systems. Below we will get some practice with $\\LaTeX$:"
   ]
  },
  {
   "cell_type": "code",
   "execution_count": null,
   "id": "adebf9a9-c205-4008-9a1c-76f895eb070f",
   "metadata": {},
   "outputs": [],
   "source": []
  },
  {
   "cell_type": "markdown",
   "id": "6b7af4a6-bbc1-4f06-8968-9dea225ca03e",
   "metadata": {},
   "source": [
    "## Submitting your in class work\n",
    "\n",
    "Go to `File` --> `Save and Export Notebook As` --> HTML.\n",
    "\n",
    "Upload this file to Canvas.\n",
    "\n",
    "(If you were working in colab today, you can instead submit a `.ipynb` file.)"
   ]
  }
 ],
 "metadata": {
  "kernelspec": {
   "display_name": "Python 3 (ipykernel)",
   "language": "python",
   "name": "python3"
  },
  "language_info": {
   "codemirror_mode": {
    "name": "ipython",
    "version": 3
   },
   "file_extension": ".py",
   "mimetype": "text/x-python",
   "name": "python",
   "nbconvert_exporter": "python",
   "pygments_lexer": "ipython3",
   "version": "3.7.13"
  }
 },
 "nbformat": 4,
 "nbformat_minor": 5
}
