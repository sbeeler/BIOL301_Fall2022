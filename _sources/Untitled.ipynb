{
 "cells": [
  {
   "cell_type": "code",
   "execution_count": 2,
   "id": "5232c29f-1ffe-4550-8eaf-704c1d6bd07e",
   "metadata": {},
   "outputs": [],
   "source": [
    "import numpy as np"
   ]
  },
  {
   "cell_type": "code",
   "execution_count": 4,
   "id": "72e91d14-6a1d-4f75-abe6-09aebf863c28",
   "metadata": {},
   "outputs": [],
   "source": [
    "def make_change(target, denominations):\n",
    "    \n",
    "    # base case for 0 target\n",
    "    if target == 0:\n",
    "        return 0\n",
    "    \n",
    "    # base case for no denominations left\n",
    "    elif denominations == []:\n",
    "        return np.inf\n",
    "    \n",
    "    # make sure we don't go to a negative target\n",
    "    elif denominations[0] > target:\n",
    "        return make_change(target, denominations[1:])\n",
    "    \n",
    "    else:\n",
    "        use_it = 1 + make_change(target-denominations[0], denominations)\n",
    "        lose_it = make_change(target, denominations[1:])\n",
    "        return min(use_it, lose_it)"
   ]
  },
  {
   "cell_type": "code",
   "execution_count": 5,
   "id": "75c6c661-8f34-40cc-ae87-443795a713fd",
   "metadata": {},
   "outputs": [
    {
     "data": {
      "text/plain": [
       "2"
      ]
     },
     "execution_count": 5,
     "metadata": {},
     "output_type": "execute_result"
    }
   ],
   "source": [
    "make_change(48, [60,28,24,12,6,3,1])"
   ]
  },
  {
   "cell_type": "code",
   "execution_count": null,
   "id": "e02a061f-b319-4fc1-8fd3-216927251a07",
   "metadata": {},
   "outputs": [],
   "source": []
  },
  {
   "cell_type": "code",
   "execution_count": 1,
   "id": "36435633-7d9d-4d14-8068-082f4eab7754",
   "metadata": {},
   "outputs": [
    {
     "data": {
      "text/plain": [
       "0"
      ]
     },
     "execution_count": 1,
     "metadata": {},
     "output_type": "execute_result"
    }
   ],
   "source": []
  }
 ],
 "metadata": {
  "kernelspec": {
   "display_name": "Python 3 (ipykernel)",
   "language": "python",
   "name": "python3"
  },
  "language_info": {
   "codemirror_mode": {
    "name": "ipython",
    "version": 3
   },
   "file_extension": ".py",
   "mimetype": "text/x-python",
   "name": "python",
   "nbconvert_exporter": "python",
   "pygments_lexer": "ipython3",
   "version": "3.7.13"
  }
 },
 "nbformat": 4,
 "nbformat_minor": 5
}
