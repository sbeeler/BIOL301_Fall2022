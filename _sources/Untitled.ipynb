{
 "cells": [
  {
   "cell_type": "code",
   "execution_count": 19,
   "id": "aff10da4-b506-403e-8e97-49c771053e0a",
   "metadata": {},
   "outputs": [],
   "source": [
    "import numpy as np"
   ]
  },
  {
   "cell_type": "markdown",
   "id": "4af8c8a8-eebf-442f-ad45-b4e0b08b92e8",
   "metadata": {},
   "source": [
    "Some functions that we might want to use: "
   ]
  },
  {
   "cell_type": "code",
   "execution_count": 2,
   "id": "72e91d14-6a1d-4f75-abe6-09aebf863c28",
   "metadata": {},
   "outputs": [],
   "source": [
    "def LCS(seq1, seq2):\n",
    "    \n",
    "    # base case 1\n",
    "    if seq1 == \"\":\n",
    "        return 0\n",
    "    \n",
    "    # base case 2\n",
    "    elif seq2 == \"\":\n",
    "        return 0\n",
    "    \n",
    "    # make a match while we can\n",
    "    elif seq1[0] == seq2[0]:\n",
    "        return 1 + LCS(seq1[1:], seq2[1:])\n",
    "    \n",
    "    # recurse on the two possible sub-problems\n",
    "    else:\n",
    "        lose1 = LCS(seq1, seq2[1:])\n",
    "        lose2 = LCS(seq1[1:], seq2)\n",
    "        \n",
    "        return max(lose1, lose2)   "
   ]
  },
  {
   "cell_type": "code",
   "execution_count": 22,
   "id": "caf0fc60-0cbf-41e1-91cf-96071d6660cf",
   "metadata": {},
   "outputs": [],
   "source": [
    "def differences(seq1, seq2):\n",
    "    \n",
    "    count = 0\n",
    "    \n",
    "    for i in range(len(seq1)):\n",
    "        if seq1[i] != seq2[i]:\n",
    "            count += 1\n",
    "            \n",
    "    return count"
   ]
  },
  {
   "cell_type": "markdown",
   "id": "6011a3cc-7650-42b6-8712-f46359c0be64",
   "metadata": {},
   "source": [
    "The sequences we want to compare:"
   ]
  },
  {
   "cell_type": "code",
   "execution_count": 66,
   "id": "36435633-7d9d-4d14-8068-082f4eab7754",
   "metadata": {},
   "outputs": [],
   "source": [
    "human =   \"MVLSPADKTNVKAAWGKVGAHAGEYGAEALERMFLSFPTTKTYFPHF.DLSHGSAQVKGHGKKVADALTNAVAHVDDMPNALSALSDLHAHKLRVDPVNFKLLSHCLLVTLAAHLPAEFTPAVHASLDKFLASVSTVLTSKYR\"\n",
    "chimp =   \"MVLSPADKTNVKAAWGKVGAHAGEYGAEALERMFLSFPTTKTYFPHF.DLSHGSAQVKGHGKKVADALTNAVAHVDDMPNALSALSDLHAHKLRVDPVNFKLLSHCLLVTLAAHLPAEFTPAVHASLDKFLASVSTVLTSKYR\"\n",
    "gorilla = \".VLSPADKTNVKAAWGKVGAHAGDYGAEALERMFLSFPTTKTYFPHF.DLSHGSAQVKGHGKKVADALTNAVAHVDDMPNALSALSDLHAHKLRVDPVNFKLLSHCLLVTLAAHLPAEFTPAVHASLDKFLASVSTVLTSKYR\"\n",
    "cow =     \"MVLSAADKGNVKAAWGKVGGHAAEYGAEALERMFLSFPTTKTYFPHF.DLSHGSAQVKGHGAKVAAALTKAVEHLDDLPGALSELSDLHAHKLRVDPVNFKLLSHSLLVTLASHLPSDFTPAVHASLDKFLANVSTVLTSKYR\"\n",
    "horse =   \"MVLSAADKTNVKAAWSKVGGHAGEYGAEALERMFLGFPTTKTYFPHF.DLSHGSAQVKAHGKKVGDALTLAVGHLDDLPGALSNLSDLHAHKLRVDPVNFKLLSHCLLSTLAVHLPNDFTPAVHASLDKFLSSVSTVLTSKYR\"  \n",
    "donkey =  \"MVLSAADKTNVKAAWSKVGGNAGEFGAEALERMFLGFPTTKTYFPHF.DLSHGSAQVKAHGKKVGDALTLAVGHLDDLPGALSNLSDLHAHKLRVDPVNFKLLSHCLLSTLAVHLPNDFTPAVHASLDKFLSTVSTVLTSKYR\" \n",
    "rabbit =  \".VLSPADKTNIKTAWEKIGSHGGEYGAEAVERMFLGFPTTKTYFPHF.DFTHGSZQIKAHGKKVSEALTKAVGHLDDLPGALSTLSDLHAHKLRVDPVNFKLLSHCLLVTLANHHPSEFTPAVHASLDKFLANVSTVLTSKYR\"\n",
    "carp =    \"MSLSDKDKAAVKGLWAKISPKADDIGAEALGRMLTVYPQTKTYFAHWADLSPGSGPVKKHGKVIMGAVGDAVSKIDDLVGGLAALSELHAFKLRVDPANFKILAHNVIVVIGMLYPGDFPPEVHMSVDKFFQNLALALSEKYR\""
   ]
  },
  {
   "cell_type": "code",
   "execution_count": 73,
   "id": "d2ecbce7-6176-453d-ab11-3a1ffb9570e8",
   "metadata": {},
   "outputs": [],
   "source": [
    "animals = [carp, cow, donkey, horse, human, gorilla, rabbit]\n",
    "nodes = [\"carp\", \"cow\", \"donkey\", \"horse\", \"human\", \"gorilla\", \"rabbit\"]"
   ]
  },
  {
   "cell_type": "markdown",
   "id": "396b142f-5986-421f-b638-13d6e28fede2",
   "metadata": {},
   "source": [
    "## Step 1: Make a dictionary of differences"
   ]
  },
  {
   "cell_type": "code",
   "execution_count": 74,
   "id": "93c46693-47ab-4506-890c-92417ed47986",
   "metadata": {},
   "outputs": [
    {
     "data": {
      "text/plain": [
       "{('carp', 'cow'): 70,\n",
       " ('carp', 'donkey'): 71,\n",
       " ('carp', 'horse'): 71,\n",
       " ('carp', 'human'): 72,\n",
       " ('carp', 'gorilla'): 72,\n",
       " ('carp', 'rabbit'): 76,\n",
       " ('cow', 'carp'): 70,\n",
       " ('cow', 'donkey'): 19,\n",
       " ('cow', 'horse'): 17,\n",
       " ('cow', 'human'): 17,\n",
       " ('cow', 'gorilla'): 19,\n",
       " ('cow', 'rabbit'): 26,\n",
       " ('donkey', 'carp'): 71,\n",
       " ('donkey', 'cow'): 19,\n",
       " ('donkey', 'horse'): 3,\n",
       " ('donkey', 'human'): 20,\n",
       " ('donkey', 'gorilla'): 22,\n",
       " ('donkey', 'rabbit'): 26,\n",
       " ('horse', 'carp'): 71,\n",
       " ('horse', 'cow'): 17,\n",
       " ('horse', 'donkey'): 3,\n",
       " ('horse', 'human'): 17,\n",
       " ('horse', 'gorilla'): 19,\n",
       " ('horse', 'rabbit'): 24,\n",
       " ('human', 'carp'): 72,\n",
       " ('human', 'cow'): 17,\n",
       " ('human', 'donkey'): 20,\n",
       " ('human', 'horse'): 17,\n",
       " ('human', 'gorilla'): 2,\n",
       " ('human', 'rabbit'): 26,\n",
       " ('gorilla', 'carp'): 72,\n",
       " ('gorilla', 'cow'): 19,\n",
       " ('gorilla', 'donkey'): 22,\n",
       " ('gorilla', 'horse'): 19,\n",
       " ('gorilla', 'human'): 2,\n",
       " ('gorilla', 'rabbit'): 26,\n",
       " ('rabbit', 'carp'): 76,\n",
       " ('rabbit', 'cow'): 26,\n",
       " ('rabbit', 'donkey'): 26,\n",
       " ('rabbit', 'horse'): 24,\n",
       " ('rabbit', 'human'): 26,\n",
       " ('rabbit', 'gorilla'): 26}"
      ]
     },
     "execution_count": 74,
     "metadata": {},
     "output_type": "execute_result"
    }
   ],
   "source": [
    "diff_dict = {}\n",
    "\n",
    "for i, a in enumerate(animals):\n",
    "    for j, b in enumerate(animals):\n",
    "        if i != j:\n",
    "            diff = differences(a,b)\n",
    "            diff_dict[(nodes[i],nodes[j])] = diff\n",
    "        \n",
    "diff_dict"
   ]
  },
  {
   "cell_type": "markdown",
   "id": "ddf2a4cc-e51c-4c5c-a4f9-28e81f6185a3",
   "metadata": {},
   "source": [
    "## Step 2: Write a function that finds the two closest related organisms (i.e. a pair group)\n",
    "\n",
    "\n",
    "Your function should return the indices of the two most closely related organisms (i.e. 3 and 5). Make sure that it returns two unique values!"
   ]
  },
  {
   "cell_type": "code",
   "execution_count": 75,
   "id": "faeb3c37-bab3-4876-9764-f9de9988caef",
   "metadata": {},
   "outputs": [],
   "source": [
    "def pair_group(diff_dict):\n",
    "    \"\"\" given a matrix of differences, returns the indices of the closest two related organisms\"\"\"\n",
    "\n",
    "    min_diff = np.inf\n",
    "\n",
    "    for key in diff_dict.keys():\n",
    "        if diff_dict[key] < min_diff:\n",
    "            min_diff = diff_dict[key]\n",
    "            min_key = key\n",
    "            \n",
    "    return min_key"
   ]
  },
  {
   "cell_type": "code",
   "execution_count": 76,
   "id": "1dcbb6b3-3bd4-4375-8669-2d6b2cc8e8df",
   "metadata": {},
   "outputs": [
    {
     "data": {
      "text/plain": [
       "('human', 'gorilla')"
      ]
     },
     "execution_count": 76,
     "metadata": {},
     "output_type": "execute_result"
    }
   ],
   "source": [
    "pg = pair_group(diff_dict)\n",
    "pg"
   ]
  },
  {
   "cell_type": "code",
   "execution_count": 77,
   "id": "70b6cf61-5eb1-4f6e-b5da-34287adbc5df",
   "metadata": {},
   "outputs": [],
   "source": [
    "# remove the pair group from the dictionary\n",
    "pg1 = pg[0]\n",
    "pg2 = pg[1]\n",
    "diff_dict.pop((pg1, pg2))\n",
    "diff_dict.pop((pg2, pg1))\n",
    "\n",
    "# remove the nodes of the pair group from the nodes list\n",
    "nodes.remove(pg1)\n",
    "nodes.remove(pg2)\n",
    "\n",
    "# for the remaining node in the nodes list, update their distance to be weighted average of the two other nodes in the pair group\n",
    "for node in nodes:\n",
    "    diff1 = diff_dict[(node, pg1)] \n",
    "    diff2 = diff_dict[(node, pg2)] \n",
    "    new_diff = (diff1 + diff2) / 2\n",
    "    diff_dict[(node,pg)] = new_diff\n",
    "                "
   ]
  },
  {
   "cell_type": "code",
   "execution_count": 79,
   "id": "3092274c-e08b-4554-8ee4-bd99825e90ac",
   "metadata": {},
   "outputs": [
    {
     "data": {
      "text/plain": [
       "{('carp', 'cow'): 70,\n",
       " ('carp', 'donkey'): 71,\n",
       " ('carp', 'horse'): 71,\n",
       " ('carp', 'human'): 72,\n",
       " ('carp', 'gorilla'): 72,\n",
       " ('carp', 'rabbit'): 76,\n",
       " ('cow', 'carp'): 70,\n",
       " ('cow', 'donkey'): 19,\n",
       " ('cow', 'horse'): 17,\n",
       " ('cow', 'human'): 17,\n",
       " ('cow', 'gorilla'): 19,\n",
       " ('cow', 'rabbit'): 26,\n",
       " ('donkey', 'carp'): 71,\n",
       " ('donkey', 'cow'): 19,\n",
       " ('donkey', 'horse'): 3,\n",
       " ('donkey', 'human'): 20,\n",
       " ('donkey', 'gorilla'): 22,\n",
       " ('donkey', 'rabbit'): 26,\n",
       " ('horse', 'carp'): 71,\n",
       " ('horse', 'cow'): 17,\n",
       " ('horse', 'donkey'): 3,\n",
       " ('horse', 'human'): 17,\n",
       " ('horse', 'gorilla'): 19,\n",
       " ('horse', 'rabbit'): 24,\n",
       " ('human', 'carp'): 72,\n",
       " ('human', 'cow'): 17,\n",
       " ('human', 'donkey'): 20,\n",
       " ('human', 'horse'): 17,\n",
       " ('human', 'rabbit'): 26,\n",
       " ('gorilla', 'carp'): 72,\n",
       " ('gorilla', 'cow'): 19,\n",
       " ('gorilla', 'donkey'): 22,\n",
       " ('gorilla', 'horse'): 19,\n",
       " ('gorilla', 'rabbit'): 26,\n",
       " ('rabbit', 'carp'): 76,\n",
       " ('rabbit', 'cow'): 26,\n",
       " ('rabbit', 'donkey'): 26,\n",
       " ('rabbit', 'horse'): 24,\n",
       " ('rabbit', 'human'): 26,\n",
       " ('rabbit', 'gorilla'): 26,\n",
       " ('carp', ('human', 'gorilla')): 72.0,\n",
       " ('cow', ('human', 'gorilla')): 18.0,\n",
       " ('donkey', ('human', 'gorilla')): 21.0,\n",
       " ('horse', ('human', 'gorilla')): 18.0,\n",
       " ('rabbit', ('human', 'gorilla')): 26.0}"
      ]
     },
     "execution_count": 79,
     "metadata": {},
     "output_type": "execute_result"
    }
   ],
   "source": [
    "diff_dict"
   ]
  },
  {
   "cell_type": "markdown",
   "id": "4f775fec-62a1-4094-9320-4643cf324404",
   "metadata": {},
   "source": [
    "## Step 3: With a pair-group in hand, let's update our differences dictionary and nodes"
   ]
  },
  {
   "cell_type": "code",
   "execution_count": null,
   "id": "b8f02ee0-a4c0-4e1a-9734-a238e85b23b2",
   "metadata": {},
   "outputs": [],
   "source": [
    "def update_dict(diff_dict, nodes, pg):\n",
    "    \n",
    "    # remove the pair group from the dictionary\n",
    "    pg1 = pg[0]\n",
    "    pg2 = pg[1]\n",
    "    diff_dict.pop((pg1, pg2))\n",
    "    diff_dict.pop((pg2, pg1))\n",
    "    \n",
    "    # remove the nodes of the pair group from the nodes list\n",
    "    nodes.remove(pg1)\n",
    "    nodes.remove(pg2)\n",
    "    \n",
    "    # for the remaining node in the nodes list, update their distance to be weighted average of the two other nodes in the pair group\n",
    "    for node in nodes:\n",
    "        diff1 = diff_dict[(node, pg1)] \n",
    "        diff2 = diff_dict[(node, pg2)] \n",
    "        new_diff = diff1 / diff2\n",
    "        diff_dict[(node,pg)] = new_diff\n",
    "                \n",
    "    \n",
    "    # add our new pair group node to the list\n",
    "    \n",
    "    \n",
    "    \n",
    "    \n",
    "    "
   ]
  },
  {
   "cell_type": "code",
   "execution_count": 50,
   "id": "65eaea72-2e65-4749-8055-c828ca3e62e6",
   "metadata": {},
   "outputs": [
    {
     "data": {
      "text/plain": [
       "dict_keys([('carp', 'chimp'), ('carp', 'cow'), ('carp', 'donkey'), ('carp', 'horse'), ('carp', 'human'), ('carp', 'gorilla'), ('carp', 'rabbit'), ('chimp', 'carp'), ('chimp', 'cow'), ('chimp', 'donkey'), ('chimp', 'horse'), ('chimp', 'human'), ('chimp', 'gorilla'), ('chimp', 'rabbit'), ('cow', 'carp'), ('cow', 'chimp'), ('cow', 'donkey'), ('cow', 'horse'), ('cow', 'human'), ('cow', 'gorilla'), ('cow', 'rabbit'), ('donkey', 'carp'), ('donkey', 'chimp'), ('donkey', 'cow'), ('donkey', 'horse'), ('donkey', 'human'), ('donkey', 'gorilla'), ('donkey', 'rabbit'), ('horse', 'carp'), ('horse', 'chimp'), ('horse', 'cow'), ('horse', 'donkey'), ('horse', 'human'), ('horse', 'gorilla'), ('horse', 'rabbit'), ('human', 'carp'), ('human', 'chimp'), ('human', 'cow'), ('human', 'donkey'), ('human', 'horse'), ('human', 'gorilla'), ('human', 'rabbit'), ('gorilla', 'carp'), ('gorilla', 'chimp'), ('gorilla', 'cow'), ('gorilla', 'donkey'), ('gorilla', 'horse'), ('gorilla', 'human'), ('gorilla', 'rabbit'), ('rabbit', 'carp'), ('rabbit', 'chimp'), ('rabbit', 'cow'), ('rabbit', 'donkey'), ('rabbit', 'horse'), ('rabbit', 'human'), ('rabbit', 'gorilla')])"
      ]
     },
     "execution_count": 50,
     "metadata": {},
     "output_type": "execute_result"
    }
   ],
   "source": [
    "diff_dict.keys()"
   ]
  },
  {
   "cell_type": "code",
   "execution_count": 61,
   "id": "054e415f-f21a-423c-a236-d05cf1da91be",
   "metadata": {},
   "outputs": [],
   "source": [
    "nodes.append(pg)\n"
   ]
  },
  {
   "cell_type": "code",
   "execution_count": 56,
   "id": "9ae8367a-ca6b-496f-bfee-4f8c8051b086",
   "metadata": {},
   "outputs": [
    {
     "data": {
      "text/plain": [
       "0"
      ]
     },
     "execution_count": 56,
     "metadata": {},
     "output_type": "execute_result"
    }
   ],
   "source": [
    "diff_dict.pop(('chimp', 'human'))"
   ]
  },
  {
   "cell_type": "code",
   "execution_count": 62,
   "id": "52a21d87-480a-4395-929f-b805c9368711",
   "metadata": {},
   "outputs": [
    {
     "ename": "NameError",
     "evalue": "name 'node' is not defined",
     "output_type": "error",
     "traceback": [
      "\u001b[0;31m---------------------------------------------------------------------------\u001b[0m",
      "\u001b[0;31mNameError\u001b[0m                                 Traceback (most recent call last)",
      "\u001b[0;32m/var/folders/7y/26f264rd4ldbcc1h172r7jkh0000gn/T/ipykernel_44154/1712132917.py\u001b[0m in \u001b[0;36m<module>\u001b[0;34m\u001b[0m\n\u001b[0;32m----> 1\u001b[0;31m \u001b[0mnode\u001b[0m\u001b[0;34m\u001b[0m\u001b[0;34m\u001b[0m\u001b[0m\n\u001b[0m",
      "\u001b[0;31mNameError\u001b[0m: name 'node' is not defined"
     ]
    }
   ],
   "source": [
    "node"
   ]
  },
  {
   "cell_type": "code",
   "execution_count": 64,
   "id": "5d061baa-e7c7-4438-97c1-090697a3ef0a",
   "metadata": {},
   "outputs": [
    {
     "data": {
      "text/plain": [
       "2"
      ]
     },
     "execution_count": 64,
     "metadata": {},
     "output_type": "execute_result"
    }
   ],
   "source": [
    "len( ((1,2),3) )"
   ]
  },
  {
   "cell_type": "code",
   "execution_count": 65,
   "id": "9809a870-34ea-495d-b52e-1b5b39398484",
   "metadata": {},
   "outputs": [
    {
     "ename": "AttributeError",
     "evalue": "'tuple' object has no attribute 'flatten'",
     "output_type": "error",
     "traceback": [
      "\u001b[0;31m---------------------------------------------------------------------------\u001b[0m",
      "\u001b[0;31mAttributeError\u001b[0m                            Traceback (most recent call last)",
      "\u001b[0;32m/var/folders/7y/26f264rd4ldbcc1h172r7jkh0000gn/T/ipykernel_44154/136699980.py\u001b[0m in \u001b[0;36m<module>\u001b[0;34m\u001b[0m\n\u001b[0;32m----> 1\u001b[0;31m \u001b[0;34m(\u001b[0m\u001b[0;34m(\u001b[0m\u001b[0;36m1\u001b[0m\u001b[0;34m,\u001b[0m\u001b[0;36m2\u001b[0m\u001b[0;34m)\u001b[0m\u001b[0;34m,\u001b[0m\u001b[0;36m3\u001b[0m\u001b[0;34m)\u001b[0m\u001b[0;34m.\u001b[0m\u001b[0mflatten\u001b[0m\u001b[0;34m\u001b[0m\u001b[0;34m\u001b[0m\u001b[0m\n\u001b[0m",
      "\u001b[0;31mAttributeError\u001b[0m: 'tuple' object has no attribute 'flatten'"
     ]
    }
   ],
   "source": [
    "((1,2),3)."
   ]
  },
  {
   "cell_type": "code",
   "execution_count": 80,
   "id": "f64ea41b-ab59-4595-b8a4-da67cfebd706",
   "metadata": {},
   "outputs": [
    {
     "data": {
      "text/plain": [
       "False"
      ]
     },
     "execution_count": 80,
     "metadata": {},
     "output_type": "execute_result"
    }
   ],
   "source": [
    "'b' in ('a', ('b', 'c'))"
   ]
  },
  {
   "cell_type": "code",
   "execution_count": null,
   "id": "8e79ea41-22ae-459e-89d3-7dbcc1a7e28d",
   "metadata": {},
   "outputs": [],
   "source": []
  }
 ],
 "metadata": {
  "kernelspec": {
   "display_name": "Python 3 (ipykernel)",
   "language": "python",
   "name": "python3"
  },
  "language_info": {
   "codemirror_mode": {
    "name": "ipython",
    "version": 3
   },
   "file_extension": ".py",
   "mimetype": "text/x-python",
   "name": "python",
   "nbconvert_exporter": "python",
   "pygments_lexer": "ipython3",
   "version": "3.7.13"
  }
 },
 "nbformat": 4,
 "nbformat_minor": 5
}
