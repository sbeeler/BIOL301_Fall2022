{
 "cells": [
  {
   "cell_type": "markdown",
   "metadata": {},
   "source": [
    "# Homework 9\n",
    "\n",
    "<hr>"
   ]
  },
  {
   "cell_type": "markdown",
   "metadata": {},
   "source": [
    "## Problem 1 - Update our `differences` function\n",
    "\n",
    "Update our differences function to no longer rely on the assumption that the two sequences will be the same length. That is, if we are comparing two sequences of different lengths, we will consider the excess basepairs of the longer sequence to all be differences. Concretely, that means a function call like `differences(\"AATT\",\"ATTTCCGG\")` should return `5` since the sequences have 1 difference in addition to the second sequences being 4 basepairs longer. \n",
    "\n",
    "As a hint, you will only need to change the base case to update the differences function. "
   ]
  },
  {
   "cell_type": "code",
   "execution_count": 1,
   "metadata": {},
   "outputs": [],
   "source": [
    "def differences(seq1, seq2):\n",
    "    \n",
    "    # base case 1\n",
    "    if seq1 == \"\":\n",
    "        return len(seq2)\n",
    "    \n",
    "    # base case 2\n",
    "    if seq2 == \"\":\n",
    "        return len(seq1)\n",
    "    \n",
    "    else:\n",
    "        if seq1[0] !=  seq2[0]:\n",
    "            return 1 + differences(seq1[1:], seq2[1:])\n",
    "        \n",
    "        else:\n",
    "            return differences(seq1[1:], seq2[1:])"
   ]
  },
  {
   "cell_type": "markdown",
   "metadata": {},
   "source": [
    "Below are some tests to make sure you wrote your function correctly. "
   ]
  },
  {
   "cell_type": "code",
   "execution_count": 2,
   "metadata": {},
   "outputs": [
    {
     "data": {
      "text/plain": [
       "5"
      ]
     },
     "execution_count": 2,
     "metadata": {},
     "output_type": "execute_result"
    }
   ],
   "source": [
    "# make sure this returns 5\n",
    "differences(\"AATT\",\"ATTTCCGG\")"
   ]
  },
  {
   "cell_type": "code",
   "execution_count": 3,
   "metadata": {},
   "outputs": [
    {
     "data": {
      "text/plain": [
       "5"
      ]
     },
     "execution_count": 3,
     "metadata": {},
     "output_type": "execute_result"
    }
   ],
   "source": [
    "# this should also return 5\n",
    "differences(\"ATTTCCGG\",\"AATT\")"
   ]
  },
  {
   "cell_type": "markdown",
   "metadata": {},
   "source": [
    "## Problem 2 - Write a recursive `reverse` function\n",
    "\n",
    "To get more practice writing recursive functions, write a function that will reverse a sequence. Think about what the base case would be in this situation, i.e. what is the simplest possible sequence we can reverse? One you have your base case, consider how you will make your incrementally smaller problem for your recursive function call."
   ]
  },
  {
   "cell_type": "code",
   "execution_count": 4,
   "metadata": {},
   "outputs": [],
   "source": [
    "def reverse(seq):\n",
    "    \n",
    "    # base case\n",
    "    if seq == \"\":\n",
    "        return seq\n",
    "    \n",
    "    else:\n",
    "        return reverse(seq[1:]) + seq[0]"
   ]
  },
  {
   "cell_type": "markdown",
   "metadata": {},
   "source": [
    "Again, I've included a test for you to run below:"
   ]
  },
  {
   "cell_type": "code",
   "execution_count": 8,
   "metadata": {},
   "outputs": [
    {
     "data": {
      "text/plain": [
       "'GCTA'"
      ]
     },
     "execution_count": 8,
     "metadata": {},
     "output_type": "execute_result"
    }
   ],
   "source": [
    "# should return 'GCTA'\n",
    "reverse(\"ATCG\")"
   ]
  },
  {
   "cell_type": "markdown",
   "metadata": {},
   "source": [
    "## Problem 3 - Longest common subsequence (LCS)\n",
    "\n",
    "Write a function that compute the length of the longest common subsequence (LCS) of two sequences. This will involve using the \"use-it\" or \"lose-it\" recursion approach. \n",
    "\n",
    "The overall structure will look something like this:\n",
    "- First, we need a base case for when either sequence is the empty string. This is the simplest possible version of our problem which will prompt our function to return some value.\n",
    "- Our \"use-it\" case will occur when the first letter of our two sequences match. In this case, we will return 1 plus our recursive call, where the 1 will count this match towards our longest common subsequence score.\n",
    "- Lastly, our \"lose-it\" cases will not contribute to our tally for the longest common subsequence, but rather test one of two scenarios: computing the LCS for sequence 1 and all but the first character of sequence 2, or computing the LCS of sequence 2 and all but the first character of sequence 1. Of these two options, we want to return whichever returns the largest number. "
   ]
  },
  {
   "cell_type": "code",
   "execution_count": 6,
   "metadata": {},
   "outputs": [],
   "source": [
    "def LCS(seq1, seq2):\n",
    "    \n",
    "    # base case 1\n",
    "    if seq1 == \"\":\n",
    "        return 0\n",
    "    \n",
    "    # base case 2\n",
    "    elif seq2 == \"\":\n",
    "        return 0\n",
    "    \n",
    "    # make a match while we can\n",
    "    elif seq1[0] == seq2[0]:\n",
    "        return 1 + LCS(seq1[1:], seq2[1:])\n",
    "    \n",
    "    # recurse on the two possible sub-problems\n",
    "    else:\n",
    "        lose1 = LCS(seq1, seq2[1:])\n",
    "        lose2 = LCS(seq1[1:], seq2)\n",
    "        \n",
    "        return max(lose1, lose2)   "
   ]
  },
  {
   "cell_type": "markdown",
   "metadata": {},
   "source": [
    "Run your code on the following two sequences: `CATTCAC` and `CTCGCAGC`. What number should your function return? What sequence of baseparis does this longest common subsequence correspond to?"
   ]
  },
  {
   "cell_type": "code",
   "execution_count": 7,
   "metadata": {},
   "outputs": [
    {
     "data": {
      "text/plain": [
       "5"
      ]
     },
     "execution_count": 7,
     "metadata": {},
     "output_type": "execute_result"
    }
   ],
   "source": [
    "LCS(\"CATTCAC\",\"CTCGCAGC\")"
   ]
  },
  {
   "cell_type": "markdown",
   "metadata": {},
   "source": [
    "5 corresponds to the length of the LCS of `CTCAC`"
   ]
  },
  {
   "cell_type": "code",
   "execution_count": null,
   "metadata": {},
   "outputs": [],
   "source": []
  }
 ],
 "metadata": {
  "kernelspec": {
   "display_name": "Python 3 (ipykernel)",
   "language": "python",
   "name": "python3"
  },
  "language_info": {
   "codemirror_mode": {
    "name": "ipython",
    "version": 3
   },
   "file_extension": ".py",
   "mimetype": "text/x-python",
   "name": "python",
   "nbconvert_exporter": "python",
   "pygments_lexer": "ipython3",
   "version": "3.7.13"
  }
 },
 "nbformat": 4,
 "nbformat_minor": 4
}
