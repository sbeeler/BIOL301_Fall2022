{
 "cells": [
  {
   "cell_type": "markdown",
   "metadata": {
    "id": "VgAiVKPAmDDY"
   },
   "source": [
    "# Part 1: Python basics.\n",
    "\n",
    "The first piece of code anyone ever learns to write:"
   ]
  },
  {
   "cell_type": "code",
   "execution_count": 1,
   "metadata": {
    "colab": {
     "base_uri": "https://localhost:8080/"
    },
    "id": "Rg1pT0GthOVS",
    "outputId": "a49ca72d-5d71-4d90-e676-f342aa09c031"
   },
   "outputs": [
    {
     "name": "stdout",
     "output_type": "stream",
     "text": [
      "Hello World\n"
     ]
    }
   ],
   "source": [
    "print(\"Hello World\")"
   ]
  },
  {
   "cell_type": "markdown",
   "metadata": {
    "id": "FBPsO9sLnPKc"
   },
   "source": [
    "First, we can use Python as a glorified calculator:"
   ]
  },
  {
   "cell_type": "code",
   "execution_count": 2,
   "metadata": {
    "colab": {
     "base_uri": "https://localhost:8080/"
    },
    "id": "obOX5kc7qCKx",
    "outputId": "13fc9e9f-8f51-4a54-b09c-6266680be3ba"
   },
   "outputs": [
    {
     "data": {
      "text/plain": [
       "35"
      ]
     },
     "execution_count": 2,
     "metadata": {},
     "output_type": "execute_result"
    }
   ],
   "source": [
    "5*7"
   ]
  },
  {
   "cell_type": "code",
   "execution_count": 3,
   "metadata": {
    "colab": {
     "base_uri": "https://localhost:8080/"
    },
    "id": "m9t1QMNtnogo",
    "outputId": "ffb00483-7dec-4d5c-94d5-449b0fc409c8"
   },
   "outputs": [
    {
     "data": {
      "text/plain": [
       "12"
      ]
     },
     "execution_count": 3,
     "metadata": {},
     "output_type": "execute_result"
    }
   ],
   "source": [
    "5+7"
   ]
  },
  {
   "cell_type": "markdown",
   "metadata": {
    "id": "9YtFdJwUnLdl"
   },
   "source": [
    "But more importantly, we may want to save values as *variables* in order to use them repeatedly. "
   ]
  },
  {
   "cell_type": "code",
   "execution_count": 4,
   "metadata": {
    "colab": {
     "base_uri": "https://localhost:8080/"
    },
    "id": "ONZh1uS7mAeL",
    "outputId": "e4b7053f-597f-418f-e79a-c3bf35d9eb79"
   },
   "outputs": [
    {
     "data": {
      "text/plain": [
       "2.5"
      ]
     },
     "execution_count": 4,
     "metadata": {},
     "output_type": "execute_result"
    }
   ],
   "source": [
    "a = 5\n",
    "b = 0.5\n",
    "a*b"
   ]
  },
  {
   "cell_type": "code",
   "execution_count": 5,
   "metadata": {
    "colab": {
     "base_uri": "https://localhost:8080/"
    },
    "id": "tDEu2s3YqGNz",
    "outputId": "56162a16-2d40-421e-ebb5-d345cc953b0a"
   },
   "outputs": [
    {
     "data": {
      "text/plain": [
       "5.5"
      ]
     },
     "execution_count": 5,
     "metadata": {},
     "output_type": "execute_result"
    }
   ],
   "source": [
    "a+b"
   ]
  },
  {
   "cell_type": "markdown",
   "metadata": {
    "id": "TW6nYiI7o98h"
   },
   "source": [
    "We can also save values other than numbers. Specially, a sequence of characters can be saved as a variable known as a *string*. Strings are denoted with the quotation marks. "
   ]
  },
  {
   "cell_type": "code",
   "execution_count": 6,
   "metadata": {
    "colab": {
     "base_uri": "https://localhost:8080/",
     "height": 35
    },
    "id": "avt9_61UpViY",
    "outputId": "255bf969-27e3-427a-bf2b-e0ac1e013da8"
   },
   "outputs": [
    {
     "data": {
      "text/plain": [
       "'ATAGCTAGTGATCAGT'"
      ]
     },
     "execution_count": 6,
     "metadata": {},
     "output_type": "execute_result"
    }
   ],
   "source": [
    "DNA1 = \"ATAGCTAG\"\n",
    "DNA2 = \"TGATCAGT\"\n",
    "DNA3 = DNA1 + DNA2\n",
    "DNA3"
   ]
  },
  {
   "cell_type": "markdown",
   "metadata": {
    "id": "KyQPCNOKqNNY"
   },
   "source": [
    "# Part 2: Finding the complement of a DNA sequence.\n",
    "\n",
    "Let's now write our first piece of code to return the complement of a given DNA basepair."
   ]
  },
  {
   "cell_type": "code",
   "execution_count": 7,
   "metadata": {
    "colab": {
     "base_uri": "https://localhost:8080/",
     "height": 35
    },
    "id": "v9uWtLQiqH_r",
    "outputId": "1ab61555-2ddd-4781-ced0-afdd9ea4596b"
   },
   "outputs": [
    {
     "data": {
      "text/plain": [
       "'T'"
      ]
     },
     "execution_count": 7,
     "metadata": {},
     "output_type": "execute_result"
    }
   ],
   "source": [
    "bp = \"A\"\n",
    "\n",
    "if bp == \"A\":\n",
    "  ans = \"T\"\n",
    "\n",
    "if bp == \"T\":\n",
    "  ans = \"A\"\n",
    "\n",
    "if bp == \"C\":\n",
    "  ans = \"G\"\n",
    "\n",
    "if bp == \"G\":\n",
    "  ans = \"C\"\n",
    "\n",
    "ans"
   ]
  },
  {
   "cell_type": "markdown",
   "metadata": {
    "id": "tWwNkKBarG8g"
   },
   "source": [
    "While this is nice, we may want to get the reverse complement of an entire DNA sequence, and not just a single basepair. We will use a structure known as a `for` loop, which allows us to do the same action over and over again. "
   ]
  },
  {
   "cell_type": "code",
   "execution_count": 8,
   "metadata": {
    "colab": {
     "base_uri": "https://localhost:8080/",
     "height": 35
    },
    "id": "1tL4ctANrGEX",
    "outputId": "7675d91a-6a21-4936-8675-c171ee8f3dfb"
   },
   "outputs": [
    {
     "data": {
      "text/plain": [
       "'TAGCTGATGCTGTACTGATGATCTGTAGTAGCGTATATCTCGTA'"
      ]
     },
     "execution_count": 8,
     "metadata": {},
     "output_type": "execute_result"
    }
   ],
   "source": [
    "DNA = \"ATCGACTACGACATGACTACTAGACATCATCGCATATAGAGCAT\"\n",
    "\n",
    "ans = \"\"\n",
    "\n",
    "for bp in DNA:\n",
    "  if bp == \"A\":\n",
    "    ans = ans + \"T\"\n",
    "\n",
    "  if bp == \"T\":\n",
    "    ans = ans + \"A\"\n",
    "\n",
    "  if bp == \"C\":\n",
    "    ans = ans + \"G\"\n",
    "\n",
    "  if bp == \"G\":\n",
    "    ans = ans + \"C\"\n",
    "\n",
    "ans"
   ]
  },
  {
   "cell_type": "markdown",
   "metadata": {
    "id": "fy8_a47Wtnx_"
   },
   "source": [
    "Lastly, we should wrap all this code into a *function*, so that we can easily use this code over an over again."
   ]
  },
  {
   "cell_type": "code",
   "execution_count": 9,
   "metadata": {
    "id": "cDqYpfRYtm5J"
   },
   "outputs": [],
   "source": [
    "def complement(DNA):\n",
    "  \n",
    "  ans = \"\"\n",
    "\n",
    "  for bp in DNA:\n",
    "    if bp == \"A\":\n",
    "      ans = ans + \"T\"\n",
    "\n",
    "    if bp == \"T\":\n",
    "      ans = ans + \"A\"\n",
    "\n",
    "    if bp == \"C\":\n",
    "      ans = ans + \"G\"\n",
    "\n",
    "    if bp == \"G\":\n",
    "      ans = ans + \"C\"\n",
    "\n",
    "  return ans"
   ]
  },
  {
   "cell_type": "markdown",
   "metadata": {
    "id": "PszVdLjZuGxd"
   },
   "source": [
    "We can now *call* this function below, to make sure it works with different input:"
   ]
  },
  {
   "cell_type": "code",
   "execution_count": 10,
   "metadata": {
    "colab": {
     "base_uri": "https://localhost:8080/",
     "height": 35
    },
    "id": "p49zxpKEsW5l",
    "outputId": "83a0af81-a421-4137-eabd-410a98fd62d3"
   },
   "outputs": [
    {
     "data": {
      "text/plain": [
       "'TAGTCGAT'"
      ]
     },
     "execution_count": 10,
     "metadata": {},
     "output_type": "execute_result"
    }
   ],
   "source": [
    "complement(\"ATCAGCTA\")"
   ]
  },
  {
   "cell_type": "code",
   "execution_count": 11,
   "metadata": {
    "colab": {
     "base_uri": "https://localhost:8080/",
     "height": 35
    },
    "id": "qNRWPDbZslDO",
    "outputId": "10db24fe-b107-45c4-8d55-7bd901f55a4a"
   },
   "outputs": [
    {
     "data": {
      "text/plain": [
       "'TCGAGTCAAT'"
      ]
     },
     "execution_count": 11,
     "metadata": {},
     "output_type": "execute_result"
    }
   ],
   "source": [
    "complement(\"AGCTCAGTTA\")"
   ]
  },
  {
   "cell_type": "code",
   "execution_count": 12,
   "metadata": {
    "colab": {
     "base_uri": "https://localhost:8080/",
     "height": 35
    },
    "id": "f7gJ_fN7uSDi",
    "outputId": "40e4a0c4-93b5-4d29-9e41-b2fc34aa91d8"
   },
   "outputs": [
    {
     "data": {
      "text/plain": [
       "'AAAGGGCCCTTT'"
      ]
     },
     "execution_count": 12,
     "metadata": {},
     "output_type": "execute_result"
    }
   ],
   "source": [
    "complement(\"TTTCCCGGGAAA\")"
   ]
  },
  {
   "cell_type": "markdown",
   "metadata": {
    "id": "LO7vNupTxZC0"
   },
   "source": [
    "# Part 3: Finding an open reading frame (ORF).\n",
    "\n",
    "As another DNA-related task, we may want to find an open reading frame (ORF) in a given DNA sequence. And open reading frame is a segment of DNA that begins with a start codon (ATG) and ends with one of the stop codons (TAG, TAA, or TGA).\n",
    "\n",
    "Below, I define the `DNA` variable we will be using."
   ]
  },
  {
   "cell_type": "markdown",
   "metadata": {
    "id": "ljekGl20IbtX"
   },
   "source": [
    "First let's find where the start codon is in the DNA sequence:"
   ]
  },
  {
   "cell_type": "code",
   "execution_count": 13,
   "metadata": {
    "colab": {
     "base_uri": "https://localhost:8080/"
    },
    "id": "_VRtc_v-xw_I",
    "outputId": "9a09b112-8492-4c65-d11d-2d9e3e1a3c04"
   },
   "outputs": [
    {
     "data": {
      "text/plain": [
       "12"
      ]
     },
     "execution_count": 13,
     "metadata": {},
     "output_type": "execute_result"
    }
   ],
   "source": [
    "for i in range(len(DNA)):\n",
    "  if DNA[i:i+3] == \"ATG\":\n",
    "    start = i\n",
    "    break\n",
    "  \n",
    "start"
   ]
  },
  {
   "cell_type": "code",
   "execution_count": 14,
   "metadata": {
    "colab": {
     "base_uri": "https://localhost:8080/",
     "height": 35
    },
    "id": "fbY-DUSDx2ic",
    "outputId": "7ddcf48b-a7ff-4e3e-a285-b0150b41f2c2"
   },
   "outputs": [
    {
     "data": {
      "text/plain": [
       "'ATGACTACTAGACATCATCGCATATAGAGCAT'"
      ]
     },
     "execution_count": 14,
     "metadata": {},
     "output_type": "execute_result"
    }
   ],
   "source": [
    "DNA[start:]"
   ]
  },
  {
   "cell_type": "markdown",
   "metadata": {
    "id": "NNfwd3I-Is3v"
   },
   "source": [
    "Using the position of the start codon, we will now look for a stop codon in the same reading frame, by looping in steps of three."
   ]
  },
  {
   "cell_type": "code",
   "execution_count": 15,
   "metadata": {
    "colab": {
     "base_uri": "https://localhost:8080/"
    },
    "id": "vclnAH_qyGjw",
    "outputId": "e2d7fa8c-d6cf-4e9e-e5a3-b1b2641c2d71"
   },
   "outputs": [
    {
     "data": {
      "text/plain": [
       "39"
      ]
     },
     "execution_count": 15,
     "metadata": {},
     "output_type": "execute_result"
    }
   ],
   "source": [
    "for i in range(start, len(DNA), 3):\n",
    "  \n",
    "  codon = DNA[i:i+3]\n",
    "\n",
    "  if codon == \"TAG\":\n",
    "    end = i+3\n",
    "    break\n",
    "\n",
    "  if codon == \"TAA\":\n",
    "    end = i+3\n",
    "    break\n",
    "\n",
    "  if codon == \"TGA\":\n",
    "    end = i+3\n",
    "    break\n",
    "\n",
    "end"
   ]
  },
  {
   "cell_type": "markdown",
   "metadata": {
    "id": "Em3LPhW8JY_O"
   },
   "source": [
    "With the start and end of the ORF, let's look at only that ORF region of the DNA."
   ]
  },
  {
   "cell_type": "code",
   "execution_count": 16,
   "metadata": {
    "colab": {
     "base_uri": "https://localhost:8080/",
     "height": 35
    },
    "id": "v5pBYrwtyffP",
    "outputId": "949cf32a-e943-487f-c508-5b343afffee7"
   },
   "outputs": [
    {
     "data": {
      "text/plain": [
       "'ATGACTACTAGACATCATCGCATATAG'"
      ]
     },
     "execution_count": 16,
     "metadata": {},
     "output_type": "execute_result"
    }
   ],
   "source": [
    "ORF = DNA[start:end]\n",
    "ORF"
   ]
  },
  {
   "cell_type": "code",
   "execution_count": 17,
   "metadata": {
    "colab": {
     "base_uri": "https://localhost:8080/"
    },
    "id": "bViVd9oIJa2P",
    "outputId": "cc1cd52e-8edd-4cdc-dc79-437af8449b28"
   },
   "outputs": [
    {
     "data": {
      "text/plain": [
       "27"
      ]
     },
     "execution_count": 17,
     "metadata": {},
     "output_type": "execute_result"
    }
   ],
   "source": [
    "len(ORF)"
   ]
  },
  {
   "cell_type": "markdown",
   "metadata": {
    "id": "Yz6t0DanFibD"
   },
   "source": [
    "Again, let's wrap all this code into a function."
   ]
  },
  {
   "cell_type": "code",
   "execution_count": 18,
   "metadata": {
    "id": "KX-Mrj1cFhyJ"
   },
   "outputs": [],
   "source": [
    "def first_ORF(DNA):\n",
    "\n",
    "  for i in range(len(DNA)):\n",
    "    if DNA[i:i+3] == \"ATG\":\n",
    "      start = i\n",
    "      break\n",
    "  \n",
    "  for i in range(start, len(DNA), 3):\n",
    "    \n",
    "    codon = DNA[i:i+3]\n",
    "    \n",
    "    if codon == \"TAG\":\n",
    "      end = i+3\n",
    "      break\n",
    "\n",
    "    if codon == \"TAA\":\n",
    "      end = i+3\n",
    "      break\n",
    "\n",
    "    if codon == \"TGA\":\n",
    "      end = i+3\n",
    "      break\n",
    "\n",
    "  return DNA[start:end]"
   ]
  },
  {
   "cell_type": "markdown",
   "metadata": {
    "id": "smXbV-93LzNj"
   },
   "source": [
    "And let's try the function out!"
   ]
  },
  {
   "cell_type": "code",
   "execution_count": 19,
   "metadata": {
    "colab": {
     "base_uri": "https://localhost:8080/",
     "height": 35
    },
    "id": "tCovn6qm0MAp",
    "outputId": "74d8a85d-3398-4ba4-cc9e-d123451aa4e4"
   },
   "outputs": [
    {
     "data": {
      "text/plain": [
       "'ATGACTACTAGACATCATCGCATATAG'"
      ]
     },
     "execution_count": 19,
     "metadata": {},
     "output_type": "execute_result"
    }
   ],
   "source": [
    "ORF = first_ORF(DNA)\n",
    "ORF"
   ]
  },
  {
   "cell_type": "code",
   "execution_count": 20,
   "metadata": {
    "colab": {
     "base_uri": "https://localhost:8080/"
    },
    "id": "sIv46FlOF4i7",
    "outputId": "5f3c4801-5e4a-4c81-c7d7-91e703f71ae2"
   },
   "outputs": [
    {
     "data": {
      "text/plain": [
       "27"
      ]
     },
     "execution_count": 20,
     "metadata": {},
     "output_type": "execute_result"
    }
   ],
   "source": [
    "len(ORF)"
   ]
  }
 ],
 "metadata": {
  "colab": {
   "collapsed_sections": [],
   "provenance": []
  },
  "kernelspec": {
   "display_name": "Python 3 (ipykernel)",
   "language": "python",
   "name": "python3"
  },
  "language_info": {
   "codemirror_mode": {
    "name": "ipython",
    "version": 3
   },
   "file_extension": ".py",
   "mimetype": "text/x-python",
   "name": "python",
   "nbconvert_exporter": "python",
   "pygments_lexer": "ipython3",
   "version": "3.7.13"
  }
 },
 "nbformat": 4,
 "nbformat_minor": 4
}
