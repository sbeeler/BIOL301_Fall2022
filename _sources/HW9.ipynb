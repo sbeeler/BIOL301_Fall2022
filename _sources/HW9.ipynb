{
 "cells": [
  {
   "cell_type": "markdown",
   "metadata": {},
   "source": [
    "# Homework 9\n",
    "\n",
    "<hr>"
   ]
  },
  {
   "cell_type": "markdown",
   "metadata": {},
   "source": [
    "## Problem 1 - Update our `differences` function\n",
    "\n",
    "Update our differences function to no longer rely on the assumption that the two sequences will be the same length. That is, if we are comparing two sequences of different lengths, we will consider the excess basepairs of the longer sequence to all be differences. Concretely, that means a function call like `differences(\"AATT\",\"ATTTCCGG\")` should return `5` since the sequences have 1 difference in addition to the second sequences being 4 basepairs longer. "
   ]
  },
  {
   "cell_type": "code",
   "execution_count": null,
   "metadata": {},
   "outputs": [],
   "source": [
    "def differences(seq1, seq2):\n",
    "    \n",
    "    # base case\n",
    "    if seq1 == \"\":\n",
    "        return 0\n",
    "    \n",
    "    else:\n",
    "        if seq1[0] !=  seq2[0]:\n",
    "            return 1 + differences(seq1[1:], seq2[1:])\n",
    "        \n",
    "        else:\n",
    "            return differences(seq1[1:], seq2[1:])"
   ]
  },
  {
   "cell_type": "markdown",
   "metadata": {},
   "source": [
    "Below are some tests to make sure you wrote your function correctly. "
   ]
  },
  {
   "cell_type": "code",
   "execution_count": null,
   "metadata": {},
   "outputs": [],
   "source": [
    "# make sure this returns 5\n",
    "differences(\"AATT\",\"ATTTCCGG\")"
   ]
  },
  {
   "cell_type": "code",
   "execution_count": null,
   "metadata": {},
   "outputs": [],
   "source": [
    "# this should also return 5\n",
    "differences(\"ATTTCCGG\",\"AATT\")"
   ]
  },
  {
   "cell_type": "markdown",
   "metadata": {},
   "source": [
    "## Problem 2 - A recursive `reverse` function\n",
    "\n",
    "To get more practice writing recursive functions, write a function that will reverse a sequence using recursion. Think about what the base case would be in this situation, i.e. what is the simplest possible sequence we can reverse? Once you have your base case, consider how you will make your incrementally smaller problem for your recursive function call."
   ]
  },
  {
   "cell_type": "code",
   "execution_count": null,
   "metadata": {},
   "outputs": [],
   "source": [
    "def reverse(seq):\n",
    "    \n",
    "    "
   ]
  },
  {
   "cell_type": "markdown",
   "metadata": {},
   "source": [
    "Again, I've included a test for you to run below:"
   ]
  },
  {
   "cell_type": "code",
   "execution_count": null,
   "metadata": {},
   "outputs": [],
   "source": [
    "# should return 'GCTA'\n",
    "reverse(\"ATCG\")"
   ]
  },
  {
   "cell_type": "markdown",
   "metadata": {},
   "source": [
    "## Problem 3 - Longest common subsequence (LCS)\n",
    "\n",
    "Write a function that computes the length of the longest common subsequence (LCS) of two sequences. This will involve using the \"use-it or lose-it\" recursion approach. \n",
    "\n",
    "The overall structure will look something like this:\n",
    "- First, we need a base case for when either sequence is an empty string. This is the simplest possible version of our problem which will prompt our function to return some value.\n",
    "- Our \"use-it\" case will occur when the first letter of our two sequences match. In this case, we will return 1 plus our recursive call, where the 1 will count this match towards our longest common subsequence score, and we will call the LCS function again on the remainder of the two sequences.\n",
    "- Lastly, our \"lose-it\" cases will test two possible scenarios: computing the LCS for sequence 1 and all but the first character of sequence 2, or computing the LCS of sequence 2 and all but the first character of sequence 1. Of these two options, we want to return whichever results in the larger number. "
   ]
  },
  {
   "cell_type": "code",
   "execution_count": null,
   "metadata": {},
   "outputs": [],
   "source": [
    "def LCS(seq1, seq2):\n",
    "    \n",
    "    \n",
    "    "
   ]
  },
  {
   "cell_type": "markdown",
   "metadata": {},
   "source": [
    "Run your code on the following two sequences: `CATTCAC` and `CTCGCAGC`. What number should your function return? What sequence of baseparis does this longest common subsequence correspond to?"
   ]
  },
  {
   "cell_type": "code",
   "execution_count": null,
   "metadata": {},
   "outputs": [],
   "source": []
  }
 ],
 "metadata": {
  "kernelspec": {
   "display_name": "Python 3 (ipykernel)",
   "language": "python",
   "name": "python3"
  },
  "language_info": {
   "codemirror_mode": {
    "name": "ipython",
    "version": 3
   },
   "file_extension": ".py",
   "mimetype": "text/x-python",
   "name": "python",
   "nbconvert_exporter": "python",
   "pygments_lexer": "ipython3",
   "version": "3.7.13"
  }
 },
 "nbformat": 4,
 "nbformat_minor": 4
}
