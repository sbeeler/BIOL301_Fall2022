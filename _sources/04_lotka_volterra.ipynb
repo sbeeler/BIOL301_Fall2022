{
 "cells": [
  {
   "cell_type": "markdown",
   "id": "703de9b2-8595-4bee-b5cd-d348f86c1b3b",
   "metadata": {},
   "source": [
    "# Week 4: Lotka-Volterra\n",
    "\n",
    "<hr/>"
   ]
  },
  {
   "cell_type": "code",
   "execution_count": null,
   "id": "03dcd400-7944-4acc-a1fa-ef87aafdb404",
   "metadata": {},
   "outputs": [],
   "source": [
    "# import the necessary modules\n",
    "import numpy as np\n",
    "import matplotlib.pyplot as plt\n",
    "\n",
    "# for pretty plots\n",
    "import seaborn as sns\n",
    "sns.set()"
   ]
  },
  {
   "cell_type": "markdown",
   "id": "6fb514c8-1a9b-4ec6-aeeb-406acb399ee2",
   "metadata": {},
   "source": [
    "Below we will explore the system of equations:\n",
    "\n",
    "$$\\dot x = x(3-x-2y)$$\n",
    "$$\\dot y = y(2-x-y)$$ \n",
    "\n",
    "which is one particular example of a Lotka-Volterra model. Later we will consider more generic forms, but for now we will imagine this is modeling a population of rabbits, $x(t)$ and of sheep, $y(t)$.\n",
    "\n",
    "While we don't yet have the mathematical tools for how to analyze a system of two differential equations, we can still rely on computational (i.e. numerical) methods to see how this system will change over time."
   ]
  },
  {
   "cell_type": "markdown",
   "id": "78c5c17c-132e-48e4-b579-b14a94cdf711",
   "metadata": {},
   "source": [
    "## Set up the parameters of our numerical integration"
   ]
  },
  {
   "cell_type": "code",
   "execution_count": null,
   "id": "bc4c7ebe-e81f-44e4-a61c-02413562a271",
   "metadata": {},
   "outputs": [],
   "source": [
    "# parameters for how long to run integration\n",
    "dt=0.1\n",
    "total_time = 10\n",
    "num_steps = int(total_time/dt)\n",
    "\n",
    "# set up initial conditions\n",
    "x = np.zeros(num_steps)\n",
    "x[0] = 3\n",
    "y = np.zeros(num_steps)\n",
    "y[0] = 3"
   ]
  },
  {
   "cell_type": "markdown",
   "id": "32023105-2500-4517-b687-422b80a593d1",
   "metadata": {},
   "source": [
    "## Integrate by looping through time"
   ]
  },
  {
   "cell_type": "code",
   "execution_count": null,
   "id": "5f4cf386-2243-4072-88c3-82a4cd6bfb1c",
   "metadata": {},
   "outputs": [],
   "source": [
    "for t in range(num_steps-1):\n",
    "    x[t+1] = x[t] ## UPDATE THESE LINES!\n",
    "    y[t+1] = y[t] ## UPDATE THESE LINES! "
   ]
  },
  {
   "cell_type": "markdown",
   "id": "ecd2574e-c4b1-430a-91b5-402198a9f5a4",
   "metadata": {},
   "source": [
    "## Plot our results in the x, y plane"
   ]
  },
  {
   "cell_type": "code",
   "execution_count": null,
   "id": "0bb80d40-7284-44ae-a77c-5a06818acb92",
   "metadata": {},
   "outputs": [],
   "source": [
    "plt.plot(x,y,'.')\n",
    "plt.xlabel('x')\n",
    "plt.ylabel('y')"
   ]
  },
  {
   "cell_type": "markdown",
   "id": "69063a4d-608b-4521-8658-d987d54a9bf4",
   "metadata": {},
   "source": [
    "## Plot our results over time "
   ]
  },
  {
   "cell_type": "code",
   "execution_count": null,
   "id": "c9dcc65a-1b7a-47a1-b1da-795f1dfe8f19",
   "metadata": {},
   "outputs": [],
   "source": [
    "times = np.arange(num_steps)*dt\n",
    "plt.plot(x, times)\n",
    "plt.plot(y, times)\n",
    "plt.xlabel('time')\n",
    "plt.ylabel('population size')\n",
    "plt.legend([\"rabbit\",\"sheep\"])"
   ]
  },
  {
   "cell_type": "markdown",
   "id": "56dd86cb-d27a-4ecf-a322-ef203aff771d",
   "metadata": {},
   "source": [
    "## Let's put this all in a function!"
   ]
  },
  {
   "cell_type": "code",
   "execution_count": null,
   "id": "bf2a31a1-52d4-475e-a670-945e88ec0573",
   "metadata": {},
   "outputs": [],
   "source": [
    "def lotka_volterra(x_0, y_0):\n",
    "    \n",
    "    ## FILL IN THIS PART\n",
    "        \n",
    "    return x, y"
   ]
  }
 ],
 "metadata": {
  "kernelspec": {
   "display_name": "Python 3 (ipykernel)",
   "language": "python",
   "name": "python3"
  },
  "language_info": {
   "codemirror_mode": {
    "name": "ipython",
    "version": 3
   },
   "file_extension": ".py",
   "mimetype": "text/x-python",
   "name": "python",
   "nbconvert_exporter": "python",
   "pygments_lexer": "ipython3",
   "version": "3.7.13"
  }
 },
 "nbformat": 4,
 "nbformat_minor": 5
}
