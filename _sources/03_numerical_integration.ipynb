{
 "cells": [
  {
   "cell_type": "markdown",
   "id": "3b77f571-6aa5-4a2a-a772-396124dfefeb",
   "metadata": {},
   "source": [
    "# Week 3: Numerical Integration\n",
    "\n",
    "<hr/>"
   ]
  },
  {
   "cell_type": "markdown",
   "id": "8ad9ce17-19ee-49be-a844-10113bb95d49",
   "metadata": {},
   "source": [
    "## Today's Learning Objectives\n",
    "\n",
    "- Implement the Euler Method for integrating exponential growth over time\n",
    "- Explain the effect $\\Delta t$ has on the quality of the approximation\n",
    "- Explain what is meant by 'higher order' approximations, and be able to predict how they compare to the Euler method\n",
    "- Implement one higher order approximation of exponential growth and compare it to the Euler method"
   ]
  },
  {
   "cell_type": "markdown",
   "id": "5448bf2e-fc03-44d1-b36c-c7f391ef34f4",
   "metadata": {},
   "source": [
    "## The Euler Method\n",
    "Developing simple ways to solve ordinary differential equations has long been an area of intense research. While deriving the analytical solution may be simple in some cases, it is often useful to solve them numerically, especially if slamming out the analytical solution will give you carpal tunnel.\n",
    "\n",
    "While there are many ways to numerically integrate these equations, in this tutorial we will examine the Forward Euler method. Say we have an ordinary differential equation such as\n",
    "\n",
    "$$ \\frac{dN}{dt}=kN(t) \\tag{1}$$\n",
    "\n",
    "as would be the case for exponential growth, where  $k$  is some growth-rate constant and  $t$  is time. Rather than solving this analytically (although it is not tricky to do so), we can solve it numerically by starting at some given value of  $N$, evaluating Equation (1) for a given time step $\\Delta t$ , and updating the new value of  $N$  at this new time  $t+\\Delta t$ . We can phrase this mathematically as\n",
    "\n",
    "$$N(t+\\Delta t)=N(t)+kN(t)\\Delta t. \\tag{2}$$\n",
    "\n",
    "Say our initial value ( $N$  at  $t=0$ ) is  $N=10$  and  $k=1$. We can take a time step $\\Delta t=0.1$  and find that the change in value of $N$  is\n",
    "\n",
    "$$\\Delta N=kN \\Delta t=1.\\tag{3}$$\n",
    "\n",
    "We can then compute the new value of  $N$  at time  $t+\\Delta t$  as\n",
    "\n",
    "$$N(t+\\Delta t)=N(t)+\\Delta N=10+1=11.\\tag{4}$$\n",
    "\n",
    "We can then take another step forward in time and repeat the process for as long as we would like. As the total time we'd like to integrate over becomes large, it becomes obvious why using a computer is a far more attractive approach than scribbling it by hand.\n",
    "\n",
    "A major point to be wary of is the instability of this method. The error in this scales with the square of our step size. We must choose a sufficiently small step in time such that at most only one computable event must occur. For example, if we are integrating exponential growth of bacterial cells, we don't want to take time steps larger than a cell division! This requirement is known as the Courant-Friedrichs-Lewy condition and is important for many different time-marching computer simulations."
   ]
  },
  {
   "cell_type": "code",
   "execution_count": 3,
   "id": "02593278-3832-4856-8514-2d37de2691a2",
   "metadata": {},
   "outputs": [],
   "source": [
    "# import the necessary modules\n",
    "import numpy as np\n",
    "import matplotlib.pyplot as plt\n",
    "\n",
    "# for pretty plots\n",
    "import seaborn as sns\n",
    "sns.set()"
   ]
  },
  {
   "cell_type": "markdown",
   "id": "6c84ab94-58b8-4b93-b4c8-e6868847c799",
   "metadata": {},
   "source": [
    "In order to numerically integrate Equation (1), we first need to specify a few parameters, such as the initial value of $N$, the growth rate $r$ , and the time step $\\Delta t$."
   ]
  },
  {
   "cell_type": "code",
   "execution_count": 2,
   "id": "aaa8210d-e5e2-4674-94ca-4ff6bc687162",
   "metadata": {},
   "outputs": [],
   "source": [
    "# parameters for our ODE\n",
    "N_0 = 1\n",
    "k = 0.03 # min^-1\n",
    "\n",
    "# parameters for our integration\n",
    "dt = 10 # min\n",
    "total_time = 120 # min"
   ]
  },
  {
   "cell_type": "markdown",
   "id": "112014fa-f387-4c8e-8940-ff0db0981def",
   "metadata": {},
   "source": [
    "Now we can set up an array into which we can save our values of  $N$  as they increase with time, with the first value in the `N_t` array being set to `N_0` as specified above."
   ]
  },
  {
   "cell_type": "code",
   "execution_count": 4,
   "id": "71ffd1f3-0d48-4439-a10b-aba98043a479",
   "metadata": {},
   "outputs": [],
   "source": [
    "# determine the number of steps that will be taken\n",
    "num_steps = int(total_time/dt)\n",
    "\n",
    "# initilize an array of length num_steps into which to store values of N\n",
    "N = np.zeros(num_steps)\n",
    "N[0] = N_0"
   ]
  },
  {
   "cell_type": "markdown",
   "id": "457fb63f-07b9-48cc-8450-cad41934d54b",
   "metadata": {},
   "source": [
    "Now we can actually compute the numerical integration, by looping through the `N` array and filling in the values of `N` as we go. At each time point $N(t+\\Delta t)=N(t)+kN(t) \\Delta t$,  where  $t+\\Delta t$  refers to the next entry in the `N` array."
   ]
  },
  {
   "cell_type": "code",
   "execution_count": 5,
   "id": "a2627bdd-a975-4e9e-af46-8a1946a49e46",
   "metadata": {},
   "outputs": [],
   "source": [
    "# numerically integrate by looping through N\n",
    "for t in range(0,num_steps-1):\n",
    "    \n",
    "    # first calculate dN, using pevious N entry\n",
    "    dN = N[t]*k*dt\n",
    "    \n",
    "    # update current N entry\n",
    "    N[t+1] = N[t] + dN"
   ]
  },
  {
   "cell_type": "markdown",
   "id": "9de7d600-5a1e-4110-b37f-173593d7d58a",
   "metadata": {},
   "source": [
    "And done! The numerical integration of more than a thousand time steps just happened nearly instantly, showing the immense value of using code to automate computational processes. Let's now plot the results. We currently have the  $N$  values to plot, we just need to specify the  $t$  values as well."
   ]
  },
  {
   "cell_type": "code",
   "execution_count": 6,
   "id": "5731d452-b3f7-448e-a791-ccb4873eede5",
   "metadata": {},
   "outputs": [
    {
     "data": {
      "text/plain": [
       "Text(0, 0.5, 'N')"
      ]
     },
     "execution_count": 6,
     "metadata": {},
     "output_type": "execute_result"
    },
    {
     "data": {
      "image/png": "[encoded data removed]",
      "text/plain": [
       "<Figure size 432x288 with 1 Axes>"
      ]
     },
     "metadata": {
      "needs_background": "light"
     },
     "output_type": "display_data"
    }
   ],
   "source": [
    "# make array of time values\n",
    "times = np.arange(num_steps)*dt\n",
    "\n",
    "# plot \n",
    "plt.plot(times,N,'.')\n",
    "plt.xlabel(\"time (mins)\")\n",
    "plt.ylabel(\"N\")"
   ]
  },
  {
   "cell_type": "markdown",
   "id": "91274e80-0e88-43c9-910c-7d4fb4669dd3",
   "metadata": {},
   "source": [
    "That certainly looks exponential! Let's plot the known solution of  $N(t)=N_0e^{kt}$  on top of our numerical integration for comparison."
   ]
  },
  {
   "cell_type": "code",
   "execution_count": 7,
   "id": "41fd8e5f-18fb-485f-91a1-9f778efe72bf",
   "metadata": {},
   "outputs": [
    {
     "data": {
      "text/plain": [
       "<matplotlib.legend.Legend at 0x7fb055780b10>"
      ]
     },
     "execution_count": 7,
     "metadata": {},
     "output_type": "execute_result"
    },
    {
     "data": {
      "image/png": "[encoded data removed]",
      "text/plain": [
       "<Figure size 432x288 with 1 Axes>"
      ]
     },
     "metadata": {
      "needs_background": "light"
     },
     "output_type": "display_data"
    }
   ],
   "source": [
    "# compute the known solution\n",
    "soln = N_0 * np.exp(k*times)\n",
    "\n",
    "# plot both our integration and the known solution\n",
    "plt.plot(times,N,'.')\n",
    "plt.plot(times,soln,'.')\n",
    "plt.xlabel(\"time (mins)\")\n",
    "plt.ylabel(\"N\")\n",
    "plt.legend([\"numerical integration\", \"known solution\"])"
   ]
  },
  {
   "cell_type": "markdown",
   "id": "56c35f40-9180-4d61-9a12-77be8824f4c7",
   "metadata": {},
   "source": [
    "Nice! Our numerical integration and the known solution are so similar that the two lines can't be distinguished from each other in the plot above. Recall how we said that picking a sufficiently small  $\\Delta t$  is necessary for numerical integration to work? From here, it's worth while to see how the plot above changes for different values of `dt`. As `dt` increases, our numerical integration deviates more and more from the known solution, with our integration systematically underestimating the true values. This is because with exponential growth, the rate of growth is always increasing and taking too large of a time step fails to capture this increase."
   ]
  },
  {
   "cell_type": "markdown",
   "id": "d2e7a3e3-3493-4496-b2f7-7b94558d63c1",
   "metadata": {},
   "source": [
    "## Improved Euler\n",
    "\n",
    "As discussed in Chapter 2.8 of Stogatz and as we saw above, Euler can result in inaccuracies as $\\Delta t$ becomes to larger. Another way to combat this, as opposed to just bringing down the value of $\\Delta t$ is to try to improve the quality of our estimate. One way is to take the average over the interval we are looking at, acknowledging that the derivative at this value of $N(t)$ and the derivative at $N(t+\\Delta t)$ will be different from each other. By averaging these two values, we can get a better estimate of the derivative over the interval we are looking at. Concretely what this looks like is first calculating our updated value for $N$ as\n",
    "\n",
    "$$\\tilde{N} (t+\\Delta t)=N(t)+kN(t)\\Delta t. \\tag{5}$$\n",
    "\n",
    "where the $\\tilde{}$ indicated that this is just an initial guess of $N$ at $t+\\Delta t$. Our final estimate of $N (t+\\Delta t)$ will incorporate this value, and is defined as follows:\n",
    "\n",
    "$$ N(t+\\Delta t)=N(t)+ \\frac{1}{2}[N(t)+\\tilde{N}(t+\\Delta t)]k\\Delta t. \\tag{6}$$\n",
    "\n",
    "Below, update our code from before to incorporate this more nuanced version of the Euler method."
   ]
  },
  {
   "cell_type": "code",
   "execution_count": 8,
   "id": "058fe8af-a39d-4aa8-ab9d-10f2b7f80a24",
   "metadata": {},
   "outputs": [],
   "source": [
    "# numerically integrate by looping through N\n",
    "for t in range(0,num_steps-1):\n",
    "    \n",
    "    # first calculate dN, using pevious N_t entry\n",
    "    dN = N[t]*k*dt\n",
    "    \n",
    "    # initial guess at N, using normal Euler's\n",
    "    N_guess = N[t] + dN\n",
    "    \n",
    "    # final approximation for the new value of N\n",
    "    N_new = N[t] + 0.5*(N[t]+N_guess)*k*dt\n",
    "    \n",
    "    # update the N array\n",
    "    N[t+1] = N_new"
   ]
  },
  {
   "cell_type": "markdown",
   "id": "cd289c8a-17f4-413b-b744-cf12969a29bc",
   "metadata": {},
   "source": [
    "How do the plots compare this time? Does it seem like this \"improved\" Euler actually helped?"
   ]
  },
  {
   "cell_type": "code",
   "execution_count": 9,
   "id": "0c59db69-996f-4bcf-b4ed-1c985e1dc36a",
   "metadata": {},
   "outputs": [
    {
     "data": {
      "text/plain": [
       "<matplotlib.legend.Legend at 0x7fb055608450>"
      ]
     },
     "execution_count": 9,
     "metadata": {},
     "output_type": "execute_result"
    },
    {
     "data": {
      "image/png": "[encoded data removed]",
      "text/plain": [
       "<Figure size 432x288 with 1 Axes>"
      ]
     },
     "metadata": {
      "needs_background": "light"
     },
     "output_type": "display_data"
    }
   ],
   "source": [
    "# compute the known solution\n",
    "soln = N_0 * np.exp(k*times)\n",
    "\n",
    "# plot both our integration and the known solution\n",
    "plt.plot(times,N,'.')\n",
    "plt.plot(times,soln,'.')\n",
    "plt.xlabel(\"time (mins)\")\n",
    "plt.ylabel(\"N\")\n",
    "plt.legend([\"numerical integration\", \"known solution\"])"
   ]
  },
  {
   "cell_type": "markdown",
   "id": "dc270b33-a7ea-46dd-a500-b50b4887f332",
   "metadata": {},
   "source": [
    "## Fourth-Order Runge-Kutta Method\n",
    "\n",
    "Lastly, an even more nuanced approximation would incorporate even more points, such as the fourth-order Runge-Kutta method. Here we start to see the trade-off between the number of calculations required and the quality of the approximation. While Runge-Kutta will perform better the the Euler method, it requires a total of five calculations for every time step. For this problem, the additional computation won't be that noticeable, but this may be something you have to consider for more complicated problems. \n",
    "\n",
    "In general for a differential equation $f(x)$, the approximation for $x$ at time $t + \\Delta t$ is computed as follows\n",
    "\n",
    "\n",
    "$$k_1=f\\left(x_t\\right) \\Delta t$$\n",
    "\n",
    "$$k_2=f\\left(x_t+\\frac{1}{2} k_1\\right) \\Delta t $$\n",
    "\n",
    "$$k_3=f\\left(x_t+\\frac{1}{2} k_2\\right) \\Delta t$$\n",
    "\n",
    "$$k_4=f\\left(x_t+k_3\\right) \\Delta t $$\n",
    "\n",
    "$$x_{t+\\Delta t} = x_t + \\frac{1}{6}(k_1 + 2k_2 + 2k_3 + k_4)$$\n",
    "\n",
    "Once again, let's update our integration from before to compute this more precise approximation. How does this fourth-order approximation compare to the Euler method? How about the improved Euler method? "
   ]
  },
  {
   "cell_type": "code",
   "execution_count": 10,
   "id": "4b6cf1ad-009e-4f3c-b8b3-deb36edd8fd5",
   "metadata": {},
   "outputs": [],
   "source": [
    "# numerically integrate by looping through N\n",
    "for t in range(0,num_steps-1):\n",
    "    \n",
    "    # FILL IN THE REST HERE\n",
    "    N[t] = N_0"
   ]
  },
  {
   "cell_type": "code",
   "execution_count": 11,
   "id": "0129b2ef-d702-4a4d-97e9-8688069d4b11",
   "metadata": {},
   "outputs": [
    {
     "data": {
      "text/plain": [
       "<matplotlib.legend.Legend at 0x7fb0558e5d90>"
      ]
     },
     "execution_count": 11,
     "metadata": {},
     "output_type": "execute_result"
    },
    {
     "data": {
      "image/png": "[encoded data removed]",
      "text/plain": [
       "<Figure size 432x288 with 1 Axes>"
      ]
     },
     "metadata": {
      "needs_background": "light"
     },
     "output_type": "display_data"
    }
   ],
   "source": [
    "# compute the known solution\n",
    "soln = N_0 * np.exp(k*times)\n",
    "\n",
    "# plot both our integration and the known solution\n",
    "plt.plot(times,N,'.')\n",
    "plt.plot(times,soln,'.')\n",
    "plt.xlabel(\"time (mins)\")\n",
    "plt.ylabel(\"N\")\n",
    "plt.legend([\"numerical integration\", \"known solution\"])"
   ]
  },
  {
   "cell_type": "code",
   "execution_count": null,
   "id": "0d86c770-b9b5-46bf-acdf-675ce272982c",
   "metadata": {},
   "outputs": [],
   "source": []
  }
 ],
 "metadata": {
  "kernelspec": {
   "display_name": "Python 3 (ipykernel)",
   "language": "python",
   "name": "python3"
  },
  "language_info": {
   "codemirror_mode": {
    "name": "ipython",
    "version": 3
   },
   "file_extension": ".py",
   "mimetype": "text/x-python",
   "name": "python",
   "nbconvert_exporter": "python",
   "pygments_lexer": "ipython3",
   "version": "3.7.13"
  }
 },
 "nbformat": 4,
 "nbformat_minor": 5
}
