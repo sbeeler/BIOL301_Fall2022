{
 "cells": [
  {
   "cell_type": "markdown",
   "metadata": {},
   "source": [
    "# Week 8: Stochastic simulations -- Gillespie Algorithm\n",
    "\n",
    "<hr>"
   ]
  },
  {
   "cell_type": "markdown",
   "metadata": {},
   "source": [
    "## Learning Objectives\n",
    "- Convert a system of differential equations into a set of state changes and propensities \n",
    "- Sample from an exponential distribution to simulate how long it will take for Poisson process to occur\n",
    "- Repeatedly use the propensities and draws from an exponential distribution to stochastically simulate a system evolving over time\n",
    "- Compare the results of stochastic simulation to the deterministic behavior"
   ]
  },
  {
   "cell_type": "code",
   "execution_count": 2,
   "metadata": {
    "tags": []
   },
   "outputs": [],
   "source": [
    "import numpy as np\n",
    "import numba\n",
    "import random\n",
    "import matplotlib.pyplot as plt\n",
    "import scipy.integrate\n",
    "\n",
    "import seaborn as sns\n",
    "sns.set(font_scale = 1.5, rc={\"lines.linewidth\":2})"
   ]
  },
  {
   "cell_type": "markdown",
   "metadata": {},
   "source": [
    "We will use the same strategy for simulating dynamics of a differential equation. We will find a way to *sample* out of the distribution that is governed by the master equation. This technique was pioneered by Dan Gillespie in the last 70s. For that reason, these sampling techniques are often called **Gillespie simulations**. The algorithm is sometimes referred to as a **stochastic simulation algorithm**, or SSA.\n",
    "\n",
    "Here, we will explore how this algorithm works by looking at simple production of a protein."
   ]
  },
  {
   "cell_type": "markdown",
   "metadata": {},
   "source": [
    "## The dynamical equations\n",
    "\n",
    "For simple protein production, we have the following reactions.\n",
    "\n",
    "\\begin{align}\n",
    "\\text{DNA} \\rightarrow \\text{mRNA} \\rightarrow \\text{protein}\n",
    "\\end{align}"
   ]
  },
  {
   "cell_type": "markdown",
   "metadata": {},
   "source": [
    "### Macroscale equations\n",
    "As we've seen before, the deterministic dynamics, which describe mean concentrations over a large population of cells, are described by the ODEs\n",
    "\n",
    "$$ \\frac{\\mathrm{d}m}{\\mathrm{d}t} = \\beta_m - \\gamma_m m,$$\n",
    "\n",
    "$$ \\frac{\\mathrm{d}p}{\\mathrm{d}t} = \\beta_p m - \\gamma_p p$$"
   ]
  },
  {
   "cell_type": "markdown",
   "metadata": {},
   "source": [
    "## The Gillespie algorithm\n",
    "\n",
    "The transition probabilities are also called **propensities** in the context of stochastic simulation. The propensity for a given transition, say indexed $i$, is denoted as $a_i$. "
   ]
  },
  {
   "cell_type": "markdown",
   "metadata": {},
   "source": [
    "To cast this problem for a Gillespie simulation, we can write each change of state (moving either the copy number of mRNA or protein up or down by 1 in this case) and their respective propensities.\n",
    "\n",
    "\\begin{align}\n",
    "\\begin{array}{ll}\n",
    "\\text{reaction, }r_i & \\text{propensity, } a_i \\\\\n",
    "m \\rightarrow m+1,\\;\\;\\;\\; & \\beta_m \\\\[0.3em]\n",
    "m \\rightarrow m-1, \\;\\;\\;\\; & \\gamma_m m\\\\[0.3em]\n",
    "p \\rightarrow p+1, \\;\\;\\;\\; & \\beta_p m \\\\[0.3em]\n",
    "p \\rightarrow p-1, \\;\\;\\;\\; & \\gamma_p p.\n",
    "\\end{array}\n",
    "\\end{align}\n",
    "\n",
    "The basic idea is that events (such as those outlined above) are rare, discrete, separate events.  I.e., each event is an arrival of a Poisson process.  The Gillespie algorithm starts with some state, $(m_0,p_0)$.  Then a state change, *any* state change, will happen in some time $\\Delta t$ that has a certain probability distribution (which we will show is Exponential momentarily).  The probability that the state change that happens is reaction $j$ is proportional to $a_j$.  That is to say, state changes with high propensities are more likely to occur.  Thus, choosing which of the $n$ state changes happens in $\\Delta t$ is a matter of drawing an integer $j$ in $[1,n]$ where the probability of drawing $j$ is\n",
    "\n",
    "$$ \\frac{a_j}{\\sum_i a_i} $$\n",
    "\n",
    "Now, how do we determine how long the state change took? We can consider each possible stage change as a Poisson process that occurs with rate $a_i$. And as we saw last semester, the time it takes for the arrival of a [Poisson process is exponentially distributed](https://distribution-explorer.github.io/continuous/exponential.html). So the wait time for each given event will be exponentially distributed with mean wait time of $1/a_i$. \n",
    "\n",
    "But we are interested in the chance of **any** of our state changes occurring. Since we consider each of the possible events as being independent from each other, the rate at with **any** event occurs will be the sum of all $a_i$, and accordingly the wait time for *something* to occur will be exponentially distributed with mean $1/\\sum a_i$.\n",
    "\n",
    "With these consideration in place, the Gillespie algorithm then proceeds as follows:\n",
    "\n",
    ">1. Choose an initial condition, e.g., $m = p = 0$.\n",
    "2. Calculate the propensity for each of the enumerated state changes.  The propensities may be functions of $m$ and $p$, so they need to be recalculated for every $m$ and $p$ we encounter.\n",
    "3. Choose how much time the reaction will take by drawing out of an exponential distribution with a mean equal to $\\left(\\sum_i a_i\\right.)^{-1}$.  This means that a change arises from a Poisson process.\n",
    "4. Choose what state change will happen by drawing a sample out of the discrete distribution where $P_i = \\left.a_i\\middle/\\left(\\sum_i a_i\\right)\\right.$.  In other words, the probability that a state change will be chosen is proportional to its propensity.\n",
    "5. Increment time by the time step you chose in step 3.\n",
    "6. Update the states according to the state change you choose in step 4.\n",
    "7. If $t$ is less than your pre-determined stopping time, go to step 2. Else stop."
   ]
  },
  {
   "cell_type": "markdown",
   "metadata": {},
   "source": [
    "## Working through an example:\n",
    "\n",
    "Before we code the full Gillespie simulation, let's work through an example with some concrete numbers to get a sense of how the simulation will work.\n",
    "\n",
    "Let's say we are starting with :\n",
    "\n",
    "- 1 mRNA\n",
    "- production rate of 10 transcripts per min\n",
    "- degradation rate of 1 per minute per transcript\n",
    "\n",
    "In this case, what would be our two propensities? "
   ]
  },
  {
   "cell_type": "code",
   "execution_count": 3,
   "metadata": {},
   "outputs": [],
   "source": [
    "m = 1\n",
    "production_prop = 10\n",
    "degradation_prop = 1*m"
   ]
  },
  {
   "cell_type": "markdown",
   "metadata": {},
   "source": [
    "Let's now sum up our propensities, to get a sense of how often we expect \"something\" to happen, regardless of which specific even it is. (We will figure out which event occurred in the next step!)"
   ]
  },
  {
   "cell_type": "code",
   "execution_count": 9,
   "metadata": {},
   "outputs": [
    {
     "name": "stdout",
     "output_type": "stream",
     "text": [
      "0.029758469913321445\n"
     ]
    }
   ],
   "source": [
    "total_prop = production_prop + degradation_prop\n",
    "time_elapsed = np.random.exponential(1/total_prop)\n",
    "print(time_elapsed)"
   ]
  },
  {
   "cell_type": "markdown",
   "metadata": {},
   "source": [
    "Running the cell above multiple times will give us a sense of the possible variability in these processes. On average, we expect something to happen every one-eleventh of a minute, but the actually time will vary based on the [exponential distribution](https://distribution-explorer.github.io/continuous/exponential.html). \n",
    "\n",
    "Finally, let's determine which of the two events will occur. We can `random.choices` for this, where our two possible state changes are weighted by their propensities specified above."
   ]
  },
  {
   "cell_type": "code",
   "execution_count": 21,
   "metadata": {},
   "outputs": [
    {
     "data": {
      "text/plain": [
       "['degradation']"
      ]
     },
     "execution_count": 21,
     "metadata": {},
     "output_type": "execute_result"
    }
   ],
   "source": [
    "event = random.choices([\"production\", \"degradation\"], weights=(production_prop, degradation_prop))\n",
    "event"
   ]
  },
  {
   "cell_type": "code",
   "execution_count": 5,
   "metadata": {},
   "outputs": [
    {
     "data": {
      "text/plain": [
       "'production'"
      ]
     },
     "execution_count": 5,
     "metadata": {},
     "output_type": "execute_result"
    }
   ],
   "source": [
    "event = random.choices([\"production\", \"degradation\"], weights=(production_prop, degradation_prop))[0]\n",
    "event"
   ]
  },
  {
   "cell_type": "markdown",
   "metadata": {},
   "source": [
    "## Coding up the Gillespie simulation\n",
    "\n",
    "Now that we have a concrete example for a single step of the Gillespie simulation, let's now code the entire simulation. For now we will only consider the number of mRNAs, but you will consider the number of proteins as well in the homework."
   ]
  },
  {
   "cell_type": "code",
   "execution_count": 22,
   "metadata": {
    "tags": []
   },
   "outputs": [],
   "source": [
    "# specifying the parameters\n",
    "beta = 10 # per min\n",
    "gamma = 1 # per min, per transcript\n",
    "\n",
    "# how long we want run simulation for\n",
    "total_time = 10 # mins\n",
    "\n",
    "# initializing the number of mRNAs and the time\n",
    "m = [1]\n",
    "t = [0]\n",
    "\n",
    "while t[-1] < total_time:\n",
    "    \n",
    "    # specify the propensities for the possible state change\n",
    "    production_prop = beta \n",
    "    degradation_prop = gamma * m[-1]\n",
    "    \n",
    "    # add up all the propensities\n",
    "    total_prop = production_prop + degradation_prop \n",
    "    \n",
    "    # determine how much time elapses before \"something\" happens\n",
    "    time_elapsed = np.random.exponential(1/total_prop)\n",
    "    \n",
    "    # update time array \n",
    "    t.append( t[-1] + time_elapsed )\n",
    "    \n",
    "    # randomly choose which event happens. weighted by their propensities\n",
    "    event = random.choices([\"production\", \"degradation\"], \n",
    "                           weights=(production_prop, degradation_prop))[0]\n",
    "    \n",
    "    # update mRNA list based on which event happend\n",
    "    if event == \"production\":\n",
    "        m.append( m[-1] + 1 )\n",
    "        \n",
    "    if event == \"degradation\":\n",
    "        m.append( m[-1] - 1 )"
   ]
  },
  {
   "cell_type": "markdown",
   "metadata": {},
   "source": [
    "If everything went well, the plot below show tend towards 10 mRNAs, but with some fluctuations due to the randomness!"
   ]
  },
  {
   "cell_type": "code",
   "execution_count": 24,
   "metadata": {},
   "outputs": [
    {
     "data": {
      "text/plain": [
       "Text(0, 0.5, 'number of mRNAS')"
      ]
     },
     "execution_count": 24,
     "metadata": {},
     "output_type": "execute_result"
    },
    {
     "data": {
      "image/png": "[encoded data removed]",
      "text/plain": [
       "<Figure size 432x288 with 1 Axes>"
      ]
     },
     "metadata": {
      "needs_background": "light"
     },
     "output_type": "display_data"
    }
   ],
   "source": [
    "plt.plot(t,m)\n",
    "plt.xlabel(\"time (mins)\")\n",
    "plt.ylabel(\"number of mRNAS\")"
   ]
  },
  {
   "cell_type": "markdown",
   "metadata": {},
   "source": [
    "## Problem 1\n",
    "\n",
    "Due to the random nature of a stochastic process, a single simulation may not be representative. To get a better sense of how this system will behave *on average*, use a `for` loop to repeat our stochastic simulation 100 times. Plot each of these simulations on the same plot to see how much variability there can be from simulation to simulation. Remember you can use the `alpha` variable to make your plots more transparent and easier to visualize many on top of each other."
   ]
  },
  {
   "cell_type": "code",
   "execution_count": null,
   "metadata": {},
   "outputs": [],
   "source": []
  },
  {
   "cell_type": "markdown",
   "metadata": {},
   "source": [
    "## Problem 2\n",
    "\n",
    "Numerically integrate the $ \\frac{\\mathrm{d}m}{\\mathrm{d}t} = \\beta_m - \\gamma_m m$ differential equation, using one of our previous methods (Euler, `scipy`, etc.). Plot the results of your numerical integration on top of your stochastic simulations from Problem 2. How do the results compare?"
   ]
  },
  {
   "cell_type": "code",
   "execution_count": null,
   "metadata": {},
   "outputs": [],
   "source": []
  },
  {
   "cell_type": "markdown",
   "metadata": {},
   "source": [
    "## Problem 3\n",
    "\n",
    "Expand our simulation from class to now keep track of both an mRNA and protein populations.\n",
    "\n",
    "\\begin{align}\n",
    "\\begin{array}{ll}\n",
    "\\text{reaction, }r_i & \\text{propensity, } a_i \\\\\n",
    "m \\rightarrow m+1,\\;\\;\\;\\; & \\beta_m \\\\[0.3em]\n",
    "m \\rightarrow m-1, \\;\\;\\;\\; & \\gamma_m m\\\\[0.3em]\n",
    "p \\rightarrow p+1, \\;\\;\\;\\; & \\beta_p m \\\\[0.3em]\n",
    "p \\rightarrow p-1, \\;\\;\\;\\; & \\gamma_p p.\n",
    "\\end{array}\n",
    "\\end{align}\n",
    "\n",
    "Below I specify the parameters you should use for this simulation. Since the number of mRNAs and the number of proteins are substantially different, plot their trajectories over time on separate plots. "
   ]
  },
  {
   "cell_type": "code",
   "execution_count": 8,
   "metadata": {},
   "outputs": [],
   "source": [
    "# specifying the parameters\n",
    "beta_m = 10 # per min\n",
    "gamma_m = 1 # per min, per transcript\n",
    "beta_p = 10 # per min\n",
    "gamma_p = 0.5 # per min, per protein\n",
    "\n",
    "# how long we want run simulation for\n",
    "total_time = 20 # mins"
   ]
  },
  {
   "cell_type": "markdown",
   "metadata": {},
   "source": [
    "## Problem 4\n",
    "\n",
    "Returning to the original equations, what are the expected steady-state / fixed point values for the number of mRNAs and proteins? Calculate precise numbers based on the parameter values we've used here. How do these expected value compare to what you see in your simulation?"
   ]
  },
  {
   "cell_type": "code",
   "execution_count": null,
   "metadata": {},
   "outputs": [],
   "source": []
  },
  {
   "cell_type": "markdown",
   "metadata": {},
   "source": []
  },
  {
   "cell_type": "markdown",
   "metadata": {},
   "source": [
    "## Attribution\n",
    "\n",
    "Materials for this notebook were borrowed from © 2019 [Justin Bois](http://bois.caltech.edu/teaching.html), as licensed under a Creative Commons Attribution License CC-BY 4.0. All code contained herein is licensed under an MIT license."
   ]
  }
 ],
 "metadata": {
  "kernelspec": {
   "display_name": "Python 3 (ipykernel)",
   "language": "python",
   "name": "python3"
  },
  "language_info": {
   "codemirror_mode": {
    "name": "ipython",
    "version": 3
   },
   "file_extension": ".py",
   "mimetype": "text/x-python",
   "name": "python",
   "nbconvert_exporter": "python",
   "pygments_lexer": "ipython3",
   "version": "3.7.13"
  }
 },
 "nbformat": 4,
 "nbformat_minor": 4
}
