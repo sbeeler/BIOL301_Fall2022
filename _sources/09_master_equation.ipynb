{
 "cells": [
  {
   "cell_type": "markdown",
   "metadata": {},
   "source": [
    "# Week 9: Numerically integrating a probability distribution -- Master equations\n",
    "\n",
    "<hr>"
   ]
  },
  {
   "cell_type": "markdown",
   "metadata": {},
   "source": [
    "## Learning Objectives\n",
    "- Revisiting from last semester: simulate diffusion via \"coin flips\" \n",
    "- Approach diffusion using a \"Master Equation\" approach to numerically integrate the distribution of diffusion particles over time\n",
    "- Alter the initial conditions and parameters of the integration to simulate different biological processes"
   ]
  },
  {
   "cell_type": "code",
   "execution_count": 3,
   "metadata": {
    "tags": []
   },
   "outputs": [],
   "source": [
    "import numpy as np\n",
    "import numba\n",
    "import random\n",
    "import matplotlib.pyplot as plt\n",
    "import scipy.integrate\n",
    "\n",
    "import seaborn as sns\n",
    "sns.set(font_scale = 1.5, rc={\"lines.linewidth\":2})"
   ]
  },
  {
   "cell_type": "markdown",
   "metadata": {},
   "source": [
    "## Diffusion via coin flips\n",
    "\n",
    "As a throwback to last semester, let's simulate a particle diffusing over time. We can consider the particle of interest as starting at position 0. At each time point, it will move +1 if we \"flip a coin\" and get heads, and will move -1 if get tails.\n",
    "\n",
    "As a reminder, we can simulate flipping a coin by using the `random` module:"
   ]
  },
  {
   "cell_type": "code",
   "execution_count": 5,
   "metadata": {},
   "outputs": [
    {
     "data": {
      "text/plain": [
       "0.5319746989262999"
      ]
     },
     "execution_count": 5,
     "metadata": {},
     "output_type": "execute_result"
    }
   ],
   "source": [
    "rand = random.random()\n",
    "rand"
   ]
  },
  {
   "cell_type": "markdown",
   "metadata": {},
   "source": [
    "Once we have a randomly generated number, we can assign what we want to do next based on the value. As an example, I print `heads` or `tails` below."
   ]
  },
  {
   "cell_type": "code",
   "execution_count": 6,
   "metadata": {},
   "outputs": [
    {
     "name": "stdout",
     "output_type": "stream",
     "text": [
      "heads\n"
     ]
    }
   ],
   "source": [
    "if rand > 0.5:\n",
    "    print(\"heads\")\n",
    "          \n",
    "if rand < 0.5:\n",
    "    print(\"tails\")"
   ]
  },
  {
   "cell_type": "markdown",
   "metadata": {},
   "source": [
    "### Activity 1\n",
    "\n",
    "Below, use this concept of \"coin flips\" to simulate a particle's position over time."
   ]
  },
  {
   "cell_type": "code",
   "execution_count": 13,
   "metadata": {},
   "outputs": [
    {
     "data": {
      "image/png": "[encoded data removed]",
      "text/plain": [
       "<Figure size 432x288 with 1 Axes>"
      ]
     },
     "metadata": {
      "needs_background": "light"
     },
     "output_type": "display_data"
    }
   ],
   "source": [
    "# number of steps\n",
    "n_steps = 1000\n",
    "\n",
    "# array to store particle position\n",
    "x = np.zeros(n_steps)\n",
    "\n",
    "# simulate the particle moving moving over time\n",
    "#\n",
    "#\n",
    "\n",
    "# Show the trajectory\n",
    "plt.plot(x)\n",
    "plt.xlabel('steps taken')\n",
    "plt.ylabel('position');"
   ]
  },
  {
   "cell_type": "markdown",
   "metadata": {},
   "source": [
    "As we can see, the position of the particle moves about the origin in an un-directed fashion as a result of the randomness of the steps taken. However, it's hard to conclude anything from this single trace. Only by simulating many of these trajectories can we begin to conclude some of the scaling properties of diffusing particles.\n",
    "\n",
    "### Activity 2\n",
    "\n",
    "Repeat the simulation above for 100 particles and plot the trajectories on the same plot. We can use this to get a sense of the typical behavior since a single trajectory might not be representative. "
   ]
  },
  {
   "cell_type": "code",
   "execution_count": null,
   "metadata": {},
   "outputs": [],
   "source": []
  },
  {
   "cell_type": "markdown",
   "metadata": {},
   "source": [
    "## Master equation\n",
    "\n",
    "While it is useful to demonstrate this behavior stochastically as we've done above, we may also wish to know the deterministic behavior, akin to when we've done numerical integration in for differential equations. For this, we will introduce something known as the \"Master Equation\" as a way to track not individual particles, but instead the *probability* that particles will be found at various positions. \n",
    "\n",
    "This involves keeping track of the probability $p(n,t)$ of particles being at location $n$ at time $t$:\n",
    "\n",
    "$$\n",
    "\\overbrace{p(n, t+\\Delta t)}^{\\text {new probability }}=\\underbrace{p(n, t)}_{\\text {old probability }}+\\overbrace{k \\Delta t p(n-1, t)}^{\\text {particles moving in from left }}+\\underbrace{k \\Delta t p(n+1, t)}_{\\text {particles moving in from right }}-\\overbrace{2 k \\Delta t p(n, t)}^{\\text {particles leaving to left or right }} .\n",
    "$$\n",
    "\n",
    "This master equation allows us to calculate the probability of the walker being at position  n  at the next time step  $t+ \\Delta t$ , given the probabilities at the current time step  $t$ . $k$  is the \"hopping rate\" between neighboring positions, and  $\\Delta t$  is the time step used in the numerical calculation. For this simulation, we will use a 2D-array where we are keeping track of $N$ \"boxes\" that the particles can be in over time.\n",
    "\n",
    "Due computational limits, there are only so many \"boxes\" we can keep track of. This means we will have to specify what are known as \"boundary conditions\" at our left-most and right-most boxes.  \n",
    "\n",
    "### Activity 3\n",
    "\n",
    "Below specify what the Master Equation would be for the 0th and Nth boxes, keeping in mind that particles :\n",
    "\n",
    "$$\n",
    "\\overbrace{p(0, t+\\Delta t)}^{\\text {new probability }}=\\underbrace{p(0, t)}_{\\text {old probability }} + \\ ???\n",
    "$$\n",
    "\n",
    "$$\n",
    "\\overbrace{p(N, t+\\Delta t)}^{\\text {new probability }}=\\underbrace{p(N, t)}_{\\text {old probability }} + \\ ???\n",
    "$$\n",
    "\n",
    "Below I set up the parameters and arrays we will need for the Master Equation integration. "
   ]
  },
  {
   "cell_type": "code",
   "execution_count": 107,
   "metadata": {},
   "outputs": [],
   "source": [
    "# number of boxes\n",
    "n_boxes = 41\n",
    "\n",
    "# time increment (Delta t) in seconds\n",
    "dt = 0.1\n",
    "\n",
    "# number of steps\n",
    "n_steps = 1000\n",
    "\n",
    "# hopping rate constant (k) in sec^-1\n",
    "k = 1\n",
    "\n",
    "# initialize the probability distribution\n",
    "p = np.zeros([n_boxes, n_steps])\n",
    "\n",
    "# find the middle box\n",
    "n_center = int(n_boxes / 2)\n",
    "\n",
    "# set the middle box to have probability 1 at the initial time step \n",
    "p[0, 0] = 1"
   ]
  },
  {
   "cell_type": "code",
   "execution_count": 108,
   "metadata": {},
   "outputs": [
    {
     "data": {
      "image/png": "[encoded data removed]",
      "text/plain": [
       "<Figure size 432x288 with 1 Axes>"
      ]
     },
     "metadata": {
      "needs_background": "light"
     },
     "output_type": "display_data"
    }
   ],
   "source": [
    "plt.bar(np.arange(n_boxes), p[:,0])\n",
    "plt.xlabel(\"box position\")\n",
    "plt.ylabel(\"proability\");"
   ]
  },
  {
   "cell_type": "markdown",
   "metadata": {},
   "source": [
    "### Activity 4 / Start of the homework \n",
    "\n",
    "Using the Master Equations we specified above, integrate the $p(n,t)$ probability array."
   ]
  },
  {
   "cell_type": "code",
   "execution_count": 71,
   "metadata": {},
   "outputs": [
    {
     "ename": "SyntaxError",
     "evalue": "invalid syntax (3688657676.py, line 6)",
     "output_type": "error",
     "traceback": [
      "\u001b[0;36m  File \u001b[0;32m\"/var/folders/7y/26f264rd4ldbcc1h172r7jkh0000gn/T/ipykernel_17035/3688657676.py\"\u001b[0;36m, line \u001b[0;32m6\u001b[0m\n\u001b[0;31m    p[t,b] = p[b,t-1] + ???\u001b[0m\n\u001b[0m                        ^\u001b[0m\n\u001b[0;31mSyntaxError\u001b[0m\u001b[0;31m:\u001b[0m invalid syntax\n"
     ]
    }
   ],
   "source": [
    "# loop through the number of steps\n",
    "for t in range(1, n_steps):\n",
    "    \n",
    "    # update probability array in the interior region\n",
    "    for b in range(1,n_boxes-1):\n",
    "        p[b,t] = p[b,t-1] + ???\n",
    "\n",
    "    # update probability array for the left-most box\n",
    "    p[0,t] = p[0, t-1] + ???\n",
    "    \n",
    "    # update probability array for the right-most box\n",
    "    p[-1,t] = p[-1, t-1] + ???"
   ]
  },
  {
   "cell_type": "markdown",
   "metadata": {},
   "source": [
    "## Problem 1 - Diffusion in a box\n",
    "\n",
    "From the Master Equation numerical integration, plot the probability distribution of the particles at time step 0, 49, and 99. How does this time-lapse show diffusion?"
   ]
  },
  {
   "cell_type": "code",
   "execution_count": null,
   "metadata": {},
   "outputs": [],
   "source": []
  },
  {
   "cell_type": "markdown",
   "metadata": {},
   "source": [
    "## Problem 2 - Diffusion in a smaller box\n",
    "\n",
    "Repeat the numerical integration and plotting with `n_boxes = 11`. Describe what you see and compare it to the plots in Problem 1."
   ]
  },
  {
   "cell_type": "code",
   "execution_count": null,
   "metadata": {},
   "outputs": [],
   "source": []
  },
  {
   "cell_type": "markdown",
   "metadata": {},
   "source": [
    "## Problem 3 - Setting up a gradient\n",
    "\n",
    "[Bicoid](https://en.wikipedia.org/wiki/Homeotic_protein_bicoid) is a key gene in the early development of the fruit fly, Drosophila. The protein is initially only found on the anterior (head) side of the embryo and diffuses further down the embryo over time. This ultimately results in a gradient, with diminishing amounts of Bicoid as you go further along the embryo. To simulate this process of the Bicoid gradient being set up, take the following steps:\n",
    "\n",
    "- Edit the initial probability array (back to `n_boxes = 41`) to represent this scenario with Bicoid, where initially 100% of the particle probability is in the left-most \"box\".\n",
    "- Run the Master Equation integration for `n_steps = 500`.\n",
    "- Plot the results at time step 0, 249, and 499.\n",
    "- Describe what you see and explain how diffusion was able to set up a gradient."
   ]
  },
  {
   "cell_type": "code",
   "execution_count": null,
   "metadata": {},
   "outputs": [],
   "source": []
  },
  {
   "cell_type": "markdown",
   "metadata": {},
   "source": [
    "## Problem 4 - Fluorescence recovery after photobleaching (FRAP)\n",
    "\n",
    "Having developed the numerical method of integrating the master equation, let's consider its application to the problem of fluorescence recovery after photobleaching (FRAP). In FRAP experiments, the fluorescently labeled molecules initially have a uniform distribution. Applying high intensity light, the fluorescent molecules in the desired region get photobleached, meaning that they no longer fluoresce. Over time, the fluorescent molecules that were outside the photobleached region will diffuse into it, recovering the uniform fluorescence distribution. By estimating the timescale of fluorescence recovery, experimentalists can determine the diffusion constant of fluorescently labeled molecules. To simulate FRAP, take the following steps: \n",
    "\n",
    "- Initailize the probability array such that all 41 boxes have the same amount of fluorescence to begin with.\n",
    "- \"Photobleach\" the middle ten boxes, setting their probability to 0.\n",
    "- Run the Master Equation integration for `n_step = 1000`.\n",
    "- Plot the results at time step 0, 449, and 999.\n",
    "- Describe what you see happening. Give a biological reason why fluorescence recovery might happen faster or slower in real life. Which parameter would you change to model this? "
   ]
  },
  {
   "cell_type": "code",
   "execution_count": null,
   "metadata": {},
   "outputs": [],
   "source": []
  }
 ],
 "metadata": {
  "kernelspec": {
   "display_name": "Python 3 (ipykernel)",
   "language": "python",
   "name": "python3"
  },
  "language_info": {
   "codemirror_mode": {
    "name": "ipython",
    "version": 3
   },
   "file_extension": ".py",
   "mimetype": "text/x-python",
   "name": "python",
   "nbconvert_exporter": "python",
   "pygments_lexer": "ipython3",
   "version": "3.7.13"
  }
 },
 "nbformat": 4,
 "nbformat_minor": 4
}
