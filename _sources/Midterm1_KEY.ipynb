{
 "cells": [
  {
   "cell_type": "code",
   "execution_count": 2,
   "id": "c631774c-5423-46f4-b26d-91f242a9ac38",
   "metadata": {},
   "outputs": [],
   "source": [
    "# import the necessary modules\n",
    "import numpy as np\n",
    "import matplotlib.pyplot as plt\n",
    "\n",
    "# for numerical inegration\n",
    "import scipy.integrate\n",
    "\n",
    "# for pretty plots\n",
    "import seaborn as sns\n",
    "sns.set()"
   ]
  },
  {
   "cell_type": "markdown",
   "id": "59304031-a14a-4bf9-9c10-a19686ee1005",
   "metadata": {},
   "source": [
    "Throughout this midterm, we will be considering multiple aspects of the following differential equation:\n",
    "\n",
    "$$\\dot N = N (r-a(N-b)^2)$$\n",
    "\n",
    "This model demonstrates something known as the Allee effect, where the *relative* growth rate $\\dot N /N$ is highest at an intermediate value of $N$. For example, imagine that it is too hard to find mates when $N$ is very small, and there is too much competition for food and other resources when $N$ is too large. For this model to be biologically relevant, $a$, $b$, and $r$ must all be positive.\n",
    "\n",
    "Note that each part can be done in isolation. So if you get stuck, I recommend you move to a new part.\n",
    "\n",
    "## Part 1 (3 pts):\n",
    "\n",
    "What are the fixed points of this system? **You can do your math on pen and paper if you choose, but please report your results here.**"
   ]
  },
  {
   "cell_type": "markdown",
   "id": "110b2abb-3b66-4e66-9b15-2805903bc96c",
   "metadata": {},
   "source": []
  },
  {
   "cell_type": "markdown",
   "id": "37c75644-2d47-4585-bc34-718512011cb7",
   "metadata": {},
   "source": [
    "## Part 2 (6 pts):\n",
    "\n",
    "(a) Plot $\\dot N$ vs. $N$. Use the following parameter values: $a=1$, $b=3$, $r=4$. Make sure to plot over a relevant range of values so that you can clearly see the fixed points you found in Part 1.\n",
    "\n",
    "$$\\dot N = N (r-a(N-b)^2)$$"
   ]
  },
  {
   "cell_type": "code",
   "execution_count": 9,
   "id": "abfb766d-0c9e-4a45-81d0-4b9999225338",
   "metadata": {},
   "outputs": [
    {
     "data": {
      "text/plain": [
       "Text(0, 0.5, '$\\\\dot N$')"
      ]
     },
     "execution_count": 9,
     "metadata": {},
     "output_type": "execute_result"
    },
    {
     "data": {
      "image/png": "[encoded data removed]",
      "text/plain": [
       "<Figure size 432x288 with 1 Axes>"
      ]
     },
     "metadata": {
      "needs_background": "light"
     },
     "output_type": "display_data"
    }
   ],
   "source": [
    "a=1\n",
    "b=3\n",
    "r=4\n",
    "\n",
    "N = np.linspace(-1,5.5,1000)\n",
    "N_dot = N*(r-a*(N-b)**2)\n",
    "\n",
    "plt.plot(N, N_dot)\n",
    "plt.axhline(y=0, color=\"gray\")\n",
    "plt.xlabel(\"N\")\n",
    "plt.ylabel(\"$\\dot N$\")"
   ]
  },
  {
   "cell_type": "markdown",
   "id": "714ef6b5-c854-4ce2-80a1-f76742d82a95",
   "metadata": {},
   "source": [
    "(b) From your plot above, state the stability of each of the fixed points.  "
   ]
  },
  {
   "cell_type": "markdown",
   "id": "a17822bc-f46c-4d63-ae8e-a59c8099cfec",
   "metadata": {},
   "source": []
  },
  {
   "cell_type": "markdown",
   "id": "b8fbab5b-6a64-4b68-afb9-e73d5fc8a480",
   "metadata": {},
   "source": [
    "(c) Name one key way in which this model of growth differs from logistic growth."
   ]
  },
  {
   "cell_type": "markdown",
   "id": "3b7e3a96-267d-4f4b-9529-d5b8ee3657a2",
   "metadata": {},
   "source": []
  },
  {
   "cell_type": "markdown",
   "id": "ae4fbf0f-6c49-4e21-aabc-d2e5d93a75b9",
   "metadata": {},
   "source": [
    "## Part 3 (7 pts):\n",
    "\n",
    "(a) Numerically integrate the differential equation for the Allee model using the second-order \"improved\" Euler method. Run your approximation for a total time of $1$, and with a $\\Delta t$ of $0.01$. Initiate the population with three different values in turn: `[0.9, 1.0, 1.1]`, and plot the resulting trajectories on the same plot. *If you get stuck on this part, you are welcome to try a different numerical integration approach for partial credit.*\n",
    "\n",
    "$$\\dot N = N (r-a(N-b)^2)$$"
   ]
  },
  {
   "cell_type": "code",
   "execution_count": 43,
   "id": "63156f5e-a87b-4e06-ab62-fb7da364eba6",
   "metadata": {},
   "outputs": [
    {
     "data": {
      "text/plain": [
       "[<matplotlib.lines.Line2D at 0x7fa28ca04090>]"
      ]
     },
     "execution_count": 43,
     "metadata": {},
     "output_type": "execute_result"
    },
    {
     "data": {
      "image/png": "[encoded data removed]",
      "text/plain": [
       "<Figure size 432x288 with 1 Axes>"
      ]
     },
     "metadata": {
      "needs_background": "light"
     },
     "output_type": "display_data"
    }
   ],
   "source": [
    "total_time = 1\n",
    "dt = 0.01\n",
    "numsteps = int(total_time/dt)\n",
    "\n",
    "N = np.zeros(numsteps)\n",
    "N[0] = 0.9\n",
    "\n",
    "times = np.arange(numsteps)*dt\n",
    "\n",
    "for t in range(numsteps-1):\n",
    "    dN = N[t]*(r-a*(N[t]-b)**2)*dt\n",
    "    N_tilde = N[t] + dN\n",
    "    f_N_tilde = N_tilde*(r-a*(N_tilde-b)**2)*dt\n",
    "    N[t+1] = N[t] + 0.5*(dN + f_N_tilde)\n",
    "    \n",
    "plt.plot(times, N)\n",
    "\n",
    "N[0] = 1.0\n",
    "\n",
    "for t in range(numsteps-1):\n",
    "    dN = N[t]*(r-a*(N[t]-b)**2)*dt\n",
    "    N_tilde = N[t] + dN\n",
    "    f_N_tilde = N_tilde*(r-a*(N_tilde-b)**2)*dt\n",
    "    N[t+1] = N[t] + 0.5*(dN + f_N_tilde)\n",
    "    \n",
    "plt.plot(times, N)\n",
    "\n",
    "N[0] = 1.1\n",
    "\n",
    "for t in range(numsteps-1):\n",
    "    dN = N[t]*(r-a*(N[t]-b)**2)*dt\n",
    "    N_tilde = N[t] + dN\n",
    "    f_N_tilde = N_tilde*(r-a*(N_tilde-b)**2)*dt\n",
    "    N[t+1] = N[t] + 0.5*(dN + f_N_tilde)\n",
    "    \n",
    "plt.plot(times, N)"
   ]
  },
  {
   "cell_type": "markdown",
   "id": "c6a5d788-9a04-4bc8-b08d-ccd1503a770a",
   "metadata": {},
   "source": [
    "(b) From what you see in your plot, how does this match the stability of the fixed points that you determined in Part 2? Alternatively, if you didn't complete Part 2, what seem to be the fixed points and their stabilities? "
   ]
  },
  {
   "cell_type": "code",
   "execution_count": null,
   "id": "ec53de34-539b-4b2f-9034-58100ba28699",
   "metadata": {},
   "outputs": [],
   "source": []
  },
  {
   "cell_type": "markdown",
   "id": "8d0cfb51-b1fd-458e-beec-63dea193708d",
   "metadata": {},
   "source": [
    "(c) If you were to instead numerically integrate with the regular Euler method, how would the quality of the approximation be impacted? "
   ]
  },
  {
   "cell_type": "markdown",
   "id": "b72a66f7-b34d-403f-8b24-8fdcebd0ebc8",
   "metadata": {},
   "source": []
  },
  {
   "cell_type": "markdown",
   "id": "f5646df4-375d-4ede-9566-a1caf08bc278",
   "metadata": {},
   "source": [
    "## Part 4 (6 pts.):\n",
    "\n",
    "It turns out that the Allee effect model we have been considering applies well to pigeons. However, what we have looked at so far disregards the potential impact of other organisms. \n",
    "\n",
    "(a) Below, specify what a potential model of \"pigeons ($x$) vs. squirrels ($y$)\" might look like. We assume that in the absence of squirrels, the pigeon population will grow according to this *Allee model*. Conversely, we assume that in the absence of pigeons, the squirrel population will grow according to *logistic growth*. Make sure your model includes these two methods of growth, as well as an potential interaction between the pigeon and squirrel populations.\n",
    "\n",
    "$$ \\dot x = \\, ???$$\n",
    "\n",
    "$$ \\dot y = \\, ???$$"
   ]
  },
  {
   "cell_type": "markdown",
   "id": "9ccbab69-3996-4abf-81b1-f8ba85b436cd",
   "metadata": {},
   "source": [
    "(b) Explain the meaning of any new parameters you may have introduced here. Explain the biological meaning of each mathematical term and potentially how it relates to the interaction between pigeons and squirrels. "
   ]
  },
  {
   "cell_type": "code",
   "execution_count": null,
   "id": "6b2558bd-ce44-4ab7-9977-d139bd2c8dc5",
   "metadata": {},
   "outputs": [],
   "source": []
  },
  {
   "cell_type": "markdown",
   "id": "ef6ad95f-cd32-47e1-b019-0a7ecf80c637",
   "metadata": {},
   "source": [
    "## Submission\n",
    "\n",
    "Please save and export your file as HTML, and upload it to Canvas.\n",
    "\n",
    "If you would like me to consider any scratch work for partial credit, please turn in your paper to me.\n",
    "\n",
    "**If you run into any submission issues, please email me your .ipynb file instead.**"
   ]
  }
 ],
 "metadata": {
  "kernelspec": {
   "display_name": "Python 3 (ipykernel)",
   "language": "python",
   "name": "python3"
  },
  "language_info": {
   "codemirror_mode": {
    "name": "ipython",
    "version": 3
   },
   "file_extension": ".py",
   "mimetype": "text/x-python",
   "name": "python",
   "nbconvert_exporter": "python",
   "pygments_lexer": "ipython3",
   "version": "3.7.13"
  }
 },
 "nbformat": 4,
 "nbformat_minor": 5
}
