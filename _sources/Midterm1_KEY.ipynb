{
 "cells": [
  {
   "cell_type": "code",
   "execution_count": 75,
   "id": "c631774c-5423-46f4-b26d-91f242a9ac38",
   "metadata": {},
   "outputs": [],
   "source": [
    "# import the necessary modules\n",
    "import numpy as np\n",
    "import matplotlib.pyplot as plt\n",
    "\n",
    "# for numerical inegration\n",
    "import scipy.integrate\n",
    "\n",
    "# for pretty plots\n",
    "import seaborn as sns\n",
    "sns.set(font_scale = 1, rc={\"lines.linewidth\":3\n",
    "                             })"
   ]
  },
  {
   "cell_type": "markdown",
   "id": "59304031-a14a-4bf9-9c10-a19686ee1005",
   "metadata": {},
   "source": [
    "Throughout this midterm, we will be considering multiple aspects of the following differential equation:\n",
    "\n",
    "$$\\dot N = N (r-a(N-b)^2)$$\n",
    "\n",
    "This model demonstrates something known as the Allee effect, where the *relative* growth rate $\\dot N /N$ is highest at an intermediate value of $N$. For example, imagine that it is too hard to find mates when $N$ is very small, and there is too much competition for food and other resources when $N$ is too large. For this model to be biologically relevant, $a$, $b$, and $r$ must all be positive.\n",
    "\n",
    "Note that each part can be done in isolation. So if you get stuck, I recommend you move to a new part.\n",
    "\n",
    "## Part 1 (3 pts):\n",
    "\n",
    "**What are the fixed points of this system? You can do your math on pen and paper if you choose, but please report your results here.**"
   ]
  },
  {
   "cell_type": "markdown",
   "id": "110b2abb-3b66-4e66-9b15-2805903bc96c",
   "metadata": {},
   "source": [
    "The fixed points are $N=0$, $N=b+\\sqrt{r/a}$, and  $N=b-\\sqrt{r/a}$\n",
    "\n",
    "We arrive at the latter two by setting $r - a(N-b)^2$ equal to zero:\n",
    "\n",
    "\\begin{align}\n",
    "r - a(N-b)^2 &= 0 \\\\[1em]\n",
    "a(N-b)^2 &= r \\\\[1em]\n",
    "(N-b)^2 &= r/a \\\\[1em]\n",
    "N-b &= \\pm \\sqrt{r/a} \\\\[1em]\n",
    "N &= b \\pm \\sqrt{r/a}\n",
    "\\end{align}"
   ]
  },
  {
   "cell_type": "markdown",
   "id": "37c75644-2d47-4585-bc34-718512011cb7",
   "metadata": {},
   "source": [
    "## Part 2 (6 pts):\n",
    "\n",
    "**(a) Plot $\\dot N$ vs. $N$. Use the following parameter values: $a=1$, $b=3$, $r=4$. Make sure to plot over a relevant range of values so that you can clearly see the fixed points you found in Part 1.**\n",
    "\n",
    "$$\\dot N = N (r-a(N-b)^2)$$"
   ]
  },
  {
   "cell_type": "code",
   "execution_count": 76,
   "id": "abfb766d-0c9e-4a45-81d0-4b9999225338",
   "metadata": {},
   "outputs": [
    {
     "data": {
      "text/plain": [
       "Text(0, 0.5, '$\\\\dot N$')"
      ]
     },
     "execution_count": 76,
     "metadata": {},
     "output_type": "execute_result"
    },
    {
     "data": {
      "image/png": "[encoded data removed]",
      "text/plain": [
       "<Figure size 432x288 with 1 Axes>"
      ]
     },
     "metadata": {},
     "output_type": "display_data"
    }
   ],
   "source": [
    "a=1\n",
    "b=3\n",
    "r=4\n",
    "\n",
    "N = np.linspace(-1,5.5,1000)\n",
    "N_dot = N*(r-a*(N-b)**2)\n",
    "\n",
    "plt.plot(N, N_dot)\n",
    "plt.axhline(y=0, color=\"gray\")\n",
    "plt.xlabel(\"N\")\n",
    "plt.ylabel(\"$\\dot N$\")"
   ]
  },
  {
   "cell_type": "code",
   "execution_count": 82,
   "id": "cd5a45f9-6f90-4188-ace1-01da241b4e29",
   "metadata": {},
   "outputs": [
    {
     "data": {
      "text/plain": [
       "Text(0, 0.5, '$\\\\dot N$')"
      ]
     },
     "execution_count": 82,
     "metadata": {},
     "output_type": "execute_result"
    },
    {
     "data": {
      "image/png": "[encoded data removed]",
      "text/plain": [
       "<Figure size 432x288 with 1 Axes>"
      ]
     },
     "metadata": {},
     "output_type": "display_data"
    }
   ],
   "source": [
    "a=1\n",
    "b=3\n",
    "r=16\n",
    "\n",
    "N = np.linspace(-1,7.5,1000)\n",
    "N_dot = N*(r-a*(N-b)**2)\n",
    "\n",
    "plt.plot(N, N_dot)\n",
    "plt.axhline(y=0, color=\"gray\")\n",
    "plt.xlabel(\"N\")\n",
    "plt.ylabel(\"$\\dot N$\")"
   ]
  },
  {
   "cell_type": "markdown",
   "id": "714ef6b5-c854-4ce2-80a1-f76742d82a95",
   "metadata": {},
   "source": [
    "**(b) From your plot above, state the stability of each of the fixed points.**"
   ]
  },
  {
   "cell_type": "markdown",
   "id": "a17822bc-f46c-4d63-ae8e-a59c8099cfec",
   "metadata": {},
   "source": [
    "- $N = 0$ is stable (slope through the fixed point is negative)\n",
    "\n",
    "- $N = 1$ is unstable (slope through the fixed point is positive)\n",
    "\n",
    "- $N = 5$ is stable (slope through the fixed point is negative)"
   ]
  },
  {
   "cell_type": "markdown",
   "id": "b8fbab5b-6a64-4b68-afb9-e73d5fc8a480",
   "metadata": {},
   "source": [
    "**(c) Name one key way in which this model of growth differs from logistic growth.**"
   ]
  },
  {
   "cell_type": "markdown",
   "id": "3b7e3a96-267d-4f4b-9529-d5b8ee3657a2",
   "metadata": {},
   "source": [
    "Possible answers:\n",
    "- This model of growth has three fixed points, while logistic growth had only two.\n",
    "- In this model the fixed point at $N=0$ is stable, while in logistic growth the fixed point at $N=0$ is unstable.\n",
    "- Putting these facts together, the Allee model results in there being a minimum population required for the population to grow. If the population starts below this threshold, the population will die out. By contrast, the logistic model means the population will *always* grow as long as is starts above $N=0$."
   ]
  },
  {
   "cell_type": "markdown",
   "id": "ae4fbf0f-6c49-4e21-aabc-d2e5d93a75b9",
   "metadata": {},
   "source": [
    "## Part 3 (7 pts):\n",
    "\n",
    "**(a) Numerically integrate the differential equation for the Allee model using the second-order \"improved\" Euler method. Run your approximation for a total time of $1$, and with a $\\Delta t$ of $0.01$. Initiate the population with three different values in turn: `[0.9, 1.0, 1.1]`, and plot the resulting trajectories on the same plot. If you get stuck on this part, you are welcome to try a different numerical integration approach for partial credit.**\n",
    "\n",
    "$$\\dot N = N (r-a(N-b)^2)$$"
   ]
  },
  {
   "cell_type": "code",
   "execution_count": 68,
   "id": "0004a401-b854-4e8d-88de-8f633c1a3e0e",
   "metadata": {},
   "outputs": [],
   "source": [
    "def f(N):\n",
    "    \"\"\" The differential equation for Allee model \"\"\"\n",
    "    N_dot = N*(r-a*(N-b)**2)\n",
    "    return N_dot"
   ]
  },
  {
   "cell_type": "code",
   "execution_count": 69,
   "id": "63156f5e-a87b-4e06-ab62-fb7da364eba6",
   "metadata": {},
   "outputs": [
    {
     "data": {
      "text/plain": [
       "Text(0, 0.5, 'N')"
      ]
     },
     "execution_count": 69,
     "metadata": {},
     "output_type": "execute_result"
    },
    {
     "data": {
      "image/png": "[encoded data removed]",
      "text/plain": [
       "<Figure size 432x288 with 1 Axes>"
      ]
     },
     "metadata": {},
     "output_type": "display_data"
    }
   ],
   "source": [
    "total_time = 1\n",
    "dt = 0.01\n",
    "numsteps = int(total_time/dt)\n",
    "\n",
    "N = np.zeros(numsteps)\n",
    "N[0] = 0.9\n",
    "\n",
    "times = np.arange(numsteps)*dt\n",
    "\n",
    "for t in range(numsteps-1):\n",
    "    dN = N[t]*(r-a*(N[t]-b)**2)*dt\n",
    "    N_tilde = N[t] + dN\n",
    "    dN_tilde = N_tilde*(r-a*(N_tilde-b)**2)*dt\n",
    "    N[t+1] = N[t] + 0.5*(dN + dN_tilde)\n",
    "    \n",
    "plt.plot(times, N)\n",
    "\n",
    "N[0] = 1.0\n",
    "\n",
    "for t in range(numsteps-1):\n",
    "    dN = N[t]*(r-a*(N[t]-b)**2)*dt\n",
    "    N_tilde = N[t] + dN\n",
    "    dN_tilde = N_tilde*(r-a*(N_tilde-b)**2)*dt\n",
    "    N[t+1] = N[t] + 0.5*(dN + dN_tilde)\n",
    "    \n",
    "plt.plot(times, N)\n",
    "\n",
    "N[0] = 1.1\n",
    "\n",
    "for t in range(numsteps-1):\n",
    "    dN = N[t]*(r-a*(N[t]-b)**2)*dt\n",
    "    N_tilde = N[t] + dN\n",
    "    dN_tilde = N_tilde*(r-a*(N_tilde-b)**2)*dt\n",
    "    N[t+1] = N[t] + 0.5*(dN + dN_tilde)\n",
    "    \n",
    "plt.plot(times, N)\n",
    "plt.xlabel(\"time\")\n",
    "plt.ylabel(\"N\")"
   ]
  },
  {
   "cell_type": "code",
   "execution_count": 70,
   "id": "cb477980-cfb1-4e8e-a399-70f0d09b6e6a",
   "metadata": {},
   "outputs": [
    {
     "data": {
      "text/plain": [
       "Text(0, 0.5, 'N')"
      ]
     },
     "execution_count": 70,
     "metadata": {},
     "output_type": "execute_result"
    },
    {
     "data": {
      "image/png": "[encoded data removed]",
      "text/plain": [
       "<Figure size 432x288 with 1 Axes>"
      ]
     },
     "metadata": {},
     "output_type": "display_data"
    }
   ],
   "source": [
    "total_time = 1\n",
    "dt = 0.01\n",
    "numsteps = int(total_time/dt)\n",
    "\n",
    "N = np.zeros(numsteps)\n",
    "N[0] = 0.9\n",
    "\n",
    "times = np.arange(numsteps)*dt\n",
    "\n",
    "for t in range(numsteps-1):\n",
    "    N_tilde = N[t] + f(N[t])*dt\n",
    "    N[t+1] = N[t] + 0.5*(f(N[t]) + f(N_tilde))*dt\n",
    "    \n",
    "plt.plot(times, N)\n",
    "\n",
    "N[0] = 1.0\n",
    "\n",
    "for t in range(numsteps-1):\n",
    "    N_tilde = N[t] + f(N[t])*dt\n",
    "    N[t+1] = N[t] + 0.5*(f(N[t]) + f(N_tilde))*dt\n",
    "    \n",
    "plt.plot(times, N)\n",
    "\n",
    "N[0] = 1.1\n",
    "\n",
    "for t in range(numsteps-1):\n",
    "    N_tilde = N[t] + f(N[t])*dt\n",
    "    N[t+1] = N[t] + 0.5*(f(N[t]) + f(N_tilde))*dt\n",
    "    \n",
    "plt.plot(times, N)\n",
    "plt.xlabel(\"time\")\n",
    "plt.ylabel(\"N\")"
   ]
  },
  {
   "cell_type": "markdown",
   "id": "c6a5d788-9a04-4bc8-b08d-ccd1503a770a",
   "metadata": {},
   "source": [
    "**(b) From what you see in your plot, how does this match the stability of the fixed points that you determined in Part 2? Alternatively, if you didn't complete Part 2, what seem to be the fixed points and their stabilities?**"
   ]
  },
  {
   "cell_type": "markdown",
   "id": "ebdde2fa-1b1a-45aa-89cd-dcad6594c9df",
   "metadata": {},
   "source": [
    "From this plot, we see that $N=0$ and $N=5$ again appear to be stable fixed points, as the value of $N$ tends towards these values over time.\n",
    "\n",
    "Conversely, $N=1$ appears to be an unstable fixed point, since starting just above or below this value causes the population to deviate away from this value over time. "
   ]
  },
  {
   "cell_type": "markdown",
   "id": "8d0cfb51-b1fd-458e-beec-63dea193708d",
   "metadata": {},
   "source": [
    "**(c) If you were to instead numerically integrate with the regular Euler method, how would the quality of the approximation be impacted?** "
   ]
  },
  {
   "cell_type": "markdown",
   "id": "b72a66f7-b34d-403f-8b24-8fdcebd0ebc8",
   "metadata": {},
   "source": [
    "The quality of the approximation would be *worse* if we used the first-order Euler method instead. \n",
    "\n",
    "As an extension: whether it over- or under-estimates the second-order approximation will change depending where we are in the integration. As an example with the green curve, Euler would initially underestimate, as the slope keeps increasing with time. But later on, Euler would overestimate as the slope begins to decrease with time. "
   ]
  },
  {
   "cell_type": "markdown",
   "id": "f5646df4-375d-4ede-9566-a1caf08bc278",
   "metadata": {},
   "source": [
    "## Part 4 (6 pts.):\n",
    "\n",
    "**It turns out that the Allee effect model we have been considering applies well to pigeons. However, what we have looked at so far disregards the potential impact of other organisms. **\n",
    "\n",
    "**(a) Below, specify what a potential model of \"pigeons ($x$) vs. squirrels ($y$)\" might look like. We assume that in the absence of squirrels, the pigeon population will grow according to this *Allee model*. Conversely, we assume that in the absence of pigeons, the squirrel population will grow according to *logistic growth*. Make sure your model includes these two methods of growth, as well as an potential interaction between the pigeon and squirrel populations.**\n",
    "\n",
    "$$ \\dot x = \\, x (r-a(x-b)^2) - cxy $$\n",
    "\n",
    "$$ \\dot y = \\, ky(1-y/K) - cxy $$"
   ]
  },
  {
   "cell_type": "markdown",
   "id": "9ccbab69-3996-4abf-81b1-f8ba85b436cd",
   "metadata": {},
   "source": [
    "**(b) Explain the meaning of any new parameters you may have introduced here. Explain the biological meaning of each mathematical term and potentially how it relates to the interaction between pigeons and squirrels.**"
   ]
  },
  {
   "cell_type": "markdown",
   "id": "3874c932-0b2f-4fd2-8ae1-0d59a1da2618",
   "metadata": {
    "jupyter": {
     "source_hidden": true
    },
    "tags": []
   },
   "source": [
    "The new parameters are:\n",
    "\n",
    "- $k$, the growth rate of the squirrels.\n",
    "- $K$, the carrying capacity of the squirrel population.\n",
    "- $c$, the impact that the two populations have on each other. Since pigeons and squirrels are about the same size, I'm assuming they have the same impact on each other. If I wanted to model them having different levels on impact on each other, I could instead use two separate parameters. \n",
    "\n",
    "The terms have the following interpretations:\n",
    "\n",
    "- $x (r-a(x-b)^2)$ is the way in which the pigeon population grows, according to the Allee model\n",
    "- $ky(1-y/K)$ is the way in which the squirrel population grows, according to the logistic growth model\n",
    "- $-cxy$ is the rate at which both population die as a result of inter-species competition"
   ]
  },
  {
   "cell_type": "markdown",
   "id": "ef6ad95f-cd32-47e1-b019-0a7ecf80c637",
   "metadata": {},
   "source": [
    "## Submission\n",
    "\n",
    "Please save and export your file as HTML, and upload it to Canvas.\n",
    "\n",
    "If you would like me to consider any scratch work for partial credit, please turn in your paper to me.\n",
    "\n",
    "**If you run into any submission issues, please email me your .ipynb file instead.**"
   ]
  },
  {
   "cell_type": "code",
   "execution_count": 44,
   "id": "d3e8b057-c8e9-427f-972b-e5763d7aa9fc",
   "metadata": {},
   "outputs": [
    {
     "data": {
      "text/plain": [
       "Text(0, 0.5, 'N')"
      ]
     },
     "execution_count": 44,
     "metadata": {},
     "output_type": "execute_result"
    },
    {
     "data": {
      "image/png": "[encoded data removed]",
      "text/plain": [
       "<Figure size 432x288 with 1 Axes>"
      ]
     },
     "metadata": {},
     "output_type": "display_data"
    }
   ],
   "source": [
    "total_time = 1\n",
    "dt = 0.01\n",
    "numsteps = int(total_time/dt)\n",
    "\n",
    "N = np.zeros(numsteps)\n",
    "N[0] = 0.9\n",
    "\n",
    "times = np.arange(numsteps)*dt\n",
    "\n",
    "for t in range(numsteps-1):\n",
    "    dN = N[t]*((r-a)*(N[t]-b)**2)*dt\n",
    "    N_tilde = N[t] + dN\n",
    "    dN_tilde = N_tilde*((r-a)*(N_tilde-b)**2)*dt\n",
    "    N[t+1] = N[t] + 0.5*(dN + dN_tilde)\n",
    "    \n",
    "plt.plot(times, N)\n",
    "\n",
    "N[0] = 1.0\n",
    "\n",
    "for t in range(numsteps-1):\n",
    "    dN = N[t]*((r-a)*(N[t]-b)**2)*dt\n",
    "    N_tilde = N[t] + dN\n",
    "    dN_tilde = N_tilde*((r-a)*(N_tilde-b)**2)*dt\n",
    "    N[t+1] = N[t] + 0.5*(dN + dN_tilde)\n",
    "    \n",
    "plt.plot(times, N)\n",
    "\n",
    "N[0] = 1.1\n",
    "\n",
    "for t in range(numsteps-1):\n",
    "    dN = N[t]*((r-a)*(N[t]-b)**2)*dt\n",
    "    N_tilde = N[t] + dN\n",
    "    dN_tilde = N_tilde*((r-a)*(N_tilde-b)**2)*dt\n",
    "    N[t+1] = N[t] + 0.5*(dN + dN_tilde)\n",
    "    \n",
    "plt.plot(times, N)\n",
    "plt.xlabel(\"time\")\n",
    "plt.ylabel(\"N\")\n"
   ]
  },
  {
   "cell_type": "code",
   "execution_count": 52,
   "id": "a2d9060d-6e06-4c50-8e04-df69d5edcc13",
   "metadata": {},
   "outputs": [
    {
     "data": {
      "text/plain": [
       "<matplotlib.legend.Legend at 0x7fb3b4c3e0d0>"
      ]
     },
     "execution_count": 52,
     "metadata": {},
     "output_type": "execute_result"
    },
    {
     "data": {
      "image/png": "[encoded data removed]",
      "text/plain": [
       "<Figure size 432x288 with 1 Axes>"
      ]
     },
     "metadata": {},
     "output_type": "display_data"
    }
   ],
   "source": [
    "# parameters for our ODE\n",
    "#initial population set to 1\n",
    "N_0 = 0.9\n",
    "# min^-1\n",
    "k = 4\n",
    "\n",
    "# parameters for our integration\n",
    "dt = 0.01 # min\n",
    "total_time = 1 # min\n",
    "\n",
    "# determine the number of steps that will be taken\n",
    "num_steps = int(total_time/dt) #total time specified divided by dt\n",
    "\n",
    "#make array of the time values\n",
    "times = np.arange(num_steps)*dt\n",
    "def f(t):\n",
    "    k = 4 #rate\n",
    "    return k*t\n",
    "def Allee(a, b, r):\n",
    "   # N = N\n",
    "    \n",
    "    # Compute dx/dt\n",
    "    dN_dt =  N*(r - a *(N - b)**2)\n",
    "\n",
    "    # Return the result as a NumPy array\n",
    "    return dN_dt\n",
    "#Improved Eulers\n",
    "def Improved_Eul():\n",
    "    \n",
    "    #initialize an array of length num_steps to store values of N for Improved Eulers\n",
    "    NI = np.zeros(num_steps)\n",
    "    \n",
    "    #loop through and update it as we go through\n",
    "    NI[0] = N_0\n",
    "    \n",
    "    #numerically integrate through N\n",
    "    for t in range(num_steps - 1):\n",
    "        \n",
    "        #change in N\n",
    "        dN = f(NI[t])*dt\n",
    "        \n",
    "        #guess at N\n",
    "        N_tilde = NI[t] + dN\n",
    "        \n",
    "        #final value of N\n",
    "        N_final = NI[t] + 0.5 * (f(NI[t]) + f(N_tilde)) * dt\n",
    "        \n",
    "        #update array\n",
    "        NI[t+1] = N_final\n",
    "    \n",
    "    return NI\n",
    "\n",
    "def Soln():\n",
    "    \n",
    "    NS = N_0 * np.exp(k*times) #k is r\n",
    "    \n",
    "    return NS\n",
    "\n",
    "#plt.plot(times,Allee(1,3,4),'.')\n",
    "plt.plot(times,Improved_Eul(),'.')\n",
    "plt.legend([\"Allee Model\",\"Improved Eulers\"])"
   ]
  },
  {
   "cell_type": "code",
   "execution_count": null,
   "id": "75082531-dcaa-47f4-b558-4dde8f5de43e",
   "metadata": {},
   "outputs": [],
   "source": []
  }
 ],
 "metadata": {
  "kernelspec": {
   "display_name": "Python 3 (ipykernel)",
   "language": "python",
   "name": "python3"
  },
  "language_info": {
   "codemirror_mode": {
    "name": "ipython",
    "version": 3
   },
   "file_extension": ".py",
   "mimetype": "text/x-python",
   "name": "python",
   "nbconvert_exporter": "python",
   "pygments_lexer": "ipython3",
   "version": "3.7.13"
  }
 },
 "nbformat": 4,
 "nbformat_minor": 5
}
