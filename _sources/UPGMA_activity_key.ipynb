{
 "cells": [
  {
   "cell_type": "markdown",
   "id": "111fc959-1fe5-407d-b842-a2c3cfd3c935",
   "metadata": {},
   "source": [
    "# Week 13: Implementing the UPGMA algorithm"
   ]
  },
  {
   "cell_type": "code",
   "execution_count": 1,
   "id": "aff10da4-b506-403e-8e97-49c771053e0a",
   "metadata": {},
   "outputs": [],
   "source": [
    "import numpy as np"
   ]
  },
  {
   "cell_type": "markdown",
   "id": "4af8c8a8-eebf-442f-ad45-b4e0b08b92e8",
   "metadata": {},
   "source": [
    "Some functions that we might want to use: "
   ]
  },
  {
   "cell_type": "code",
   "execution_count": 2,
   "id": "72e91d14-6a1d-4f75-abe6-09aebf863c28",
   "metadata": {},
   "outputs": [],
   "source": [
    "def LCS(seq1, seq2):\n",
    "    \n",
    "    # base case 1\n",
    "    if seq1 == \"\":\n",
    "        return 0\n",
    "    \n",
    "    # base case 2\n",
    "    elif seq2 == \"\":\n",
    "        return 0\n",
    "    \n",
    "    # make a match while we can\n",
    "    elif seq1[0] == seq2[0]:\n",
    "        return 1 + LCS(seq1[1:], seq2[1:])\n",
    "    \n",
    "    # recurse on the two possible sub-problems\n",
    "    else:\n",
    "        lose1 = LCS(seq1, seq2[1:])\n",
    "        lose2 = LCS(seq1[1:], seq2)\n",
    "        \n",
    "        return max(lose1, lose2)   "
   ]
  },
  {
   "cell_type": "code",
   "execution_count": 3,
   "id": "caf0fc60-0cbf-41e1-91cf-96071d6660cf",
   "metadata": {},
   "outputs": [],
   "source": [
    "def differences(seq1, seq2):\n",
    "    \n",
    "    count = 0\n",
    "    \n",
    "    for i in range(len(seq1)):\n",
    "        if seq1[i] != seq2[i]:\n",
    "            count += 1\n",
    "            \n",
    "    return count"
   ]
  },
  {
   "cell_type": "markdown",
   "id": "6011a3cc-7650-42b6-8712-f46359c0be64",
   "metadata": {},
   "source": [
    "The sequences we want to compare:"
   ]
  },
  {
   "cell_type": "code",
   "execution_count": 4,
   "id": "36435633-7d9d-4d14-8068-082f4eab7754",
   "metadata": {},
   "outputs": [],
   "source": [
    "human =   \"MVLSPADKTNVKAAWGKVGAHAGEYGAEALERMFLSFPTTKTYFPHF.DLSHGSAQVKGHGKKVADALTNAVAHVDDMPNALSALSDLHAHKLRVDPVNFKLLSHCLLVTLAAHLPAEFTPAVHASLDKFLASVSTVLTSKYR\"\n",
    "chimp =   \"MVLSPADKTNVKAAWGKVGAHAGEYGAEALERMFLSFPTTKTYFPHF.DLSHGSAQVKGHGKKVADALTNAVAHVDDMPNALSALSDLHAHKLRVDPVNFKLLSHCLLVTLAAHLPAEFTPAVHASLDKFLASVSTVLTSKYR\"\n",
    "gorilla = \".VLSPADKTNVKAAWGKVGAHAGDYGAEALERMFLSFPTTKTYFPHF.DLSHGSAQVKGHGKKVADALTNAVAHVDDMPNALSALSDLHAHKLRVDPVNFKLLSHCLLVTLAAHLPAEFTPAVHASLDKFLASVSTVLTSKYR\"\n",
    "cow =     \"MVLSAADKGNVKAAWGKVGGHAAEYGAEALERMFLSFPTTKTYFPHF.DLSHGSAQVKGHGAKVAAALTKAVEHLDDLPGALSELSDLHAHKLRVDPVNFKLLSHSLLVTLASHLPSDFTPAVHASLDKFLANVSTVLTSKYR\"\n",
    "horse =   \"MVLSAADKTNVKAAWSKVGGHAGEYGAEALERMFLGFPTTKTYFPHF.DLSHGSAQVKAHGKKVGDALTLAVGHLDDLPGALSNLSDLHAHKLRVDPVNFKLLSHCLLSTLAVHLPNDFTPAVHASLDKFLSSVSTVLTSKYR\"  \n",
    "donkey =  \"MVLSAADKTNVKAAWSKVGGNAGEFGAEALERMFLGFPTTKTYFPHF.DLSHGSAQVKAHGKKVGDALTLAVGHLDDLPGALSNLSDLHAHKLRVDPVNFKLLSHCLLSTLAVHLPNDFTPAVHASLDKFLSTVSTVLTSKYR\" \n",
    "rabbit =  \".VLSPADKTNIKTAWEKIGSHGGEYGAEAVERMFLGFPTTKTYFPHF.DFTHGSZQIKAHGKKVSEALTKAVGHLDDLPGALSTLSDLHAHKLRVDPVNFKLLSHCLLVTLANHHPSEFTPAVHASLDKFLANVSTVLTSKYR\"\n",
    "carp =    \"MSLSDKDKAAVKGLWAKISPKADDIGAEALGRMLTVYPQTKTYFAHWADLSPGSGPVKKHGKVIMGAVGDAVSKIDDLVGGLAALSELHAFKLRVDPANFKILAHNVIVVIGMLYPGDFPPEVHMSVDKFFQNLALALSEKYR\""
   ]
  },
  {
   "cell_type": "code",
   "execution_count": 5,
   "id": "d2ecbce7-6176-453d-ab11-3a1ffb9570e8",
   "metadata": {},
   "outputs": [],
   "source": [
    "animals = [carp, cow, donkey, horse, human, gorilla, rabbit]\n",
    "nodes = [\"carp\", \"cow\", \"donkey\", \"horse\", \"human\", \"gorilla\", \"rabbit\"]"
   ]
  },
  {
   "cell_type": "markdown",
   "id": "396b142f-5986-421f-b638-13d6e28fede2",
   "metadata": {},
   "source": [
    "## Step 1: Make a dictionary of differences\n",
    "\n",
    "Note that I've modified this code to include each combination only once. That is,`('human', 'gorilla')` appears in the dictionary, but `('gorilla', 'human')` does not."
   ]
  },
  {
   "cell_type": "code",
   "execution_count": 6,
   "id": "93c46693-47ab-4506-890c-92417ed47986",
   "metadata": {},
   "outputs": [
    {
     "data": {
      "text/plain": [
       "{('carp', 'cow'): 70,\n",
       " ('carp', 'donkey'): 71,\n",
       " ('carp', 'horse'): 71,\n",
       " ('carp', 'human'): 72,\n",
       " ('carp', 'gorilla'): 72,\n",
       " ('carp', 'rabbit'): 76,\n",
       " ('cow', 'donkey'): 19,\n",
       " ('cow', 'horse'): 17,\n",
       " ('cow', 'human'): 17,\n",
       " ('cow', 'gorilla'): 19,\n",
       " ('cow', 'rabbit'): 26,\n",
       " ('donkey', 'horse'): 3,\n",
       " ('donkey', 'human'): 20,\n",
       " ('donkey', 'gorilla'): 22,\n",
       " ('donkey', 'rabbit'): 26,\n",
       " ('horse', 'human'): 17,\n",
       " ('horse', 'gorilla'): 19,\n",
       " ('horse', 'rabbit'): 24,\n",
       " ('human', 'gorilla'): 2,\n",
       " ('human', 'rabbit'): 26,\n",
       " ('gorilla', 'rabbit'): 26}"
      ]
     },
     "execution_count": 6,
     "metadata": {},
     "output_type": "execute_result"
    }
   ],
   "source": [
    "diff_dict = {}\n",
    "\n",
    "for i in range(len(animals)):\n",
    "    for j in range(i, len(animals)):\n",
    "        if i != j: \n",
    "            diff = differences(animals[i], animals[j])\n",
    "            diff_dict[(nodes[i], nodes[j])] = diff\n",
    "        \n",
    "diff_dict"
   ]
  },
  {
   "cell_type": "markdown",
   "id": "ddf2a4cc-e51c-4c5c-a4f9-28e81f6185a3",
   "metadata": {},
   "source": [
    "## Step 2: Write a function that finds the two closest related organisms (i.e. a pair group)\n",
    "\n",
    "\n",
    "Your function should return a tuple with the most closely related organisms from the dictionary."
   ]
  },
  {
   "cell_type": "code",
   "execution_count": 7,
   "id": "faeb3c37-bab3-4876-9764-f9de9988caef",
   "metadata": {},
   "outputs": [],
   "source": [
    "def pair_group(diff_dict):\n",
    "    \"\"\" given a matrix of differences, returns the indices of the closest two related organisms\"\"\"\n",
    "\n",
    "    min_diff = np.inf\n",
    "    \n",
    "    for key in diff_dict.keys():\n",
    "        if diff_dict[key] < min_diff:\n",
    "            min_diff = diff_dict[key]\n",
    "            min_key = key\n",
    "            \n",
    "    return min_key"
   ]
  },
  {
   "cell_type": "markdown",
   "id": "992df565-f66d-4499-b121-87ccfa855e08",
   "metadata": {},
   "source": [
    "If this function works correctly, it should return the pair group `('human', 'gorilla')`."
   ]
  },
  {
   "cell_type": "code",
   "execution_count": 8,
   "id": "1e3984c8-2748-406b-b472-405f457e7a34",
   "metadata": {},
   "outputs": [
    {
     "data": {
      "text/plain": [
       "('human', 'gorilla')"
      ]
     },
     "execution_count": 8,
     "metadata": {},
     "output_type": "execute_result"
    }
   ],
   "source": [
    "pg = pair_group(diff_dict)\n",
    "pg"
   ]
  },
  {
   "cell_type": "markdown",
   "id": "4f775fec-62a1-4094-9320-4643cf324404",
   "metadata": {},
   "source": [
    "## Step 3: With a pair-group in hand, let's update our differences dictionary and nodes\n",
    "\n",
    "Below, we will work through each step needed to update our dictionary and list of nodes accounting for the fact that we are now making the human/gorilla pair a node. \n",
    "\n",
    "### 3a: Remove members of the pair group from the list of nodes\n",
    "\n",
    "We no longer want to consider the nodes `human` or `gorilla` since we have now determined that these two nodes are most closely related. So we will remove these nodes from the node list, leaving just `['carp', 'cow', 'donkey', 'horse', 'rabbit']`."
   ]
  },
  {
   "cell_type": "code",
   "execution_count": 10,
   "id": "8e79ea41-22ae-459e-89d3-7dbcc1a7e28d",
   "metadata": {},
   "outputs": [
    {
     "data": {
      "text/plain": [
       "['carp', 'cow', 'donkey', 'horse', 'rabbit']"
      ]
     },
     "execution_count": 10,
     "metadata": {},
     "output_type": "execute_result"
    }
   ],
   "source": [
    "# remove the nodes of the pair group from the nodes list\n",
    "nodes.remove(pg[0])\n",
    "nodes.remove(pg[1])\n",
    "\n",
    "# check out list of nodes\n",
    "nodes"
   ]
  },
  {
   "cell_type": "markdown",
   "id": "581eddcd-c012-49c7-8b47-674a77bf9aae",
   "metadata": {},
   "source": [
    "### 3b: Update the distances in the dictionary relative to this new node\n",
    "\n",
    "For each of the remaining organisms (carp, cow, donkey, horse, rabbit), we want to find their distance to this new `('human', 'gorilla')` node and add this to the dictionary. This will amount to averaging the existing distance to the human and the distance to gorilla for the given organism. *Note that a more careful treatment will use the **weighted** average based on the size of the two nodes, but for now we will just take the average directly.*\n",
    "\n",
    "A wrinkle here is that you might not know if the relevant entry in the dictionary is `('gorilla', 'rabbit')` or `('rabbit', 'gorilla')` for example. So you'll want to search for both keys to find the distance between rabbit and gorilla. You can ask the boolean question `('gorilla', 'rabbit') in diff_dict` to see if a certain key exists in the dictionary.\n",
    "\n",
    "If you've done this part correctly, you should see the following entries at the bottom of your dictionary now:\n",
    "\n",
    "`('carp', ('human', 'gorilla')): 72.0,`\n",
    "\n",
    "`('cow', ('human', 'gorilla')): 18.0,`\n",
    "\n",
    "`('donkey', ('human', 'gorilla')): 21.0,`\n",
    "\n",
    "`('horse', ('human', 'gorilla')): 18.0,`\n",
    "\n",
    "`('rabbit', ('human', 'gorilla')): 26.0`\n"
   ]
  },
  {
   "cell_type": "code",
   "execution_count": null,
   "id": "ee64527a-b4a1-42aa-9ec5-d6854c4f5652",
   "metadata": {},
   "outputs": [
    {
     "data": {
      "text/plain": [
       "{('carp', 'cow'): 70,\n",
       " ('carp', 'donkey'): 71,\n",
       " ('carp', 'horse'): 71,\n",
       " ('carp', 'human'): 72,\n",
       " ('carp', 'gorilla'): 72,\n",
       " ('carp', 'rabbit'): 76,\n",
       " ('cow', 'donkey'): 19,\n",
       " ('cow', 'horse'): 17,\n",
       " ('cow', 'human'): 17,\n",
       " ('cow', 'gorilla'): 19,\n",
       " ('cow', 'rabbit'): 26,\n",
       " ('donkey', 'horse'): 3,\n",
       " ('donkey', 'human'): 20,\n",
       " ('donkey', 'gorilla'): 22,\n",
       " ('donkey', 'rabbit'): 26,\n",
       " ('horse', 'human'): 17,\n",
       " ('horse', 'gorilla'): 19,\n",
       " ('horse', 'rabbit'): 24,\n",
       " ('human', 'rabbit'): 26,\n",
       " ('gorilla', 'rabbit'): 26,\n",
       " ('carp', ('human', 'gorilla')): 72.0,\n",
       " ('cow', ('human', 'gorilla')): 18.0,\n",
       " ('donkey', ('human', 'gorilla')): 21.0,\n",
       " ('horse', ('human', 'gorilla')): 18.0,\n",
       " ('rabbit', ('human', 'gorilla')): 26.0}"
      ]
     },
     "execution_count": 17,
     "metadata": {},
     "output_type": "execute_result"
    }
   ],
   "source": [
    "# for the remaining node in the nodes list, update their distance to be weighted average of the two other nodes in the pair group\n",
    "for node in nodes:\n",
    "    \n",
    "    # find distance between node and first member of pair group\n",
    "    if (node, pg[0]) in diff_dict:\n",
    "        dist1 = diff_dict[(node,pg[0])]\n",
    "    else:\n",
    "        dist1 = diff_dict[(pg[0],node)]\n",
    "     \n",
    "    # find distance between node and second member of pair group\n",
    "    if (node, pg[1]) in diff_dict:\n",
    "        dist2 = diff_dict[(node,pg[1])]\n",
    "    else:\n",
    "        dist2 = diff_dict[(pg[1],node)]\n",
    "        \n",
    "    # add average distance to the newly created node\n",
    "    diff_dict[(node, pg)] = (dist1 + dist2) / 2\n",
    "    \n",
    "# check out updated dictionary\n",
    "diff_dict"
   ]
  },
  {
   "cell_type": "markdown",
   "id": "7c027de4-f5b2-46b6-abd8-5624b8fc774a",
   "metadata": {},
   "source": [
    "### 3c: Remove the original members of the newly created pair group from the dictionary\n",
    "\n",
    "Now that we've calculated the new distances, we want to remove all references to just `human` (i.e. `pg[0]`) and just `gorilla` (i.e. `pg[1]`) from the dictionary. That is, now that we've created a new pair group, we no longer want any references human or gorilla, as we are moving forward with the human/gorilla unit as a node..\n",
    "\n",
    "Again another wrinkle here is that you can't edit the dictionary as you are looping through it, so I recommend making a list of keys to remove as you loop through the dictionary. Once you have this list established, you can then remove these keys in turn. \n",
    "\n",
    "To make sure you've written your code correctly, look at your `diff_dict` and make sure that there are no entries remaining that contain `'human'` or `'gorilla'` as nodes."
   ]
  },
  {
   "cell_type": "code",
   "execution_count": 21,
   "id": "7f1a64de-70ed-4288-98a5-bc7265601fb6",
   "metadata": {},
   "outputs": [
    {
     "data": {
      "text/plain": [
       "{('carp', 'cow'): 70,\n",
       " ('carp', 'donkey'): 71,\n",
       " ('carp', 'horse'): 71,\n",
       " ('carp', 'rabbit'): 76,\n",
       " ('cow', 'donkey'): 19,\n",
       " ('cow', 'horse'): 17,\n",
       " ('cow', 'rabbit'): 26,\n",
       " ('donkey', 'horse'): 3,\n",
       " ('donkey', 'rabbit'): 26,\n",
       " ('horse', 'rabbit'): 24,\n",
       " ('carp', ('human', 'gorilla')): 72.0,\n",
       " ('cow', ('human', 'gorilla')): 18.0,\n",
       " ('donkey', ('human', 'gorilla')): 21.0,\n",
       " ('horse', ('human', 'gorilla')): 18.0,\n",
       " ('rabbit', ('human', 'gorilla')): 26.0}"
      ]
     },
     "execution_count": 21,
     "metadata": {},
     "output_type": "execute_result"
    }
   ],
   "source": [
    "keys_to_remove = []\n",
    "\n",
    "# find keys to remove\n",
    "for key in diff_dict.keys():\n",
    "    if pg[0] in key or pg[1] in key:\n",
    "        keys_to_remove.append(key)\n",
    "        \n",
    "# remove keys\n",
    "for key in keys_to_remove:\n",
    "    diff_dict.pop(key)\n",
    "\n",
    "# checkout updated dictioanry\n",
    "diff_dict"
   ]
  },
  {
   "cell_type": "markdown",
   "id": "3ace4943-ec57-48bd-912a-7244b9977efd",
   "metadata": {},
   "source": [
    "### 3d: Add pair group to the nodes list\n",
    "\n",
    "Lastly, we want to add the new pair group, `('human', 'gorilla')`, to our list of nodes, so that we can proceed with treating the human/gorilla node as a unit. This is just a single line that I've written for you below:"
   ]
  },
  {
   "cell_type": "code",
   "execution_count": 22,
   "id": "8d0e7d9b-e916-4692-91fa-858fa0fb67e7",
   "metadata": {},
   "outputs": [
    {
     "data": {
      "text/plain": [
       "['carp', 'cow', 'donkey', 'horse', 'rabbit', ('human', 'gorilla')]"
      ]
     },
     "execution_count": 22,
     "metadata": {},
     "output_type": "execute_result"
    }
   ],
   "source": [
    "# add new pair group to the nodes\n",
    "nodes.append(pg)\n",
    "\n",
    "nodes"
   ]
  },
  {
   "cell_type": "markdown",
   "id": "811b688c-7a34-4edb-8547-bd3b9976ae80",
   "metadata": {},
   "source": [
    "## Part 4: Writing an `update_diff_dict` function\n",
    "\n",
    "Above, we've worked through one full round of finding a new pair group and updating the nodes and dictionary. Let's put this all in a function so that we can repeatedly do this process to build up our phylogenetic tree, layer by layer. The function will take in a `diff_dict`, a list of `nodes`, and the pair group (`pg`) to incorporate. It will return an updated version of the `diff_dict` and `nodes` as a result of incorporating the pair group."
   ]
  },
  {
   "cell_type": "code",
   "execution_count": 23,
   "id": "ee8fafc6-5cb5-4520-be50-11b84da6cc50",
   "metadata": {},
   "outputs": [],
   "source": [
    "def update_diff_dict(diff_dict, nodes, pg):\n",
    "    \n",
    "    # remove the nodes of the pair group from the nodes list\n",
    "    nodes.remove(pg[0])\n",
    "    nodes.remove(pg[1])\n",
    "    \n",
    "    # for the remaining node in the nodes list, update their distance to be weighted average of the two other nodes in the pair group\n",
    "    for node in nodes:\n",
    "\n",
    "        # find distance between node and first member of pair group\n",
    "        if (node, pg[0]) in diff_dict:\n",
    "            dist1 = diff_dict[(node,pg[0])]\n",
    "        else:\n",
    "            dist1 = diff_dict[(pg[0],node)]\n",
    "\n",
    "        # find distance between node and second member of pair group\n",
    "        if (node, pg[1]) in diff_dict:\n",
    "            dist2 = diff_dict[(node,pg[1])]\n",
    "        else:\n",
    "            dist2 = diff_dict[(pg[1],node)]\n",
    "\n",
    "        # add average distance to the newly created node\n",
    "        diff_dict[(node, pg)] = (dist1 + dist2) / 2\n",
    "        \n",
    "    keys_to_remove = []\n",
    "\n",
    "    # find keys to remove\n",
    "    for key in diff_dict.keys():\n",
    "        if pg[0] in key or pg[1] in key:\n",
    "            keys_to_remove.append(key)\n",
    "\n",
    "    # remove keys\n",
    "    for key in keys_to_remove:\n",
    "        diff_dict.pop(key)\n",
    "        \n",
    "    # add new pair group to the nodes\n",
    "    nodes.append(pg)\n",
    "    \n",
    "    # return updated version \n",
    "    return diff_dict, nodes\n",
    "    \n",
    "    "
   ]
  },
  {
   "cell_type": "markdown",
   "id": "5777a4c3-75fa-4f5e-bb77-fc94c11bcd19",
   "metadata": {},
   "source": [
    "To check that this works, I reinstantiate the original nodes list and dictionary below, and run this function to incorporate the `('human', 'gorilla')` node. Look at the outputs of the `update_diff_dict` function: have the dictionary and list of nodes been update correctly?"
   ]
  },
  {
   "cell_type": "code",
   "execution_count": 28,
   "id": "3668f638-a81a-402a-96c7-e008ce00ede3",
   "metadata": {},
   "outputs": [
    {
     "data": {
      "text/plain": [
       "({('carp', 'cow'): 70,\n",
       "  ('carp', 'donkey'): 71,\n",
       "  ('carp', 'horse'): 71,\n",
       "  ('carp', 'rabbit'): 76,\n",
       "  ('cow', 'donkey'): 19,\n",
       "  ('cow', 'horse'): 17,\n",
       "  ('cow', 'rabbit'): 26,\n",
       "  ('donkey', 'horse'): 3,\n",
       "  ('donkey', 'rabbit'): 26,\n",
       "  ('horse', 'rabbit'): 24,\n",
       "  ('carp', ('human', 'gorilla')): 72.0,\n",
       "  ('cow', ('human', 'gorilla')): 18.0,\n",
       "  ('donkey', ('human', 'gorilla')): 21.0,\n",
       "  ('horse', ('human', 'gorilla')): 18.0,\n",
       "  ('rabbit', ('human', 'gorilla')): 26.0},\n",
       " ['carp', 'cow', 'donkey', 'horse', 'rabbit', ('human', 'gorilla')])"
      ]
     },
     "execution_count": 28,
     "metadata": {},
     "output_type": "execute_result"
    }
   ],
   "source": [
    "nodes = [\"carp\", \"cow\", \"donkey\", \"horse\", \"human\", \"gorilla\", \"rabbit\"]\n",
    "\n",
    "# remake the original dictioary\n",
    "diff_dict = {}\n",
    "for i in range(len(animals)):\n",
    "    for j in range(i, len(animals)):\n",
    "        if i != j: \n",
    "            diff = differences(animals[i], animals[j])\n",
    "            diff_dict[(nodes[i], nodes[j])] = diff\n",
    "            \n",
    "# testing the update function\n",
    "update_diff_dict(diff_dict, nodes, ('human', 'gorilla'))"
   ]
  },
  {
   "cell_type": "markdown",
   "id": "f55a18be-710f-46b6-8415-3919dd62ad3f",
   "metadata": {},
   "source": [
    "## Part 5: Iterating to make a tree!\n",
    "\n",
    "We'll use the following approach to repeatedly build up our tree:\n",
    "\n",
    "- Use our `pair_group` function to find the two most closely related nodes\n",
    "- With the pair group in hand, use our `update_diff_dict` function to get updated versions of our dictionary and our list of nodes\n",
    "- Repeat until the `nodes` list has a length of 1, meaning that all organisms have been added to the tree"
   ]
  },
  {
   "cell_type": "code",
   "execution_count": 29,
   "id": "92572fcd-4923-4d61-a47f-bace16f1ea47",
   "metadata": {},
   "outputs": [],
   "source": [
    "while len(nodes) > 1:\n",
    "    pg = pair_group(diff_dict)\n",
    "    diff_dict, nodes = update_diff_dict(diff_dict, nodes, pg)"
   ]
  },
  {
   "cell_type": "markdown",
   "id": "43cd45dd-0015-4c7d-891b-e1e3ef07e3ff",
   "metadata": {},
   "source": [
    "## Part 6: intepreting the results\n",
    "\n",
    "Take a look at your final `nodes` list. How does the tree your created match what we saw in class (Lesson 22)? Specifically, does the cow get placed correctly?"
   ]
  },
  {
   "cell_type": "code",
   "execution_count": 30,
   "id": "c901dc52-2ea0-4e5c-89ff-2927eb70f568",
   "metadata": {},
   "outputs": [
    {
     "data": {
      "text/plain": [
       "[('carp', ('rabbit', (('donkey', 'horse'), ('cow', ('human', 'gorilla')))))]"
      ]
     },
     "execution_count": 30,
     "metadata": {},
     "output_type": "execute_result"
    }
   ],
   "source": [
    "nodes"
   ]
  },
  {
   "cell_type": "markdown",
   "id": "515016c3-2c0d-4564-b210-55a9823bac8a",
   "metadata": {},
   "source": [
    "## Extra credit: Taking an weighted average\n",
    "\n",
    "The way we've written the code so far is not fully correct as we should take a *weighted average* when updating the differences, weighting by the number of organisms in the given nodes. This is actually a fairly difficult problem since a node like `('cow', ('human', 'gorilla')` has three organisms in it, but has a length of two. To figure out the true number of organisms in a given node, you may want to implement a *recursive approach* to repeatedly peel back all the layers. \n",
    "\n",
    "For extra credit, implement these changes to correctly update the differences based on a weighted average. "
   ]
  },
  {
   "cell_type": "code",
   "execution_count": null,
   "id": "4848ad47-1338-4c06-9c9f-a4c84e7ae891",
   "metadata": {},
   "outputs": [],
   "source": []
  }
 ],
 "metadata": {
  "kernelspec": {
   "display_name": "Python 3 (ipykernel)",
   "language": "python",
   "name": "python3"
  },
  "language_info": {
   "codemirror_mode": {
    "name": "ipython",
    "version": 3
   },
   "file_extension": ".py",
   "mimetype": "text/x-python",
   "name": "python",
   "nbconvert_exporter": "python",
   "pygments_lexer": "ipython3",
   "version": "3.7.13"
  }
 },
 "nbformat": 4,
 "nbformat_minor": 5
}
