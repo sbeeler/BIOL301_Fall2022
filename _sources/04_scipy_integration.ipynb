{
 "cells": [
  {
   "cell_type": "markdown",
   "id": "703de9b2-8595-4bee-b5cd-d348f86c1b3b",
   "metadata": {},
   "source": [
    "# Week 4: Numerical integration with scipy\n",
    "\n",
    "<hr/>"
   ]
  },
  {
   "cell_type": "code",
   "execution_count": 4,
   "id": "03dcd400-7944-4acc-a1fa-ef87aafdb404",
   "metadata": {},
   "outputs": [],
   "source": [
    "# import the necessary modules\n",
    "import numpy as np\n",
    "import matplotlib.pyplot as plt\n",
    "\n",
    "# for numerical inegration\n",
    "import scipy.integrate\n",
    "\n",
    "# for pretty plots\n",
    "import seaborn as sns\n",
    "sns.set()"
   ]
  },
  {
   "cell_type": "markdown",
   "id": "4d027d90-0382-4346-a695-c3c262da2fa0",
   "metadata": {},
   "source": [
    "## Learning objectives \n",
    "\n",
    "- Conduct numerical integration with a built-in function from `scipy`\n",
    "- Recall all the pieces you need for numerical integration\n",
    "- Begin to explore the dynamics of a predator-prey model, being able to explain how it differs from the rabbit vs. sheep example we discussed before"
   ]
  },
  {
   "cell_type": "markdown",
   "id": "927009c7-d7a3-4e18-bbff-92cd2aa32d88",
   "metadata": {},
   "source": [
    "## Introducing `scipy`\n",
    "\n",
    "As we've seen, doing numerical integration ourselves can be kinda cumbersome. While the Euler method is the easiest to set up, it requires a very small time step, $\\Delta t$ in order to be accurate. Higher-order integrations require fewer time steps, but are more technically challenging to set up. So we will now turn to a built-in function from `scipy`.\n",
    "\n",
    "Below I show the pieces that go into doing numerical integration in Python. First we specify the equation for the *right-hand-side* (RHS) of our differential equations. Below I consider a simple system of two populations growing independently from each other, each with their won parameters of logistic growth:\n",
    "\n",
    "$$\\dot x = r_1 x \\left( 1-\\frac{x}{K_1} \\right)$$\n",
    "\n",
    "$$\\dot y = r_2 y \\left( 1-\\frac{y}{K_2} \\right)$$"
   ]
  },
  {
   "cell_type": "code",
   "execution_count": 8,
   "id": "e16470d6-e599-4253-a9a0-72a8c279d759",
   "metadata": {},
   "outputs": [],
   "source": [
    "def logistic_growth_rhs(xy, t, r1, K1, r2, K2):\n",
    "    \"\"\"\n",
    "    Right hand side for logistic growth.\n",
    "    Looking at two population silumtaneously \n",
    "    \"\"\"\n",
    "    x, y = xy\n",
    "    \n",
    "    # Compute dx/dt\n",
    "    dx_dt =  r1*x*(1-x/K1)\n",
    "    \n",
    "     # Compute dy/dt\n",
    "    dy_dt =  r2*y*(1-y/K2)\n",
    "\n",
    "    # Return the result as a NumPy array\n",
    "    return np.array([dx_dt, dy_dt])"
   ]
  },
  {
   "cell_type": "markdown",
   "id": "78e03473-ad85-4a1a-96a4-e0cdd51b5912",
   "metadata": {},
   "source": [
    "Next we specify all the pieces we'll need for the actual integration:\n",
    "- The time points we want to integrate over\n",
    "- The initial condition of our system\n",
    "- The values of any of our parameters\n",
    "\n",
    "We can then call our `scipy.integrat.odeint` fucntion which takes the following input in turn:\n",
    "- The function that specifies our RHS equations, `logistic_growth_rhs` in this case\n",
    "- Our array of the initial conditions, `xy_0`\n",
    "- The array of time values, `t`\n",
    "- And `args`, a tuple containing all of our parameters "
   ]
  },
  {
   "cell_type": "code",
   "execution_count": 13,
   "id": "6cc45e44-0bce-4182-a812-d8bf0c0311c2",
   "metadata": {},
   "outputs": [],
   "source": [
    "# Time points we want for the solution\n",
    "\n",
    "# Initial conditions\n",
    "\n",
    "# Parameters\n",
    "\n",
    "# Package parameters into a tuple\n",
    "\n",
    "# Integrate ODES\n",
    "xy = scipy.integrate.odeint(logistic_growth_rhs, xy_0, t, args=args)"
   ]
  },
  {
   "cell_type": "markdown",
   "id": "91997b4b-0a6f-4893-84d4-10c02daa0180",
   "metadata": {},
   "source": [
    "The results of the integration return a 2D array, `xy`, which looks like this:"
   ]
  },
  {
   "cell_type": "code",
   "execution_count": 14,
   "id": "c70a7c63-7094-4b53-ab86-1f778646f99c",
   "metadata": {},
   "outputs": [
    {
     "data": {
      "text/plain": [
       "array([[1.00000000e+00, 1.00000000e+00],\n",
       "       [1.02020116e+00, 1.01512064e+00],\n",
       "       [1.04080992e+00, 1.03046977e+00],\n",
       "       ...,\n",
       "       [9.99997857e+02, 1.99874052e+03],\n",
       "       [9.99997899e+02, 1.99875927e+03],\n",
       "       [9.99997941e+02, 1.99877775e+03]])"
      ]
     },
     "execution_count": 14,
     "metadata": {},
     "output_type": "execute_result"
    }
   ],
   "source": [
    "xy"
   ]
  },
  {
   "cell_type": "markdown",
   "id": "87db80ed-2ac6-4b19-b668-b6dc5d38df55",
   "metadata": {},
   "source": [
    "Let's pause for a moment and think about how we might plot this information?"
   ]
  },
  {
   "cell_type": "code",
   "execution_count": null,
   "id": "706b3814-9d0c-4624-a583-c9834043b879",
   "metadata": {},
   "outputs": [],
   "source": []
  },
  {
   "cell_type": "markdown",
   "id": "066709ea-7813-4674-a40a-1cfd48a3c75f",
   "metadata": {},
   "source": [
    "Now it's your turn! Returning to our example from Tuesday, let's now integrate this same system of equation with `scipy`.\n",
    "\n",
    "Also, while I almost always advocate for writing code yourself, I did want to share this nice web applet that can nicely display the slope field and various trajectories, as another way to get a sense of how the system will be have over time:\n",
    "\n",
    "https://aeb019.hosted.uark.edu/pplane.html\n",
    "\n",
    "## Numerically integrating rabbits vs. sheep"
   ]
  },
  {
   "cell_type": "markdown",
   "id": "6fb514c8-1a9b-4ec6-aeeb-406acb399ee2",
   "metadata": {},
   "source": [
    "As a reminder, here is the system of equations we used to represent rabbits, $x(t)$ and of sheep, $y(t)$: \n",
    "\n",
    "$$\\dot x = x(3-x-2y)$$\n",
    "\n",
    "$$\\dot y = y(2-x-y)$$ \n",
    "\n",
    "Below, conduct the numerical integration with `scipy` and plot the results:"
   ]
  },
  {
   "cell_type": "code",
   "execution_count": null,
   "id": "bc6cfc85-df70-4a34-a3f1-919167d783cb",
   "metadata": {},
   "outputs": [],
   "source": []
  },
  {
   "cell_type": "markdown",
   "id": "78c5c17c-132e-48e4-b579-b14a94cdf711",
   "metadata": {},
   "source": [
    "## Thinking about rabbits vs. foxes\n",
    "\n",
    "As an extension of the Lotka-Volterra model, let's now consider rabbits vs. foxes instead. A version of this looks like \n",
    "\n",
    "$$\\dot{R}=a R-b R F$$\n",
    "\n",
    "$$\\dot{F}=-c F+d R F$$ \n",
    "\n",
    "To again get some intuition of how this system works:\n",
    "- what is the meaning of each term? why does it have the sign that it does?\n",
    "- how does this differ from the rabbits vs. sheep?\n",
    "- how might this change the behavior?\n",
    "\n",
    "If we have time, try to integrate this system over time. Think about the meaning of each parameter, and try to give an educated guess at their values."
   ]
  },
  {
   "cell_type": "code",
   "execution_count": null,
   "id": "a1ae3e05-53cb-4992-8f40-9568c149c636",
   "metadata": {},
   "outputs": [],
   "source": []
  }
 ],
 "metadata": {
  "kernelspec": {
   "display_name": "Python 3 (ipykernel)",
   "language": "python",
   "name": "python3"
  },
  "language_info": {
   "codemirror_mode": {
    "name": "ipython",
    "version": 3
   },
   "file_extension": ".py",
   "mimetype": "text/x-python",
   "name": "python",
   "nbconvert_exporter": "python",
   "pygments_lexer": "ipython3",
   "version": "3.7.13"
  }
 },
 "nbformat": 4,
 "nbformat_minor": 5
}
