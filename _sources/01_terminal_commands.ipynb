{
 "cells": [
  {
   "cell_type": "markdown",
   "metadata": {},
   "source": [
    "# Week 1: Terminal Commands\n",
    "\n",
    "<hr/>"
   ]
  },
  {
   "cell_type": "markdown",
   "metadata": {},
   "source": [
    "## Specifying file paths\n",
    "\n",
    "**It's essential to remember that Mac and Windows use different slashes when specifying file paths!**\n",
    "\n",
    "On Mac, it would be `dir/myfile.txt`.\n",
    "\n",
    "While on Windows, it would be `\"dir\\myfile.txt\"`.\n",
    "\n",
    "## Command line cheat sheet\n",
    "\n",
    "As a useful reference, here are all the commands we covered in this recitation, where the text in brackets represents the file or directory you are interested in manipulating:\n",
    "\n",
    "| Command | PowerShell users | Description | \n",
    "| ---- | ---- | ---- |\n",
    "| `pwd `| |print working directory | \n",
    "| `ls` | |list contents of the current directory | \n",
    "| `cd` || navigate to your home directory |  \n",
    "| `cd [dir]` || navigate to the specified directory | \n",
    "| `cd ../` | `cd ..\\` |navigate \"up\" one directory, to the parent directory | \n",
    "| `mkdir [dir]` | or `md [dir]`| make a new directory |  \n",
    "| `rmdir [dir]` | |remove an *empty* directory |  \n",
    "| `cp [file] [dir]` | |copy a file to a directory |\n",
    "| `cp [dir1] [dir2]` | |copy a directory to a another directory |\n",
    "| `mv [file] [dir]` | |move a file to a directory |\n",
    "| `mv [filename1] [filename2]` | |rename a file |\n",
    "| `mv [dir1] [dir2]` | |move a directory to another directory |\n",
    "| `rm [file]` | |remove a file |\n",
    "| `cat [file]` | `!type \"[file]\"` |display file to screen (best for small files) |\n",
    "| `head -n [file]` | `gc [file] -head 5` | display first $n$ lines of a file |\n",
    "| `tail -n [file]` | `gc [file] -tail 5` | display last $n$ lines of a file |\n",
    "\n"
   ]
  },
  {
   "cell_type": "markdown",
   "metadata": {},
   "source": [
    "## Computing environment"
   ]
  },
  {
   "cell_type": "code",
   "execution_count": 1,
   "metadata": {},
   "outputs": [
    {
     "name": "stdout",
     "output_type": "stream",
     "text": [
      "CPython 3.7.13\n",
      "IPython 7.31.1\n",
      "\n",
      "jupyterlab 3.4.4\n"
     ]
    }
   ],
   "source": [
    "%load_ext watermark\n",
    "%watermark -v -p jupyterlab"
   ]
  },
  {
   "cell_type": "markdown",
   "metadata": {},
   "source": [
    "## Attribution\n",
    "\n",
    "Materials for this notebook were borrowed from © 2019 [Justin Bois](http://bois.caltech.edu/teaching.html), as licensed under a Creative Commons Attribution License CC-BY 4.0. All code contained herein is licensed under an MIT license."
   ]
  }
 ],
 "metadata": {
  "kernelspec": {
   "display_name": "Python 3 (ipykernel)",
   "language": "python",
   "name": "python3"
  },
  "language_info": {
   "codemirror_mode": {
    "name": "ipython",
    "version": 3
   },
   "file_extension": ".py",
   "mimetype": "text/x-python",
   "name": "python",
   "nbconvert_exporter": "python",
   "pygments_lexer": "ipython3",
   "version": "3.7.13"
  }
 },
 "nbformat": 4,
 "nbformat_minor": 4
}
