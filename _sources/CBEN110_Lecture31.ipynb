{
 "cells": [
  {
   "cell_type": "markdown",
   "metadata": {
    "id": "VgAiVKPAmDDY"
   },
   "source": [
    "# Today's Learning Objectives\n",
    "\n",
    "- Explain how we can find an open reading frame (ORF)\n",
    "- *Appreciate* how code is relevant (and necessary!) to tackle some biological problems!  \n",
    "\n",
    "# If you get stuck:\n",
    "- Make sure to hit all the \"play\" buttons\n",
    "- Read the **bottom** of the error messages \n",
    "- Check for typos vigilantly! Working in groups is great for this!\n",
    "- Watch out for indentation -- Python cares about white space\n",
    "- Worst case: use pen and paper!\n",
    "\n",
    "# Part 1: Python basics.\n",
    "\n",
    "The first piece of code anyone ever learns to write:"
   ]
  },
  {
   "cell_type": "code",
   "execution_count": 4,
   "metadata": {
    "colab": {
     "base_uri": "https://localhost:8080/",
     "height": 169
    },
    "id": "-85M5e7OtZYS",
    "outputId": "3458a3ce-6cf9-449f-d8a1-9ce14e296d13"
   },
   "outputs": [
    {
     "name": "stdout",
     "output_type": "stream",
     "text": [
      "Hello, World!\n"
     ]
    }
   ],
   "source": [
    "print(\"Hello, World!\")"
   ]
  },
  {
   "cell_type": "code",
   "execution_count": null,
   "metadata": {
    "id": "Rg1pT0GthOVS"
   },
   "outputs": [],
   "source": []
  },
  {
   "cell_type": "markdown",
   "metadata": {
    "id": "FBPsO9sLnPKc"
   },
   "source": [
    "First, we can use Python as a glorified calculator:"
   ]
  },
  {
   "cell_type": "code",
   "execution_count": 5,
   "metadata": {
    "id": "obOX5kc7qCKx"
   },
   "outputs": [
    {
     "data": {
      "text/plain": [
       "12"
      ]
     },
     "execution_count": 5,
     "metadata": {},
     "output_type": "execute_result"
    }
   ],
   "source": [
    "5+7"
   ]
  },
  {
   "cell_type": "code",
   "execution_count": 6,
   "metadata": {
    "id": "m9t1QMNtnogo"
   },
   "outputs": [
    {
     "data": {
      "text/plain": [
       "35"
      ]
     },
     "execution_count": 6,
     "metadata": {},
     "output_type": "execute_result"
    }
   ],
   "source": [
    "5*7"
   ]
  },
  {
   "cell_type": "markdown",
   "metadata": {
    "id": "9YtFdJwUnLdl"
   },
   "source": [
    "But more importantly, we may want to save values as *variables* in order to use them repeatedly. "
   ]
  },
  {
   "cell_type": "code",
   "execution_count": 7,
   "metadata": {
    "id": "ONZh1uS7mAeL"
   },
   "outputs": [
    {
     "data": {
      "text/plain": [
       "12"
      ]
     },
     "execution_count": 7,
     "metadata": {},
     "output_type": "execute_result"
    }
   ],
   "source": [
    "a = 5\n",
    "b = 7 \n",
    "a + b"
   ]
  },
  {
   "cell_type": "code",
   "execution_count": 8,
   "metadata": {
    "id": "tDEu2s3YqGNz"
   },
   "outputs": [
    {
     "data": {
      "text/plain": [
       "35"
      ]
     },
     "execution_count": 8,
     "metadata": {},
     "output_type": "execute_result"
    }
   ],
   "source": [
    "a * b"
   ]
  },
  {
   "cell_type": "markdown",
   "metadata": {
    "id": "TW6nYiI7o98h"
   },
   "source": [
    "We can also save values other than numbers. Specially, a sequence of characters can be saved as a variable known as a *string*. Strings are denoted with the quotation marks. "
   ]
  },
  {
   "cell_type": "code",
   "execution_count": 12,
   "metadata": {
    "id": "avt9_61UpViY"
   },
   "outputs": [
    {
     "data": {
      "text/plain": [
       "'TCGATCGATCGATCGGCTAGCTTGGCTAGCT'"
      ]
     },
     "execution_count": 12,
     "metadata": {},
     "output_type": "execute_result"
    }
   ],
   "source": [
    "DNA1 = \"TCGATCGATCGATCG\"\n",
    "DNA2 = \"GCTAGCTTGGCTAGCT\"\n",
    "DNA1 + DNA2 "
   ]
  },
  {
   "cell_type": "markdown",
   "metadata": {
    "id": "KyQPCNOKqNNY"
   },
   "source": [
    "# Part 2: Finding the complement of a DNA sequence.\n",
    "\n",
    "Let's now write our first piece of code to return the complement of a given DNA basepair."
   ]
  },
  {
   "cell_type": "code",
   "execution_count": 23,
   "metadata": {
    "id": "v9uWtLQiqH_r"
   },
   "outputs": [
    {
     "data": {
      "text/plain": [
       "'T'"
      ]
     },
     "execution_count": 23,
     "metadata": {},
     "output_type": "execute_result"
    }
   ],
   "source": [
    "bp = \"A\"\n",
    "\n",
    "# comments\n",
    "if bp == \"A\":\n",
    "    ans = \"T\"\n",
    "\n",
    "if bp == \"T\":\n",
    "    ans = \"A\"\n",
    "    \n",
    "if bp == \"C\":\n",
    "    ans = \"G\"\n",
    "\n",
    "if bp == \"G\":\n",
    "    ans = \"C\"\n",
    "    \n",
    "ans"
   ]
  },
  {
   "cell_type": "markdown",
   "metadata": {
    "id": "tWwNkKBarG8g"
   },
   "source": [
    "While this is nice, we may want to get the reverse complement of an entire DNA sequence, and not just a single basepair. We will use a structure known as a `for` loop, which allows us to do the same action over and over again. "
   ]
  },
  {
   "cell_type": "code",
   "execution_count": 25,
   "metadata": {
    "id": "1tL4ctANrGEX"
   },
   "outputs": [
    {
     "data": {
      "text/plain": [
       "'TAGCTGATGCTGTACTGATGATCTGTAGTAGCGTATATCTCGTA'"
      ]
     },
     "execution_count": 25,
     "metadata": {},
     "output_type": "execute_result"
    }
   ],
   "source": [
    "DNA = \"ATCGACTACGACATGACTACTAGACATCATCGCATATAGAGCAT\"\n",
    "\n",
    "ans = \"\"\n",
    "\n",
    "for bp in DNA:\n",
    "    \n",
    "    if bp == \"A\":\n",
    "        ans = ans + \"T\"\n",
    "\n",
    "    if bp == \"T\":\n",
    "        ans = ans + \"A\"\n",
    "\n",
    "    if bp == \"C\":\n",
    "        ans = ans + \"G\"\n",
    "\n",
    "    if bp == \"G\":\n",
    "        ans = ans + \"C\"\n",
    "    \n",
    "ans"
   ]
  },
  {
   "cell_type": "markdown",
   "metadata": {
    "id": "fy8_a47Wtnx_"
   },
   "source": [
    "Lastly, we should wrap all this code into a *function*, so that we can easily use this code over an over again."
   ]
  },
  {
   "cell_type": "code",
   "execution_count": 26,
   "metadata": {
    "id": "cDqYpfRYtm5J"
   },
   "outputs": [],
   "source": [
    "def complement(DNA):\n",
    "    \n",
    "    ans = \"\"\n",
    "    \n",
    "    for bp in DNA:\n",
    "    \n",
    "        if bp == \"A\":\n",
    "            ans = ans + \"T\"\n",
    "\n",
    "        if bp == \"T\":\n",
    "            ans = ans + \"A\"\n",
    "\n",
    "        if bp == \"C\":\n",
    "            ans = ans + \"G\"\n",
    "\n",
    "        if bp == \"G\":\n",
    "            ans = ans + \"C\"\n",
    "    \n",
    "    return ans"
   ]
  },
  {
   "cell_type": "markdown",
   "metadata": {
    "id": "PszVdLjZuGxd"
   },
   "source": [
    "We can now *call* this function below, to make sure it works with different input:"
   ]
  },
  {
   "cell_type": "code",
   "execution_count": 27,
   "metadata": {
    "id": "p49zxpKEsW5l"
   },
   "outputs": [
    {
     "data": {
      "text/plain": [
       "'TAGTAGTGATAGTGATGATGATGATGATATCGCGCGCGATAGCTGCGT'"
      ]
     },
     "execution_count": 27,
     "metadata": {},
     "output_type": "execute_result"
    }
   ],
   "source": [
    "complement(\"ATCATCACTATCACTACTACTACTACTATAGCGCGCGCTATCGACGCA\")"
   ]
  },
  {
   "cell_type": "code",
   "execution_count": 28,
   "metadata": {
    "id": "qNRWPDbZslDO"
   },
   "outputs": [
    {
     "data": {
      "text/plain": [
       "'CGACGTAGCTAG'"
      ]
     },
     "execution_count": 28,
     "metadata": {},
     "output_type": "execute_result"
    }
   ],
   "source": [
    "complement(\"GCTGCATCGATC\")"
   ]
  },
  {
   "cell_type": "code",
   "execution_count": 29,
   "metadata": {
    "id": "f7gJ_fN7uSDi"
   },
   "outputs": [
    {
     "data": {
      "text/plain": [
       "'TAAA'"
      ]
     },
     "execution_count": 29,
     "metadata": {},
     "output_type": "execute_result"
    }
   ],
   "source": [
    "complement(\"ATTT\")"
   ]
  },
  {
   "cell_type": "markdown",
   "metadata": {
    "id": "LO7vNupTxZC0"
   },
   "source": [
    "# Part 3: Finding an open reading frame (ORF).\n",
    "\n",
    "As another DNA-related task, we may want to find an open reading frame (ORF) in a given DNA sequence. And open reading frame is a segment of DNA that begins with a start codon (ATG) and ends with one of the stop codons (TAG, TAA, or TGA).\n",
    "\n",
    "Below, I define the `DNA` variable we will be using."
   ]
  },
  {
   "cell_type": "markdown",
   "metadata": {
    "id": "ljekGl20IbtX"
   },
   "source": [
    "First let's find where the start codon is in the DNA sequence:"
   ]
  },
  {
   "cell_type": "code",
   "execution_count": null,
   "metadata": {
    "id": "_VRtc_v-xw_I"
   },
   "outputs": [],
   "source": []
  },
  {
   "cell_type": "code",
   "execution_count": null,
   "metadata": {
    "id": "fbY-DUSDx2ic"
   },
   "outputs": [],
   "source": []
  },
  {
   "cell_type": "markdown",
   "metadata": {
    "id": "NNfwd3I-Is3v"
   },
   "source": [
    "Using the position of the start codon, we will now look for a stop codon in the same reading frame, by looping in steps of three."
   ]
  },
  {
   "cell_type": "code",
   "execution_count": null,
   "metadata": {
    "id": "vclnAH_qyGjw"
   },
   "outputs": [],
   "source": [
    "for i in range(start, len(DNA), 3):\n",
    "\n",
    "  "
   ]
  },
  {
   "cell_type": "markdown",
   "metadata": {
    "id": "Em3LPhW8JY_O"
   },
   "source": [
    "With the start and end of the ORF, let's look at only that ORF region of the DNA."
   ]
  },
  {
   "cell_type": "code",
   "execution_count": null,
   "metadata": {
    "id": "v5pBYrwtyffP"
   },
   "outputs": [],
   "source": []
  },
  {
   "cell_type": "code",
   "execution_count": null,
   "metadata": {
    "id": "bViVd9oIJa2P"
   },
   "outputs": [],
   "source": []
  },
  {
   "cell_type": "markdown",
   "metadata": {
    "id": "Yz6t0DanFibD"
   },
   "source": [
    "Again, let's wrap all this code into a function."
   ]
  },
  {
   "cell_type": "code",
   "execution_count": null,
   "metadata": {
    "id": "KX-Mrj1cFhyJ"
   },
   "outputs": [],
   "source": [
    "def first_ORF(DNA):\n",
    "\n",
    "  return DNA[start:end]"
   ]
  },
  {
   "cell_type": "markdown",
   "metadata": {
    "id": "smXbV-93LzNj"
   },
   "source": [
    "And let's try the function out!"
   ]
  },
  {
   "cell_type": "code",
   "execution_count": null,
   "metadata": {
    "id": "tCovn6qm0MAp"
   },
   "outputs": [],
   "source": []
  },
  {
   "cell_type": "code",
   "execution_count": null,
   "metadata": {
    "id": "sIv46FlOF4i7"
   },
   "outputs": [],
   "source": []
  }
 ],
 "metadata": {
  "colab": {
   "collapsed_sections": [],
   "provenance": []
  },
  "kernelspec": {
   "display_name": "Python 3 (ipykernel)",
   "language": "python",
   "name": "python3"
  },
  "language_info": {
   "codemirror_mode": {
    "name": "ipython",
    "version": 3
   },
   "file_extension": ".py",
   "mimetype": "text/x-python",
   "name": "python",
   "nbconvert_exporter": "python",
   "pygments_lexer": "ipython3",
   "version": "3.7.13"
  }
 },
 "nbformat": 4,
 "nbformat_minor": 4
}
