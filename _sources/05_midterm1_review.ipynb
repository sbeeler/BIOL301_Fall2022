{
 "cells": [
  {
   "cell_type": "markdown",
   "id": "3b77f571-6aa5-4a2a-a772-396124dfefeb",
   "metadata": {},
   "source": [
    "# Midterm 1 Review\n",
    "\n",
    "<hr/>"
   ]
  },
  {
   "cell_type": "code",
   "execution_count": 8,
   "id": "c35313e2-bb24-49ac-a4f0-205798d8c011",
   "metadata": {},
   "outputs": [],
   "source": [
    "# import the necessary modules\n",
    "import numpy as np\n",
    "import matplotlib.pyplot as plt\n",
    "\n",
    "# for pretty plots\n",
    "import seaborn as sns\n",
    "sns.set()"
   ]
  },
  {
   "cell_type": "markdown",
   "id": "dc270b33-a7ea-46dd-a500-b50b4887f332",
   "metadata": {},
   "source": [
    "# Fourth-order Runge-Kutta method\n",
    "\n",
    "Lastly, an even more nuanced approximation would incorporate even more points, such as the fourth-order Runge-Kutta method. Here we start to see the trade-off between the number of calculations required and the quality of the approximation. While Runge-Kutta will perform better the the Euler method, it require a total of five calculations for every time step. For this problem, the additional computation won't be that noticeable, this may be something you have to consider for more complicated problems. \n",
    "\n",
    "In general for a differential equation $f(x)$, the approximation for $x$ at time $t + \\Delta t$ is computed as follows\n",
    "\n",
    "$$k_1=f\\left(x_t\\right) \\Delta t$$\n",
    "\n",
    "$$k_2=f\\left(x_t+\\frac{1}{2} k_1\\right) \\Delta t $$\n",
    "\n",
    "$$k_3=f\\left(x_t+\\frac{1}{2} k_2\\right) \\Delta t$$\n",
    "\n",
    "$$k_4=f\\left(x_t+k_3\\right) \\Delta t $$\n",
    "\n",
    "$$x_{t+\\Delta t} = x_t + \\frac{1}{6}(k_1 + 2k_2 + 2k_3 + k_4)$$"
   ]
  },
  {
   "cell_type": "markdown",
   "id": "509a4246-dad3-4a35-90a5-924e22a5f1b0",
   "metadata": {},
   "source": [
    "## Re-vamped version\n",
    "\n",
    "This notation was a little confusing, with $f(x)$ being a generic term, but our specific case using different terminology. Also, this approach gets even more confusing for more complicated functions such as logistic growth. In this case, let's consider the function $f(N)$, which will be the differential equation for logistic growth:\n",
    "\n",
    "$$f(N) = \\dot N = rN \\left(1 - \\frac{N}{K} \\right).$$\n",
    "\n",
    "So this function takes in a value of $N$ and returns the value of derivative, at that value of $N$. So below, I flesh out a more explicit version of the Runge-Kutta approximation in this case:\n",
    "\n",
    "$$ a = f(N_t) \\Delta t$$\n",
    "\n",
    "$$ N_a = N_t + \\frac{1}{2}a$$\n",
    "\n",
    "$$ b = f(N_a) \\Delta t$$\n",
    "\n",
    "$$ N_b = N_t + \\frac{1}{2}b$$\n",
    "\n",
    "$$ c = f(N_b) \\Delta t$$\n",
    "\n",
    "$$ N_c = N_t + c$$\n",
    "\n",
    "$$ d = f(N_c) \\Delta t$$\n",
    "\n",
    "$$N_{t+\\Delta t} = N_t + \\frac{1}{6}(a + 2b + 2c + d)$$\n",
    "\n",
    "Throughout, $N_t$ is our current value of $N,$ which we get from our array at `N[t]`. The values $a, b, c,$ and $d$ are all estimates of the predicted change in $N,$ each found by evaluating $f(N)$ at a different value of $N.$ This is what makes this a **higher-order approximation**, as we are using multiple locations to arrive at our final approximation. Using those values of $a, b, c,$ and $d$ we arrive at more and more precise estimates of $N$ along way: $N_a,$ $N_b,$ and $N_c.$ Ultimately, all these pieces come together to form our final approximation of $N$ in the future, $N_{t+\\Delta t}$.\n",
    "\n",
    "Use this as a guide to compute the Runge-Kutta approximation for logistic growth:"
   ]
  },
  {
   "cell_type": "code",
   "execution_count": 2,
   "id": "c8c7c03d-ed12-4bde-9c7e-a6c4a9c0c878",
   "metadata": {},
   "outputs": [],
   "source": [
    "# parameters of the model\n",
    "K = 1000\n",
    "r = 0.5\n",
    "N_0 = 2\n",
    "\n",
    "# parameters for our integration\n",
    "dt = 1 # min\n",
    "total_time = 25 # min\n",
    "\n",
    "# number of steps that will be taken\n",
    "num_steps = int(total_time/dt)\n",
    "\n",
    "# initilize an array of length num_steps into which to store values of N\n",
    "N = np.zeros(num_steps)\n",
    "N[0] = N_0"
   ]
  },
  {
   "cell_type": "markdown",
   "id": "5e93f592-aa05-41ae-b2b8-a22eb10deceb",
   "metadata": {},
   "source": [
    "Below is my solution for this:"
   ]
  },
  {
   "cell_type": "code",
   "execution_count": 3,
   "id": "0129b2ef-d702-4a4d-97e9-8688069d4b11",
   "metadata": {},
   "outputs": [],
   "source": [
    "# numerically integrate by looping through N\n",
    "for t in range(0,num_steps-1):\n",
    "    \n",
    "    a = r*N[t]*(1-N[t]/K)*dt\n",
    "    N_a = N[t] + 0.5*a\n",
    "\n",
    "    b = r*N_a*(1-N_a/K)*dt\n",
    "    N_b = N[t] + 0.5*b\n",
    "    \n",
    "    c = r*N_b*(1-N_b/K)*dt\n",
    "    N_c = N[t] + c\n",
    "    \n",
    "    d = r*N_c*(1-N_c/K)*dt\n",
    "    \n",
    "    # final approximation for the new value of N\n",
    "    N_new = N[t] + (1/6)*(a + 2*b + 2*c + d)\n",
    "    \n",
    "    # update the N array\n",
    "    N[t+1] = N_new"
   ]
  },
  {
   "cell_type": "code",
   "execution_count": 4,
   "id": "032ed687-fee0-4ce3-a0da-f03402dd3f2a",
   "metadata": {},
   "outputs": [
    {
     "data": {
      "text/plain": [
       "<matplotlib.legend.Legend at 0x7fd9c6379490>"
      ]
     },
     "execution_count": 4,
     "metadata": {},
     "output_type": "execute_result"
    },
    {
     "data": {
      "image/png": "[encoded data removed]",
      "text/plain": [
       "<Figure size 432x288 with 1 Axes>"
      ]
     },
     "metadata": {
      "needs_background": "light"
     },
     "output_type": "display_data"
    }
   ],
   "source": [
    "times = np.arange(num_steps)*dt\n",
    "\n",
    "soln_top = K*N_0*np.exp(r*times)\n",
    "soln_bottom = K - N_0*(1-np.exp(r*times))\n",
    "soln = soln_top / soln_bottom\n",
    "\n",
    "plt.plot(times,soln,'-')\n",
    "plt.plot(times,N,'.')\n",
    "plt.xlabel(\"time\")\n",
    "plt.ylabel(\"N\")\n",
    "plt.legend([\"known solution\", \"numerical integration\"])"
   ]
  },
  {
   "cell_type": "markdown",
   "id": "2ae2c8ac-1366-4c91-bdbe-4a7cc128eb47",
   "metadata": {},
   "source": [
    "It got annoying to keep typing out the whole logistic equation, so another way to do this would be to actually define a function, `f` that we can call repeatedly:"
   ]
  },
  {
   "cell_type": "code",
   "execution_count": 5,
   "id": "fc28a25a-1f09-4856-86d1-24af15787288",
   "metadata": {},
   "outputs": [],
   "source": [
    "def f(N):\n",
    "    \"\"\" function for logistic growth \"\"\"\n",
    "    return r*N*(1 - N/K)*dt"
   ]
  },
  {
   "cell_type": "markdown",
   "id": "8d4c8d0b-35b0-4e34-86eb-905a441511f6",
   "metadata": {},
   "source": [
    "With this function in hand, we can now call it within our Runge-Kutta approximation:"
   ]
  },
  {
   "cell_type": "code",
   "execution_count": 6,
   "id": "48aa8426-7c25-47da-aa52-420661e64eed",
   "metadata": {},
   "outputs": [],
   "source": [
    "# numerically integrate by looping through N\n",
    "for t in range(0,num_steps-1):\n",
    "    \n",
    "    a = f(N[t])*dt\n",
    "    N_a = N[t] + 0.5*a\n",
    "\n",
    "    b = f(N_a)*dt\n",
    "    N_b = N[t] + 0.5*b\n",
    "    \n",
    "    c = f(N_b)*dt\n",
    "    N_c = N[t] + c\n",
    "    \n",
    "    d = f(N_c)*dt\n",
    "    \n",
    "    # final approximation for the new value of N\n",
    "    N_new = N[t] + (1/6)*(a + 2*b + 2*c + d)\n",
    "    \n",
    "    # update the N array\n",
    "    N[t+1] = N_new"
   ]
  },
  {
   "cell_type": "markdown",
   "id": "b998bdc2-0411-48d0-b5ec-1060d1b9e7bb",
   "metadata": {},
   "source": [
    "The notation is now a little simpler, and also allows us to more easily repurpose this code for a different differential equation. The only piece we would have to change is the function `f`, as opposed to the content of the `for` loop."
   ]
  },
  {
   "cell_type": "code",
   "execution_count": 7,
   "id": "60701f35-f309-4c41-86c3-76dfd4ab1d6a",
   "metadata": {},
   "outputs": [
    {
     "data": {
      "text/plain": [
       "<matplotlib.legend.Legend at 0x7fd9c638f910>"
      ]
     },
     "execution_count": 7,
     "metadata": {},
     "output_type": "execute_result"
    },
    {
     "data": {
      "image/png": "[encoded data removed]",
      "text/plain": [
       "<Figure size 432x288 with 1 Axes>"
      ]
     },
     "metadata": {
      "needs_background": "light"
     },
     "output_type": "display_data"
    }
   ],
   "source": [
    "times = np.arange(num_steps)*dt\n",
    "\n",
    "soln_top = K*N_0*np.exp(r*times)\n",
    "soln_bottom = K - N_0*(1-np.exp(r*times))\n",
    "soln = soln_top / soln_bottom\n",
    "\n",
    "plt.plot(times,soln,'-')\n",
    "plt.plot(times,N,'.')\n",
    "plt.xlabel(\"time\")\n",
    "plt.ylabel(\"N\")\n",
    "plt.legend([\"known solution\", \"numerical integration\"])"
   ]
  },
  {
   "cell_type": "code",
   "execution_count": null,
   "id": "ed44da2e-4b1b-40da-99ed-2e6de5772c48",
   "metadata": {},
   "outputs": [],
   "source": []
  }
 ],
 "metadata": {
  "kernelspec": {
   "display_name": "Python 3 (ipykernel)",
   "language": "python",
   "name": "python3"
  },
  "language_info": {
   "codemirror_mode": {
    "name": "ipython",
    "version": 3
   },
   "file_extension": ".py",
   "mimetype": "text/x-python",
   "name": "python",
   "nbconvert_exporter": "python",
   "pygments_lexer": "ipython3",
   "version": "3.7.13"
  }
 },
 "nbformat": 4,
 "nbformat_minor": 5
}
