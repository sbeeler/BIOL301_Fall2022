{
 "cells": [
  {
   "cell_type": "markdown",
   "id": "097200ca-0998-4728-9976-fb0a9b69670c",
   "metadata": {},
   "source": [
    "# Week 12: Introduction to recursion\n",
    "\n",
    "<hr>"
   ]
  },
  {
   "cell_type": "code",
   "execution_count": 1,
   "id": "d197fbb4-7351-4231-a40c-df27706ad4ec",
   "metadata": {},
   "outputs": [],
   "source": [
    "import numpy as np"
   ]
  },
  {
   "cell_type": "markdown",
   "id": "7981e2ef-f8ba-4a39-a665-b2c4ddd50fbe",
   "metadata": {},
   "source": [
    "## Computing a factorial\n",
    "\n",
    "Our first recursive function was one to compute the factorial of a number:"
   ]
  },
  {
   "cell_type": "code",
   "execution_count": 2,
   "id": "914c724b-89e5-454b-a78f-777f2287f16b",
   "metadata": {},
   "outputs": [],
   "source": [
    "def factorial(n):\n",
    "    \n",
    "    # base case\n",
    "    if n == 0:\n",
    "        return 1\n",
    "    \n",
    "    else:\n",
    "        return n * factorial(n-1)"
   ]
  },
  {
   "cell_type": "code",
   "execution_count": 3,
   "id": "e5e759e0-b372-4857-8351-76e3f49ea74c",
   "metadata": {},
   "outputs": [
    {
     "data": {
      "text/plain": [
       "24"
      ]
     },
     "execution_count": 3,
     "metadata": {},
     "output_type": "execute_result"
    }
   ],
   "source": [
    "# my last factorial birthday!\n",
    "factorial(4)"
   ]
  },
  {
   "cell_type": "code",
   "execution_count": 4,
   "id": "0b8bdd65-b1b8-442f-82eb-645051a98cbc",
   "metadata": {},
   "outputs": [
    {
     "data": {
      "text/plain": [
       "120"
      ]
     },
     "execution_count": 4,
     "metadata": {},
     "output_type": "execute_result"
    }
   ],
   "source": [
    "factorial(5)"
   ]
  },
  {
   "cell_type": "markdown",
   "id": "118c58f8-3cf8-40de-9c5e-a7e2bc95b0c4",
   "metadata": {},
   "source": [
    "## Counting the number of differences between two sequences\n",
    "\n",
    "Our second recursive function counts up the number of differences between two sequences.\n",
    "\n",
    "Note, that (for now) we are assuming that the two sequences will be the same length, so our base case assumes that if `seq1` is the empty string, `seq2` will also be an empty string. "
   ]
  },
  {
   "cell_type": "code",
   "execution_count": 5,
   "id": "e5a38ed3-1a71-420a-9e2a-b10a68fac3af",
   "metadata": {},
   "outputs": [],
   "source": [
    "def differences(seq1, seq2):\n",
    "    \n",
    "    # base case\n",
    "    if seq1 == \"\":\n",
    "        return 0\n",
    "    \n",
    "    else:\n",
    "        if seq1[0] != seq2[0]:\n",
    "            return 1 + differences(seq1[1:], seq2[1:])\n",
    "        \n",
    "        else:\n",
    "            return differences(seq1[1:], seq2[1:])\n",
    "        "
   ]
  },
  {
   "cell_type": "code",
   "execution_count": 6,
   "id": "f2d03c14-9521-465b-953f-b31a22356097",
   "metadata": {},
   "outputs": [
    {
     "data": {
      "text/plain": [
       "0"
      ]
     },
     "execution_count": 6,
     "metadata": {},
     "output_type": "execute_result"
    }
   ],
   "source": [
    "differences(\"ATCG\",\"ATCG\")"
   ]
  },
  {
   "cell_type": "code",
   "execution_count": 7,
   "id": "1ca3d261-868c-4815-934e-b2c0485049ad",
   "metadata": {},
   "outputs": [
    {
     "data": {
      "text/plain": [
       "4"
      ]
     },
     "execution_count": 7,
     "metadata": {},
     "output_type": "execute_result"
    }
   ],
   "source": [
    "differences(\"ATCG\",\"GCTA\")"
   ]
  },
  {
   "cell_type": "markdown",
   "id": "03e18774-618d-42e1-84d2-6ac9e5dfc60e",
   "metadata": {},
   "source": [
    "## Use-it or lose-it recursion\n",
    "\n",
    "Below we apply the \"use-it or lose-it\" recursion approach for a `make_change` function. "
   ]
  },
  {
   "cell_type": "code",
   "execution_count": 8,
   "id": "1f5c2438-785c-4011-b5f0-6bfd6a347d9d",
   "metadata": {},
   "outputs": [],
   "source": [
    "def make_change(target, denominations):\n",
    "    \"\"\"returns the fewest number of coins needed to reach the target value \n",
    "    given the provided the denominations of coins\"\"\"\n",
    "    \n",
    "    # base case for 0 target\n",
    "    if target == 0:\n",
    "        return 0\n",
    "    \n",
    "    # base case for no denominations left\n",
    "    elif denominations == []:\n",
    "        return np.inf\n",
    "    \n",
    "    # make sure we don't go to a negative target\n",
    "    elif denominations[0] > target:\n",
    "        return make_change(target, denominations[1:])\n",
    "    \n",
    "    # compare use_it vs. lose_it scenarios\n",
    "    else:\n",
    "        use_it = 1 + make_change(target-denominations[0], denominations)\n",
    "        lose_it = make_change(target, denominations[1:])\n",
    "        return min(use_it, lose_it)"
   ]
  },
  {
   "cell_type": "code",
   "execution_count": 9,
   "id": "68eef79a-bdd9-4fa4-bd4a-7bd83bf60ae9",
   "metadata": {},
   "outputs": [
    {
     "data": {
      "text/plain": [
       "2"
      ]
     },
     "execution_count": 9,
     "metadata": {},
     "output_type": "execute_result"
    }
   ],
   "source": [
    "make_change(48, [60,28,24,12,6,3,1])"
   ]
  },
  {
   "cell_type": "code",
   "execution_count": null,
   "id": "628b0103-ea67-4a8a-addc-4cce6d3b4047",
   "metadata": {},
   "outputs": [],
   "source": []
  }
 ],
 "metadata": {
  "kernelspec": {
   "display_name": "Python 3 (ipykernel)",
   "language": "python",
   "name": "python3"
  },
  "language_info": {
   "codemirror_mode": {
    "name": "ipython",
    "version": 3
   },
   "file_extension": ".py",
   "mimetype": "text/x-python",
   "name": "python",
   "nbconvert_exporter": "python",
   "pygments_lexer": "ipython3",
   "version": "3.7.13"
  }
 },
 "nbformat": 4,
 "nbformat_minor": 5
}
